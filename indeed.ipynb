{
 "cells": [
  {
   "cell_type": "code",
   "execution_count": 48,
   "metadata": {},
   "outputs": [],
   "source": [
    "import pandas as pd\n",
    "import seaborn as sns\n",
    "import matplotlib.pyplot as plt\n",
    "import os\n",
    "import numpy as np\n",
    "import plotly.express as px\n",
    "from sklearn.model_selection import KFold, cross_val_score"
   ]
  },
  {
   "cell_type": "markdown",
   "metadata": {},
   "source": [
    "# Predict Ratings of users according to extracted features from Indeed site"
   ]
  },
  {
   "cell_type": "markdown",
   "metadata": {},
   "source": [
    "### Get the data"
   ]
  },
  {
   "cell_type": "markdown",
   "metadata": {},
   "source": [
    "scraping the data from indeed site"
   ]
  },
  {
   "cell_type": "code",
   "execution_count": 47,
   "metadata": {
    "collapsed": true,
    "jupyter": {
     "outputs_hidden": true
    },
    "tags": []
   },
   "outputs": [
    {
     "ename": "IndexError",
     "evalue": "list index out of range",
     "output_type": "error",
     "traceback": [
      "\u001b[1;31m---------------------------------------------------------------------------\u001b[0m",
      "\u001b[1;31mIndexError\u001b[0m                                Traceback (most recent call last)",
      "Input \u001b[1;32mIn [47]\u001b[0m, in \u001b[0;36m<cell line: 8>\u001b[1;34m()\u001b[0m\n\u001b[0;32m     13\u001b[0m P_soup \u001b[38;5;241m=\u001b[39m Soup(P_html, \u001b[38;5;124m\"\u001b[39m\u001b[38;5;124mhtml.parser\u001b[39m\u001b[38;5;124m\"\u001b[39m)\n\u001b[0;32m     14\u001b[0m containers \u001b[38;5;241m=\u001b[39m P_soup\u001b[38;5;241m.\u001b[39mfindAll(\u001b[38;5;124m\"\u001b[39m\u001b[38;5;124mdiv\u001b[39m\u001b[38;5;124m\"\u001b[39m, {\u001b[38;5;124m\"\u001b[39m\u001b[38;5;124mdata-tn-component\u001b[39m\u001b[38;5;124m\"\u001b[39m: \u001b[38;5;124m\"\u001b[39m\u001b[38;5;124morganicJob\u001b[39m\u001b[38;5;124m\"\u001b[39m}) \n\u001b[1;32m---> 15\u001b[0m container \u001b[38;5;241m=\u001b[39m \u001b[43mcontainers\u001b[49m\u001b[43m[\u001b[49m\u001b[38;5;241;43m0\u001b[39;49m\u001b[43m]\u001b[49m\n\u001b[0;32m     16\u001b[0m \u001b[38;5;28;01mfor\u001b[39;00m container \u001b[38;5;129;01min\u001b[39;00m containers:\n\u001b[0;32m     17\u001b[0m     Name \u001b[38;5;241m=\u001b[39m container\u001b[38;5;241m.\u001b[39mfindAll(\u001b[38;5;124m\"\u001b[39m\u001b[38;5;124ma\u001b[39m\u001b[38;5;124m\"\u001b[39m,{\u001b[38;5;124m\"\u001b[39m\u001b[38;5;124mclass\u001b[39m\u001b[38;5;124m\"\u001b[39m: \u001b[38;5;124m\"\u001b[39m\u001b[38;5;124mjobtitle turnstileLink\u001b[39m\u001b[38;5;124m\"\u001b[39m})\n",
      "\u001b[1;31mIndexError\u001b[0m: list index out of range"
     ]
    }
   ],
   "source": [
    "import requests\n",
    "from bs4 import BeautifulSoup as Soup\n",
    "\n",
    "col = ['Name','Company','City','Ratings','Summary','Date']\n",
    "indeed = pd.DataFrame(columns = col)\n",
    "\n",
    "\n",
    "for page in range(0,100):\n",
    "    urls = \"https://www.indeed.com/jobs?q=Software+Engineer&l=94115&radius=25&start=\"\n",
    "    url = urls + str(page*10)\n",
    "    P_url = requests.get(url)\n",
    "    P_html = P_url.text\n",
    "    P_soup = Soup(P_html, \"html.parser\")\n",
    "    containers = P_soup.findAll(\"div\", {\"data-tn-component\": \"organicJob\"}) \n",
    "    container = containers[0]\n",
    "    for container in containers:\n",
    "        Name = container.findAll(\"a\",{\"class\": \"jobtitle turnstileLink\"})\n",
    "        if len(Name) != 0:\n",
    "          name = Name[0].text.strip()\n",
    "        else:\n",
    "          name = \"NaN\"  \n",
    "\n",
    "        Company = container.findAll(\"span\",{\"class\":\"company\"})\n",
    "        if len(Company) != 0:\n",
    "          comp = Company[0].text.strip()\n",
    "        else:\n",
    "          comp = \"NaN\"  \n",
    "        City =  container.findAll('span',{\"class\":\"location accessible-contrast-color-location\"})\n",
    "        if len(City) != 0:\n",
    "          city = City[0].text.strip()\n",
    "        else:\n",
    "          city = \"NaN\"  \n",
    "    \n",
    "        ratings = container.findAll(\"span\",{\"class\":\"ratingsDisplay\"})\n",
    "        if len(ratings) != 0:\n",
    "          rat = ratings[0].text.strip()\n",
    "        else:\n",
    "          rat = \"NaN\"\n",
    "        \n",
    "        Summ = container.findAll(\"div\",{\"class\":\"summary\"})\n",
    "        if len(Summ) != 0:\n",
    "          summ = Summ[0].text.strip()\n",
    "        else:\n",
    "          summ = \"NaN\"  \n",
    "    \n",
    "        date = container.findAll('span',{\"class\":\"date\"})\n",
    "        if len(date) != 0:\n",
    "          dat = date[0].text.strip()\n",
    "        else:\n",
    "          dat = \"NaN\"  \n",
    "\n",
    "        data = pd.DataFrame([[name, comp, city, rat, summ, dat]])\n",
    "        data.columns = col\n",
    "        indeed = indeed.append(data, ignore_index = True)\n",
    "    \n",
    "indeed.to_csv(r'\"C:\\Users\\nurie\\projects\\indeed_job_search\\Indeed_100.csv\"')"
   ]
  },
  {
   "cell_type": "markdown",
   "metadata": {},
   "source": [
    "Read the data from file path"
   ]
  },
  {
   "cell_type": "code",
   "execution_count": 49,
   "metadata": {},
   "outputs": [],
   "source": [
    "file_path = r'C:\\Users\\nurie\\projects\\indeed_job_search\\Indeed_100.csv'\n",
    "file_name = 'indeed_100.csv'"
   ]
  },
  {
   "cell_type": "code",
   "execution_count": 50,
   "metadata": {},
   "outputs": [
    {
     "data": {
      "text/html": [
       "<div>\n",
       "<style scoped>\n",
       "    .dataframe tbody tr th:only-of-type {\n",
       "        vertical-align: middle;\n",
       "    }\n",
       "\n",
       "    .dataframe tbody tr th {\n",
       "        vertical-align: top;\n",
       "    }\n",
       "\n",
       "    .dataframe thead th {\n",
       "        text-align: right;\n",
       "    }\n",
       "</style>\n",
       "<table border=\"1\" class=\"dataframe\">\n",
       "  <thead>\n",
       "    <tr style=\"text-align: right;\">\n",
       "      <th></th>\n",
       "      <th>Unnamed: 0</th>\n",
       "      <th>Name</th>\n",
       "      <th>Company</th>\n",
       "      <th>City</th>\n",
       "      <th>Ratings</th>\n",
       "      <th>Summary</th>\n",
       "      <th>Date</th>\n",
       "    </tr>\n",
       "  </thead>\n",
       "  <tbody>\n",
       "    <tr>\n",
       "      <th>0</th>\n",
       "      <td>0</td>\n",
       "      <td>Software Engineer, Integrations</td>\n",
       "      <td>Square</td>\n",
       "      <td>San Francisco, CA 94103 (South of Market area)</td>\n",
       "      <td>3.7</td>\n",
       "      <td>4+ years of experience developing production s...</td>\n",
       "      <td>1 day ago</td>\n",
       "    </tr>\n",
       "    <tr>\n",
       "      <th>1</th>\n",
       "      <td>1</td>\n",
       "      <td>Software Engineer, Backend - Tweet Services</td>\n",
       "      <td>Twitter</td>\n",
       "      <td>San Francisco, CA 94103 (South of Market area)</td>\n",
       "      <td>4.1</td>\n",
       "      <td>At least 3 years of software development exper...</td>\n",
       "      <td>2 days ago</td>\n",
       "    </tr>\n",
       "    <tr>\n",
       "      <th>2</th>\n",
       "      <td>2</td>\n",
       "      <td>Software Engineer, University Graduate</td>\n",
       "      <td>MemSQL</td>\n",
       "      <td>San Francisco, CA 94107 (South of Market area)</td>\n",
       "      <td>NaN</td>\n",
       "      <td>MemSQL envisions a world where every business ...</td>\n",
       "      <td>30+ days ago</td>\n",
       "    </tr>\n",
       "    <tr>\n",
       "      <th>3</th>\n",
       "      <td>3</td>\n",
       "      <td>Software Engineer - C++</td>\n",
       "      <td>Splunk</td>\n",
       "      <td>San Francisco, CA</td>\n",
       "      <td>4.1</td>\n",
       "      <td>Examples of area you may be knowledgeable in m...</td>\n",
       "      <td>Today</td>\n",
       "    </tr>\n",
       "    <tr>\n",
       "      <th>4</th>\n",
       "      <td>4</td>\n",
       "      <td>Software Engineer - New Grad</td>\n",
       "      <td>Blend Labs</td>\n",
       "      <td>San Francisco, CA 94103 (South of Market area)</td>\n",
       "      <td>NaN</td>\n",
       "      <td>Prior industry experience as a software engine...</td>\n",
       "      <td>30+ days ago</td>\n",
       "    </tr>\n",
       "  </tbody>\n",
       "</table>\n",
       "</div>"
      ],
      "text/plain": [
       "   Unnamed: 0                                         Name     Company  \\\n",
       "0           0              Software Engineer, Integrations      Square   \n",
       "1           1  Software Engineer, Backend - Tweet Services     Twitter   \n",
       "2           2       Software Engineer, University Graduate      MemSQL   \n",
       "3           3                      Software Engineer - C++      Splunk   \n",
       "4           4                 Software Engineer - New Grad  Blend Labs   \n",
       "\n",
       "                                             City  Ratings  \\\n",
       "0  San Francisco, CA 94103 (South of Market area)      3.7   \n",
       "1  San Francisco, CA 94103 (South of Market area)      4.1   \n",
       "2  San Francisco, CA 94107 (South of Market area)      NaN   \n",
       "3                               San Francisco, CA      4.1   \n",
       "4  San Francisco, CA 94103 (South of Market area)      NaN   \n",
       "\n",
       "                                             Summary          Date  \n",
       "0  4+ years of experience developing production s...     1 day ago  \n",
       "1  At least 3 years of software development exper...    2 days ago  \n",
       "2  MemSQL envisions a world where every business ...  30+ days ago  \n",
       "3  Examples of area you may be knowledgeable in m...         Today  \n",
       "4  Prior industry experience as a software engine...  30+ days ago  "
      ]
     },
     "execution_count": 50,
     "metadata": {},
     "output_type": "execute_result"
    }
   ],
   "source": [
    "data  = pd.read_csv(file_path)  \n",
    "data.head()"
   ]
  },
  {
   "cell_type": "markdown",
   "metadata": {},
   "source": [
    "Check Which columns contain NaN values"
   ]
  },
  {
   "cell_type": "code",
   "execution_count": 51,
   "metadata": {},
   "outputs": [
    {
     "data": {
      "text/plain": [
       "['Ratings']"
      ]
     },
     "execution_count": 51,
     "metadata": {},
     "output_type": "execute_result"
    }
   ],
   "source": [
    "data.columns[data.isnull().any()].tolist()"
   ]
  },
  {
   "cell_type": "markdown",
   "metadata": {},
   "source": [
    "The only column which contains missing values is \"Ratings\". I want to use Ratings as my label. Therefore I will seperate rows with missing values as test set."
   ]
  },
  {
   "cell_type": "markdown",
   "metadata": {},
   "source": [
    "Check what is the portion of missing data from the whole dataset."
   ]
  },
  {
   "cell_type": "code",
   "execution_count": 52,
   "metadata": {},
   "outputs": [
    {
     "name": "stdout",
     "output_type": "stream",
     "text": [
      "Size of data is 1430\n",
      "Size of clean data is 910\n",
      "36.36% of the data without labels\n"
     ]
    }
   ],
   "source": [
    "print('Size of data is {}'.format(len(data)))\n",
    "clean_data = data.dropna()\n",
    "print('Size of clean data is {}'.format(len(clean_data)))\n",
    "print('{:.2f}% of the data without labels'.format(100 - len(clean_data)/len(data)*100))    "
   ]
  },
  {
   "cell_type": "markdown",
   "metadata": {},
   "source": [
    "Check if there are duplications in data"
   ]
  },
  {
   "cell_type": "code",
   "execution_count": 53,
   "metadata": {},
   "outputs": [
    {
     "data": {
      "text/html": [
       "<div>\n",
       "<style scoped>\n",
       "    .dataframe tbody tr th:only-of-type {\n",
       "        vertical-align: middle;\n",
       "    }\n",
       "\n",
       "    .dataframe tbody tr th {\n",
       "        vertical-align: top;\n",
       "    }\n",
       "\n",
       "    .dataframe thead th {\n",
       "        text-align: right;\n",
       "    }\n",
       "</style>\n",
       "<table border=\"1\" class=\"dataframe\">\n",
       "  <thead>\n",
       "    <tr style=\"text-align: right;\">\n",
       "      <th></th>\n",
       "      <th>Unnamed: 0</th>\n",
       "      <th>Name</th>\n",
       "      <th>Company</th>\n",
       "      <th>City</th>\n",
       "      <th>Ratings</th>\n",
       "      <th>Summary</th>\n",
       "      <th>Date</th>\n",
       "    </tr>\n",
       "  </thead>\n",
       "  <tbody>\n",
       "  </tbody>\n",
       "</table>\n",
       "</div>"
      ],
      "text/plain": [
       "Empty DataFrame\n",
       "Columns: [Unnamed: 0, Name, Company, City, Ratings, Summary, Date]\n",
       "Index: []"
      ]
     },
     "execution_count": 53,
     "metadata": {},
     "output_type": "execute_result"
    }
   ],
   "source": [
    "duplications = data[data.duplicated()]\n",
    "duplications"
   ]
  },
  {
   "cell_type": "markdown",
   "metadata": {},
   "source": [
    "### Preprocess the data"
   ]
  },
  {
   "cell_type": "code",
   "execution_count": 54,
   "metadata": {},
   "outputs": [
    {
     "data": {
      "text/html": [
       "<div>\n",
       "<style scoped>\n",
       "    .dataframe tbody tr th:only-of-type {\n",
       "        vertical-align: middle;\n",
       "    }\n",
       "\n",
       "    .dataframe tbody tr th {\n",
       "        vertical-align: top;\n",
       "    }\n",
       "\n",
       "    .dataframe thead th {\n",
       "        text-align: right;\n",
       "    }\n",
       "</style>\n",
       "<table border=\"1\" class=\"dataframe\">\n",
       "  <thead>\n",
       "    <tr style=\"text-align: right;\">\n",
       "      <th></th>\n",
       "      <th>Name</th>\n",
       "      <th>Company</th>\n",
       "      <th>City</th>\n",
       "      <th>Day</th>\n",
       "      <th>Python</th>\n",
       "      <th>SQL</th>\n",
       "      <th>Java</th>\n",
       "      <th>C++</th>\n",
       "      <th>C#</th>\n",
       "      <th>PostgreSQL</th>\n",
       "      <th>MySQL</th>\n",
       "      <th>Microsoft</th>\n",
       "      <th>Oracle</th>\n",
       "      <th>MariaDB</th>\n",
       "      <th>MongoDB</th>\n",
       "      <th>Redis</th>\n",
       "      <th>Ratings</th>\n",
       "    </tr>\n",
       "  </thead>\n",
       "  <tbody>\n",
       "    <tr>\n",
       "      <th>0</th>\n",
       "      <td>Software Engineer, Integrations</td>\n",
       "      <td>Square</td>\n",
       "      <td>San Francisco, CA 94103 (South of Market area)</td>\n",
       "      <td>1</td>\n",
       "      <td>False</td>\n",
       "      <td>False</td>\n",
       "      <td>False</td>\n",
       "      <td>False</td>\n",
       "      <td>False</td>\n",
       "      <td>False</td>\n",
       "      <td>False</td>\n",
       "      <td>False</td>\n",
       "      <td>False</td>\n",
       "      <td>False</td>\n",
       "      <td>False</td>\n",
       "      <td>False</td>\n",
       "      <td>3.7</td>\n",
       "    </tr>\n",
       "    <tr>\n",
       "      <th>1</th>\n",
       "      <td>Software Engineer, Backend - Tweet Services</td>\n",
       "      <td>Twitter</td>\n",
       "      <td>San Francisco, CA 94103 (South of Market area)</td>\n",
       "      <td>2</td>\n",
       "      <td>False</td>\n",
       "      <td>False</td>\n",
       "      <td>False</td>\n",
       "      <td>False</td>\n",
       "      <td>False</td>\n",
       "      <td>False</td>\n",
       "      <td>False</td>\n",
       "      <td>False</td>\n",
       "      <td>False</td>\n",
       "      <td>False</td>\n",
       "      <td>False</td>\n",
       "      <td>False</td>\n",
       "      <td>4.1</td>\n",
       "    </tr>\n",
       "    <tr>\n",
       "      <th>2</th>\n",
       "      <td>Software Engineer, University Graduate</td>\n",
       "      <td>MemSQL</td>\n",
       "      <td>San Francisco, CA 94107 (South of Market area)</td>\n",
       "      <td>30</td>\n",
       "      <td>False</td>\n",
       "      <td>True</td>\n",
       "      <td>False</td>\n",
       "      <td>False</td>\n",
       "      <td>False</td>\n",
       "      <td>False</td>\n",
       "      <td>False</td>\n",
       "      <td>False</td>\n",
       "      <td>False</td>\n",
       "      <td>False</td>\n",
       "      <td>False</td>\n",
       "      <td>False</td>\n",
       "      <td>NaN</td>\n",
       "    </tr>\n",
       "    <tr>\n",
       "      <th>3</th>\n",
       "      <td>Software Engineer - C++</td>\n",
       "      <td>Splunk</td>\n",
       "      <td>San Francisco, CA</td>\n",
       "      <td>0</td>\n",
       "      <td>False</td>\n",
       "      <td>False</td>\n",
       "      <td>False</td>\n",
       "      <td>False</td>\n",
       "      <td>False</td>\n",
       "      <td>False</td>\n",
       "      <td>False</td>\n",
       "      <td>False</td>\n",
       "      <td>False</td>\n",
       "      <td>False</td>\n",
       "      <td>False</td>\n",
       "      <td>False</td>\n",
       "      <td>4.1</td>\n",
       "    </tr>\n",
       "    <tr>\n",
       "      <th>4</th>\n",
       "      <td>Software Engineer - New Grad</td>\n",
       "      <td>Blend Labs</td>\n",
       "      <td>San Francisco, CA 94103 (South of Market area)</td>\n",
       "      <td>30</td>\n",
       "      <td>False</td>\n",
       "      <td>False</td>\n",
       "      <td>False</td>\n",
       "      <td>False</td>\n",
       "      <td>False</td>\n",
       "      <td>False</td>\n",
       "      <td>False</td>\n",
       "      <td>False</td>\n",
       "      <td>False</td>\n",
       "      <td>False</td>\n",
       "      <td>False</td>\n",
       "      <td>False</td>\n",
       "      <td>NaN</td>\n",
       "    </tr>\n",
       "  </tbody>\n",
       "</table>\n",
       "</div>"
      ],
      "text/plain": [
       "                                          Name     Company  \\\n",
       "0              Software Engineer, Integrations      Square   \n",
       "1  Software Engineer, Backend - Tweet Services     Twitter   \n",
       "2       Software Engineer, University Graduate      MemSQL   \n",
       "3                      Software Engineer - C++      Splunk   \n",
       "4                 Software Engineer - New Grad  Blend Labs   \n",
       "\n",
       "                                             City  Day Python    SQL   Java  \\\n",
       "0  San Francisco, CA 94103 (South of Market area)    1  False  False  False   \n",
       "1  San Francisco, CA 94103 (South of Market area)    2  False  False  False   \n",
       "2  San Francisco, CA 94107 (South of Market area)   30  False   True  False   \n",
       "3                               San Francisco, CA    0  False  False  False   \n",
       "4  San Francisco, CA 94103 (South of Market area)   30  False  False  False   \n",
       "\n",
       "     C++     C# PostgreSQL  MySQL Microsoft Oracle MariaDB MongoDB  Redis  \\\n",
       "0  False  False      False  False     False  False   False   False  False   \n",
       "1  False  False      False  False     False  False   False   False  False   \n",
       "2  False  False      False  False     False  False   False   False  False   \n",
       "3  False  False      False  False     False  False   False   False  False   \n",
       "4  False  False      False  False     False  False   False   False  False   \n",
       "\n",
       "   Ratings  \n",
       "0      3.7  \n",
       "1      4.1  \n",
       "2      NaN  \n",
       "3      4.1  \n",
       "4      NaN  "
      ]
     },
     "execution_count": 54,
     "metadata": {},
     "output_type": "execute_result"
    }
   ],
   "source": [
    "def preprocess(data):\n",
    "    # Preprocess Day column \n",
    "    data['Day'] = data['Date'].str.extract('(\\d+)', expand=True)\n",
    "    data['Day'] = np.where((data['Date']=='Today') | (data['Date']=='Just posted'), 0, data['Day'])\n",
    "    data['Day'] = data['Day'].astype(int)\n",
    "    \n",
    "    # Insert Programming languages columns\n",
    "    for index in data.index:\n",
    "        data.loc[index,'Python'] = 'python' in data.loc[index, 'Summary'].lower()\n",
    "        data.loc[index,'SQL'] = 'sql' in data.loc[index, 'Summary'].lower()\n",
    "        data.loc[index,'Java'] = 'java' in data.loc[index, 'Summary'].lower()\n",
    "        data.loc[index,'C++'] = 'c++' in data.loc[index, 'Summary'].lower()\n",
    "        data.loc[index,'C#'] = 'c#' in data.loc[index, 'Summary'].lower()\n",
    "        \n",
    "        data.loc[index,'PostgreSQL'] = 'postgresql' in data.loc[index, 'Summary'].lower()\n",
    "        data.loc[index,'MySQL'] = 'mysql' in data.loc[index, 'Summary'].lower()\n",
    "        data.loc[index,'Microsoft'] = 'microsoft' in data.loc[index, 'Summary'].lower()\n",
    "        data.loc[index,'Oracle'] = 'oracle' in data.loc[index, 'Summary'].lower()\n",
    "        data.loc[index,'MariaDB'] = 'mariadb' in data.loc[index, 'Summary'].lower()\n",
    "        data.loc[index,'MongoDB'] = 'mongodb' in data.loc[index, 'Summary'].lower()\n",
    "        data.loc[index,'Redis'] = 'redis' in data.loc[index, 'Summary'].lower()\n",
    "        \n",
    "    data = data.reset_index(drop=True)\n",
    "    data = data[['Name', 'Company', 'City', 'Day', 'Python', 'SQL', 'Java', 'C++', 'C#', 'PostgreSQL', \n",
    "                 'MySQL','Microsoft','Oracle', 'MariaDB', 'MongoDB', 'Redis', 'Ratings']]\n",
    "    clean_data = data.dropna()\n",
    "    \n",
    "    return data, clean_data\n",
    "\n",
    "data, clean_data = preprocess(data)\n",
    "data.head()"
   ]
  },
  {
   "cell_type": "markdown",
   "metadata": {},
   "source": [
    "### EDA"
   ]
  },
  {
   "cell_type": "markdown",
   "metadata": {},
   "source": [
    "The Goal\n",
    "Each row in the dataset describes the characteristics of a job position\n",
    "My goal is to predict the position ratings."
   ]
  },
  {
   "cell_type": "code",
   "execution_count": 55,
   "metadata": {},
   "outputs": [
    {
     "data": {
      "text/html": [
       "<div>\n",
       "<style scoped>\n",
       "    .dataframe tbody tr th:only-of-type {\n",
       "        vertical-align: middle;\n",
       "    }\n",
       "\n",
       "    .dataframe tbody tr th {\n",
       "        vertical-align: top;\n",
       "    }\n",
       "\n",
       "    .dataframe thead th {\n",
       "        text-align: right;\n",
       "    }\n",
       "</style>\n",
       "<table border=\"1\" class=\"dataframe\">\n",
       "  <thead>\n",
       "    <tr style=\"text-align: right;\">\n",
       "      <th></th>\n",
       "      <th>Day</th>\n",
       "      <th>Ratings</th>\n",
       "    </tr>\n",
       "  </thead>\n",
       "  <tbody>\n",
       "    <tr>\n",
       "      <th>count</th>\n",
       "      <td>1430.000000</td>\n",
       "      <td>910.000000</td>\n",
       "    </tr>\n",
       "    <tr>\n",
       "      <th>mean</th>\n",
       "      <td>23.594406</td>\n",
       "      <td>3.956813</td>\n",
       "    </tr>\n",
       "    <tr>\n",
       "      <th>std</th>\n",
       "      <td>9.549061</td>\n",
       "      <td>0.557095</td>\n",
       "    </tr>\n",
       "    <tr>\n",
       "      <th>min</th>\n",
       "      <td>0.000000</td>\n",
       "      <td>2.000000</td>\n",
       "    </tr>\n",
       "    <tr>\n",
       "      <th>25%</th>\n",
       "      <td>17.000000</td>\n",
       "      <td>3.600000</td>\n",
       "    </tr>\n",
       "    <tr>\n",
       "      <th>50%</th>\n",
       "      <td>30.000000</td>\n",
       "      <td>4.100000</td>\n",
       "    </tr>\n",
       "    <tr>\n",
       "      <th>75%</th>\n",
       "      <td>30.000000</td>\n",
       "      <td>4.300000</td>\n",
       "    </tr>\n",
       "    <tr>\n",
       "      <th>max</th>\n",
       "      <td>30.000000</td>\n",
       "      <td>5.000000</td>\n",
       "    </tr>\n",
       "  </tbody>\n",
       "</table>\n",
       "</div>"
      ],
      "text/plain": [
       "               Day     Ratings\n",
       "count  1430.000000  910.000000\n",
       "mean     23.594406    3.956813\n",
       "std       9.549061    0.557095\n",
       "min       0.000000    2.000000\n",
       "25%      17.000000    3.600000\n",
       "50%      30.000000    4.100000\n",
       "75%      30.000000    4.300000\n",
       "max      30.000000    5.000000"
      ]
     },
     "execution_count": 55,
     "metadata": {},
     "output_type": "execute_result"
    }
   ],
   "source": [
    "data.describe()"
   ]
  },
  {
   "cell_type": "code",
   "execution_count": 56,
   "metadata": {},
   "outputs": [
    {
     "data": {
      "application/vnd.plotly.v1+json": {
       "config": {
        "plotlyServerURL": "https://plot.ly"
       },
       "data": [
        {
         "alignmentgroup": "True",
         "bingroup": "x",
         "hovertemplate": "Ratings=%{x}<br>count=%{y}<extra></extra>",
         "legendgroup": "",
         "marker": {
          "color": "#636efa",
          "pattern": {
           "shape": ""
          }
         },
         "name": "",
         "offsetgroup": "",
         "orientation": "v",
         "showlegend": false,
         "type": "histogram",
         "x": [
          3.7,
          4.1,
          null,
          4.1,
          null,
          4.2,
          3.8,
          3.7,
          3.6,
          3.9,
          3.7,
          4.6,
          null,
          null,
          4.2,
          4.8,
          4.1,
          4.1,
          null,
          4.1,
          null,
          3.7,
          4.2,
          null,
          3.8,
          3.5,
          null,
          null,
          3.3,
          4.9,
          3.9,
          null,
          4.2,
          null,
          null,
          3.9,
          null,
          null,
          3.9,
          4.6,
          null,
          null,
          4.1,
          4.3,
          4.1,
          4.1,
          4.1,
          3.3,
          3.7,
          null,
          2.9,
          null,
          4.1,
          null,
          3.9,
          3.2,
          3.9,
          null,
          null,
          4.5,
          4.2,
          null,
          4.1,
          4.1,
          null,
          null,
          null,
          2.7,
          null,
          4,
          null,
          null,
          4.1,
          4.1,
          null,
          3.7,
          null,
          3.7,
          4.2,
          4.1,
          3.8,
          3.8,
          3.7,
          null,
          4.2,
          4.3,
          4.5,
          3.7,
          4.1,
          4.1,
          3.7,
          3.8,
          4.3,
          null,
          null,
          null,
          null,
          3.9,
          3.7,
          4,
          3,
          4.3,
          null,
          4.2,
          null,
          3.6,
          null,
          null,
          4,
          3.9,
          null,
          3.6,
          null,
          null,
          null,
          null,
          4.1,
          null,
          null,
          4.3,
          4.1,
          null,
          3.8,
          4.9,
          null,
          3.6,
          4.9,
          2.3,
          null,
          4.1,
          null,
          4.3,
          null,
          null,
          3.7,
          3.7,
          3.5,
          null,
          4.8,
          null,
          3.6,
          null,
          null,
          null,
          null,
          4.2,
          4.2,
          3.2,
          4.2,
          3.7,
          4.1,
          3.3,
          null,
          5,
          3.6,
          3.7,
          3.7,
          3.1,
          3.9,
          4.1,
          3.7,
          3.7,
          4.2,
          3,
          3.3,
          3.9,
          null,
          null,
          null,
          null,
          null,
          4.1,
          null,
          null,
          3.1,
          null,
          null,
          4.2,
          3.2,
          5,
          null,
          null,
          null,
          4.3,
          2.3,
          4.1,
          null,
          null,
          3.7,
          null,
          4.2,
          3.1,
          null,
          3.6,
          null,
          null,
          4.3,
          null,
          null,
          3.7,
          3.7,
          3.5,
          null,
          4.8,
          null,
          null,
          null,
          3.8,
          5,
          null,
          3.6,
          null,
          4,
          4.2,
          3.8,
          4,
          null,
          3.9,
          null,
          3.7,
          4.4,
          3.6,
          4.1,
          null,
          3.1,
          3.7,
          3.8,
          3.3,
          3.9,
          3.7,
          null,
          4.2,
          null,
          null,
          3.9,
          null,
          null,
          4.1,
          null,
          5,
          null,
          null,
          4.1,
          3.9,
          3.5,
          null,
          null,
          null,
          4.1,
          4.8,
          null,
          4.1,
          null,
          null,
          3.1,
          null,
          null,
          4.2,
          3.2,
          5,
          null,
          4.2,
          3.7,
          null,
          3.7,
          3.9,
          null,
          null,
          null,
          null,
          4.2,
          null,
          4.2,
          null,
          4.4,
          4.2,
          3.1,
          null,
          3.6,
          null,
          null,
          4,
          null,
          null,
          3.7,
          null,
          2.8,
          null,
          4.1,
          2.7,
          4.3,
          3.6,
          4.1,
          2,
          3.8,
          null,
          3.8,
          4.3,
          null,
          3.5,
          3.3,
          null,
          4.2,
          2.7,
          null,
          null,
          3.9,
          null,
          4.2,
          4.2,
          3.9,
          3.9,
          null,
          null,
          5,
          4.2,
          4.5,
          null,
          null,
          4.1,
          4.1,
          3.5,
          null,
          null,
          4.2,
          3.9,
          2.7,
          2.2,
          4.2,
          4.1,
          null,
          null,
          null,
          3.9,
          null,
          3.8,
          null,
          5,
          4.1,
          4.4,
          4.8,
          null,
          3.6,
          null,
          null,
          3.9,
          null,
          3.2,
          4.2,
          null,
          4.3,
          3.1,
          null,
          4.2,
          4.1,
          null,
          null,
          3.7,
          null,
          null,
          null,
          null,
          null,
          4.1,
          4.8,
          3.1,
          null,
          3.2,
          null,
          null,
          null,
          null,
          null,
          3.8,
          3.9,
          null,
          3.9,
          3.7,
          null,
          4.1,
          4.2,
          3.6,
          null,
          5,
          null,
          null,
          4.2,
          3.7,
          null,
          3.7,
          3.9,
          null,
          null,
          null,
          null,
          4.2,
          4.3,
          null,
          4.3,
          3.8,
          4.1,
          2.3,
          null,
          null,
          4.2,
          4.3,
          null,
          3.5,
          3.8,
          4.2,
          3.5,
          null,
          null,
          null,
          null,
          null,
          3.3,
          3.6,
          3.8,
          null,
          null,
          4.2,
          null,
          null,
          2.2,
          4.5,
          null,
          4.1,
          3.9,
          4.3,
          null,
          4.3,
          4.1,
          5,
          4.3,
          null,
          null,
          4.1,
          null,
          null,
          3.6,
          null,
          null,
          4.6,
          3.3,
          2.7,
          null,
          4.3,
          3.8,
          4.5,
          null,
          null,
          3.5,
          3.6,
          null,
          3.2,
          null,
          3.7,
          null,
          4.2,
          null,
          3.3,
          4.1,
          3.9,
          3.6,
          4.2,
          4.5,
          null,
          null,
          4.1,
          4.1,
          3.5,
          null,
          null,
          4.2,
          3.3,
          null,
          null,
          null,
          null,
          4.1,
          null,
          3.9,
          4.1,
          4.1,
          null,
          4.1,
          3.7,
          4.4,
          null,
          null,
          null,
          null,
          null,
          4,
          null,
          4.2,
          3.9,
          3.5,
          null,
          3.6,
          null,
          3.9,
          4.1,
          4.3,
          3.9,
          3.9,
          4.1,
          null,
          3.9,
          null,
          3.7,
          3.1,
          null,
          null,
          3.9,
          4.3,
          null,
          3.9,
          3.4,
          4.4,
          3.2,
          4,
          null,
          4.1,
          null,
          4,
          null,
          null,
          3.3,
          null,
          4.3,
          3.8,
          4.1,
          3.1,
          4.3,
          4.4,
          3.8,
          3.3,
          null,
          3.8,
          3.5,
          null,
          3.7,
          3.7,
          null,
          3.6,
          2.8,
          4.2,
          3.7,
          4.4,
          null,
          4.1,
          3.5,
          null,
          3.6,
          3.6,
          3.8,
          null,
          5,
          null,
          null,
          2,
          3.1,
          3.9,
          null,
          4.2,
          4.1,
          3.2,
          3.7,
          3.1,
          null,
          3.1,
          null,
          4.1,
          null,
          3.3,
          null,
          null,
          null,
          null,
          4.2,
          null,
          5,
          null,
          3.8,
          3.7,
          4.1,
          3.8,
          3.7,
          3.7,
          null,
          null,
          3.7,
          4.1,
          4.2,
          4.3,
          null,
          4.3,
          3.8,
          4.1,
          2.3,
          null,
          null,
          4.2,
          null,
          null,
          2.2,
          4.4,
          5,
          3.6,
          null,
          3.9,
          4.8,
          null,
          null,
          null,
          null,
          3.8,
          null,
          null,
          3.6,
          null,
          3.5,
          3.8,
          null,
          4.1,
          null,
          3.7,
          null,
          4.1,
          null,
          null,
          null,
          2.7,
          3.8,
          4.4,
          null,
          4.1,
          null,
          4.1,
          4.1,
          4.3,
          null,
          null,
          null,
          4,
          3.5,
          3.7,
          4,
          3.5,
          null,
          null,
          null,
          4.1,
          null,
          null,
          null,
          3.8,
          3.9,
          3.4,
          3.2,
          null,
          null,
          3.2,
          5,
          4,
          null,
          2.8,
          4,
          null,
          null,
          3.9,
          3.8,
          3.9,
          3.9,
          null,
          4.6,
          4.1,
          4.1,
          3.5,
          null,
          null,
          3.9,
          3.5,
          4.1,
          null,
          null,
          null,
          5,
          3.2,
          3.6,
          null,
          null,
          null,
          3.5,
          4.1,
          2.7,
          null,
          null,
          3.7,
          3.7,
          3.7,
          4.2,
          4.2,
          3.8,
          2.8,
          null,
          5,
          null,
          4.1,
          3.8,
          4.8,
          null,
          3.9,
          null,
          3.7,
          3.9,
          3.3,
          3.6,
          3.7,
          null,
          3.6,
          4.1,
          5,
          3.3,
          null,
          null,
          null,
          null,
          4.1,
          null,
          3.9,
          4.1,
          4.1,
          null,
          null,
          null,
          null,
          3.9,
          3.6,
          3.3,
          4.6,
          3.1,
          4.1,
          4.1,
          3.9,
          4.1,
          4.1,
          4.8,
          3.5,
          null,
          null,
          3.9,
          3.9,
          null,
          5,
          null,
          null,
          null,
          null,
          2.8,
          3.6,
          3.9,
          null,
          5,
          4.2,
          4.5,
          null,
          5,
          4.2,
          4,
          3.9,
          3.9,
          null,
          null,
          null,
          null,
          3.3,
          3.6,
          null,
          3.6,
          null,
          null,
          null,
          null,
          3.6,
          3.7,
          3.8,
          5,
          3.2,
          null,
          null,
          3.7,
          3.8,
          null,
          4.1,
          null,
          null,
          5,
          null,
          null,
          3.8,
          2.7,
          null,
          null,
          null,
          null,
          2.8,
          null,
          null,
          null,
          null,
          4,
          null,
          null,
          2.6,
          null,
          3.2,
          null,
          null,
          5,
          3,
          3.1,
          null,
          null,
          null,
          2.8,
          4.5,
          null,
          null,
          null,
          4.1,
          null,
          null,
          3.6,
          2.3,
          3.6,
          null,
          4,
          3.6,
          3.6,
          3.8,
          null,
          5,
          null,
          null,
          2,
          3.1,
          3.9,
          null,
          4.1,
          4,
          4.3,
          null,
          4.5,
          4.3,
          null,
          4.1,
          null,
          null,
          4.2,
          3.7,
          5,
          4.4,
          null,
          null,
          null,
          null,
          4.8,
          4.8,
          5,
          4.1,
          null,
          4.4,
          3.3,
          3.7,
          null,
          3.8,
          4.5,
          null,
          2.7,
          null,
          null,
          null,
          null,
          3,
          5,
          3.9,
          null,
          3.9,
          null,
          3.5,
          4.6,
          null,
          null,
          null,
          3.8,
          3.3,
          3.3,
          4,
          4.1,
          3.8,
          3.3,
          null,
          4,
          null,
          4.1,
          2.8,
          4.3,
          null,
          3.6,
          null,
          null,
          4,
          3.6,
          null,
          4.8,
          3.2,
          3.6,
          null,
          3.9,
          3.5,
          4.2,
          3.8,
          null,
          null,
          null,
          3.6,
          3.6,
          4.3,
          4.2,
          3.6,
          null,
          null,
          null,
          3.6,
          null,
          3.5,
          3.8,
          null,
          4.1,
          null,
          3.7,
          null,
          4.3,
          4.2,
          3.6,
          null,
          null,
          4.1,
          3,
          null,
          4.8,
          5,
          3.9,
          4.3,
          3.4,
          4.4,
          null,
          4.3,
          4.2,
          3.6,
          null,
          null,
          4.1,
          3,
          null,
          4.8,
          5,
          3.9,
          4.3,
          3.4,
          4.4,
          null,
          4.3,
          4.2,
          3.6,
          null,
          null,
          4.1,
          3,
          null,
          4.8,
          5,
          3.9,
          4.3,
          3.4,
          4.4,
          null,
          4.3,
          4.2,
          3.6,
          null,
          null,
          4.1,
          3,
          null,
          4.8,
          5,
          3.9,
          4.3,
          3.4,
          4.4,
          null,
          null,
          null,
          3.9,
          3.8,
          3.9,
          3.9,
          null,
          4.6,
          4.1,
          4.1,
          4.3,
          4.2,
          3.6,
          null,
          null,
          4.1,
          3,
          null,
          4.8,
          5,
          3.9,
          4.3,
          3.4,
          4.4,
          null,
          4.3,
          4.2,
          3.6,
          null,
          null,
          4.1,
          3,
          null,
          4.8,
          5,
          3.9,
          4.3,
          3.4,
          4.4,
          null,
          4.3,
          4.2,
          3.6,
          null,
          null,
          4.1,
          3,
          null,
          4.8,
          5,
          3.9,
          4.3,
          3.4,
          4.4,
          null,
          4.3,
          4.2,
          3.6,
          null,
          null,
          4.1,
          3,
          null,
          4.8,
          5,
          3.9,
          4.3,
          3.4,
          4.4,
          null,
          4.3,
          4.2,
          3.6,
          null,
          null,
          4.1,
          3,
          null,
          4.8,
          5,
          3.9,
          4.3,
          3.4,
          4.4,
          null,
          4.3,
          4.2,
          3.6,
          null,
          null,
          4.1,
          3,
          null,
          4.8,
          5,
          3.9,
          4.3,
          3.4,
          4.4,
          null,
          null,
          null,
          null,
          null,
          3.9,
          3.6,
          3.3,
          4.6,
          3.1,
          4.1,
          4.3,
          4.2,
          3.6,
          null,
          null,
          4.1,
          3,
          null,
          4.8,
          5,
          3.9,
          4.3,
          3.4,
          4.4,
          null,
          4.3,
          4.2,
          3.6,
          null,
          null,
          4.1,
          3,
          null,
          4.8,
          5,
          3.9,
          4.3,
          3.4,
          4.4,
          null,
          4.3,
          4.2,
          3.6,
          null,
          null,
          4.1,
          3,
          null,
          4.8,
          5,
          3.9,
          4.3,
          3.4,
          4.4,
          null,
          4.3,
          4.2,
          3.6,
          null,
          null,
          4.1,
          3,
          null,
          4.8,
          5,
          3.9,
          4.3,
          3.4,
          4.4,
          null,
          4.3,
          4.2,
          3.6,
          null,
          null,
          4.1,
          3,
          null,
          4.8,
          5,
          3.9,
          4.3,
          3.4,
          4.4,
          null,
          4.3,
          4.2,
          3.6,
          null,
          null,
          4.1,
          3,
          null,
          4.8,
          5,
          3.9,
          4.3,
          3.4,
          4.4,
          null,
          4.3,
          4.2,
          3.6,
          null,
          null,
          4.1,
          3,
          null,
          4.8,
          5,
          3.9,
          4.3,
          3.4,
          4.4,
          null,
          4.3,
          4.2,
          3.6,
          null,
          null,
          4.1,
          3,
          null,
          4.8,
          5,
          3.9,
          4.3,
          3.4,
          4.4,
          null,
          4.3,
          4.2,
          3.6,
          null,
          null,
          4.1,
          3,
          null,
          4.8,
          5,
          3.9,
          4.3,
          3.4,
          4.4,
          null,
          4.3,
          4.2,
          3.6,
          null,
          null,
          4.1,
          3,
          null,
          4.8,
          5,
          3.9,
          4.3,
          3.4,
          4.4,
          null,
          4.3,
          4.2,
          3.6,
          null,
          null,
          4.1,
          3,
          null,
          4.8,
          5,
          3.9,
          4.3,
          3.4,
          4.4,
          null,
          4.3,
          4.2,
          3.6,
          null,
          null,
          4.1,
          3,
          null,
          4.8,
          5,
          3.9,
          4.3,
          3.4,
          4.4,
          null,
          4.3,
          4.2,
          3.6,
          null,
          null,
          4.1,
          3,
          null,
          4.8,
          5,
          3.9,
          4.3,
          3.4,
          4.4,
          null,
          4.3,
          4.2,
          3.6,
          null,
          null,
          4.1,
          3,
          null,
          4.8,
          5,
          3.9,
          4.3,
          3.4,
          4.4,
          null,
          4.3,
          4.2,
          3.6,
          null,
          null,
          4.1,
          3,
          null,
          4.8,
          5,
          3.9,
          4.3,
          3.4,
          4.4,
          null,
          4.3,
          4.2,
          3.6,
          null,
          null,
          4.1,
          3,
          null,
          4.8,
          5,
          3.9,
          4.3,
          3.4,
          4.4,
          null,
          4.3,
          4.2,
          3.6,
          null,
          null,
          4.1,
          3,
          null,
          4.8,
          5,
          3.9,
          4.3,
          3.4,
          4.4,
          null,
          4.3,
          4.2,
          3.6,
          null,
          null,
          4.1,
          3,
          null,
          4.8,
          5,
          3.9,
          4.3,
          3.4,
          4.4,
          null,
          4.3,
          4.2,
          3.6,
          null,
          null,
          4.1,
          3,
          null,
          4.8,
          5,
          3.9,
          4.3,
          3.4,
          4.4,
          null,
          4.3,
          4.2,
          3.6,
          null,
          null,
          4.1,
          3,
          null,
          4.8,
          5,
          3.9,
          4.3,
          3.4,
          4.4,
          null,
          4.3,
          4.2,
          3.6,
          null,
          null,
          4.1,
          3,
          null,
          4.8,
          5,
          3.9,
          4.3,
          3.4,
          4.4,
          null
         ],
         "xaxis": "x",
         "yaxis": "y"
        }
       ],
       "layout": {
        "barmode": "relative",
        "height": 400,
        "legend": {
         "tracegroupgap": 0
        },
        "margin": {
         "t": 60
        },
        "template": {
         "data": {
          "bar": [
           {
            "error_x": {
             "color": "#2a3f5f"
            },
            "error_y": {
             "color": "#2a3f5f"
            },
            "marker": {
             "line": {
              "color": "#E5ECF6",
              "width": 0.5
             },
             "pattern": {
              "fillmode": "overlay",
              "size": 10,
              "solidity": 0.2
             }
            },
            "type": "bar"
           }
          ],
          "barpolar": [
           {
            "marker": {
             "line": {
              "color": "#E5ECF6",
              "width": 0.5
             },
             "pattern": {
              "fillmode": "overlay",
              "size": 10,
              "solidity": 0.2
             }
            },
            "type": "barpolar"
           }
          ],
          "carpet": [
           {
            "aaxis": {
             "endlinecolor": "#2a3f5f",
             "gridcolor": "white",
             "linecolor": "white",
             "minorgridcolor": "white",
             "startlinecolor": "#2a3f5f"
            },
            "baxis": {
             "endlinecolor": "#2a3f5f",
             "gridcolor": "white",
             "linecolor": "white",
             "minorgridcolor": "white",
             "startlinecolor": "#2a3f5f"
            },
            "type": "carpet"
           }
          ],
          "choropleth": [
           {
            "colorbar": {
             "outlinewidth": 0,
             "ticks": ""
            },
            "type": "choropleth"
           }
          ],
          "contour": [
           {
            "colorbar": {
             "outlinewidth": 0,
             "ticks": ""
            },
            "colorscale": [
             [
              0,
              "#0d0887"
             ],
             [
              0.1111111111111111,
              "#46039f"
             ],
             [
              0.2222222222222222,
              "#7201a8"
             ],
             [
              0.3333333333333333,
              "#9c179e"
             ],
             [
              0.4444444444444444,
              "#bd3786"
             ],
             [
              0.5555555555555556,
              "#d8576b"
             ],
             [
              0.6666666666666666,
              "#ed7953"
             ],
             [
              0.7777777777777778,
              "#fb9f3a"
             ],
             [
              0.8888888888888888,
              "#fdca26"
             ],
             [
              1,
              "#f0f921"
             ]
            ],
            "type": "contour"
           }
          ],
          "contourcarpet": [
           {
            "colorbar": {
             "outlinewidth": 0,
             "ticks": ""
            },
            "type": "contourcarpet"
           }
          ],
          "heatmap": [
           {
            "colorbar": {
             "outlinewidth": 0,
             "ticks": ""
            },
            "colorscale": [
             [
              0,
              "#0d0887"
             ],
             [
              0.1111111111111111,
              "#46039f"
             ],
             [
              0.2222222222222222,
              "#7201a8"
             ],
             [
              0.3333333333333333,
              "#9c179e"
             ],
             [
              0.4444444444444444,
              "#bd3786"
             ],
             [
              0.5555555555555556,
              "#d8576b"
             ],
             [
              0.6666666666666666,
              "#ed7953"
             ],
             [
              0.7777777777777778,
              "#fb9f3a"
             ],
             [
              0.8888888888888888,
              "#fdca26"
             ],
             [
              1,
              "#f0f921"
             ]
            ],
            "type": "heatmap"
           }
          ],
          "heatmapgl": [
           {
            "colorbar": {
             "outlinewidth": 0,
             "ticks": ""
            },
            "colorscale": [
             [
              0,
              "#0d0887"
             ],
             [
              0.1111111111111111,
              "#46039f"
             ],
             [
              0.2222222222222222,
              "#7201a8"
             ],
             [
              0.3333333333333333,
              "#9c179e"
             ],
             [
              0.4444444444444444,
              "#bd3786"
             ],
             [
              0.5555555555555556,
              "#d8576b"
             ],
             [
              0.6666666666666666,
              "#ed7953"
             ],
             [
              0.7777777777777778,
              "#fb9f3a"
             ],
             [
              0.8888888888888888,
              "#fdca26"
             ],
             [
              1,
              "#f0f921"
             ]
            ],
            "type": "heatmapgl"
           }
          ],
          "histogram": [
           {
            "marker": {
             "pattern": {
              "fillmode": "overlay",
              "size": 10,
              "solidity": 0.2
             }
            },
            "type": "histogram"
           }
          ],
          "histogram2d": [
           {
            "colorbar": {
             "outlinewidth": 0,
             "ticks": ""
            },
            "colorscale": [
             [
              0,
              "#0d0887"
             ],
             [
              0.1111111111111111,
              "#46039f"
             ],
             [
              0.2222222222222222,
              "#7201a8"
             ],
             [
              0.3333333333333333,
              "#9c179e"
             ],
             [
              0.4444444444444444,
              "#bd3786"
             ],
             [
              0.5555555555555556,
              "#d8576b"
             ],
             [
              0.6666666666666666,
              "#ed7953"
             ],
             [
              0.7777777777777778,
              "#fb9f3a"
             ],
             [
              0.8888888888888888,
              "#fdca26"
             ],
             [
              1,
              "#f0f921"
             ]
            ],
            "type": "histogram2d"
           }
          ],
          "histogram2dcontour": [
           {
            "colorbar": {
             "outlinewidth": 0,
             "ticks": ""
            },
            "colorscale": [
             [
              0,
              "#0d0887"
             ],
             [
              0.1111111111111111,
              "#46039f"
             ],
             [
              0.2222222222222222,
              "#7201a8"
             ],
             [
              0.3333333333333333,
              "#9c179e"
             ],
             [
              0.4444444444444444,
              "#bd3786"
             ],
             [
              0.5555555555555556,
              "#d8576b"
             ],
             [
              0.6666666666666666,
              "#ed7953"
             ],
             [
              0.7777777777777778,
              "#fb9f3a"
             ],
             [
              0.8888888888888888,
              "#fdca26"
             ],
             [
              1,
              "#f0f921"
             ]
            ],
            "type": "histogram2dcontour"
           }
          ],
          "mesh3d": [
           {
            "colorbar": {
             "outlinewidth": 0,
             "ticks": ""
            },
            "type": "mesh3d"
           }
          ],
          "parcoords": [
           {
            "line": {
             "colorbar": {
              "outlinewidth": 0,
              "ticks": ""
             }
            },
            "type": "parcoords"
           }
          ],
          "pie": [
           {
            "automargin": true,
            "type": "pie"
           }
          ],
          "scatter": [
           {
            "marker": {
             "colorbar": {
              "outlinewidth": 0,
              "ticks": ""
             }
            },
            "type": "scatter"
           }
          ],
          "scatter3d": [
           {
            "line": {
             "colorbar": {
              "outlinewidth": 0,
              "ticks": ""
             }
            },
            "marker": {
             "colorbar": {
              "outlinewidth": 0,
              "ticks": ""
             }
            },
            "type": "scatter3d"
           }
          ],
          "scattercarpet": [
           {
            "marker": {
             "colorbar": {
              "outlinewidth": 0,
              "ticks": ""
             }
            },
            "type": "scattercarpet"
           }
          ],
          "scattergeo": [
           {
            "marker": {
             "colorbar": {
              "outlinewidth": 0,
              "ticks": ""
             }
            },
            "type": "scattergeo"
           }
          ],
          "scattergl": [
           {
            "marker": {
             "colorbar": {
              "outlinewidth": 0,
              "ticks": ""
             }
            },
            "type": "scattergl"
           }
          ],
          "scattermapbox": [
           {
            "marker": {
             "colorbar": {
              "outlinewidth": 0,
              "ticks": ""
             }
            },
            "type": "scattermapbox"
           }
          ],
          "scatterpolar": [
           {
            "marker": {
             "colorbar": {
              "outlinewidth": 0,
              "ticks": ""
             }
            },
            "type": "scatterpolar"
           }
          ],
          "scatterpolargl": [
           {
            "marker": {
             "colorbar": {
              "outlinewidth": 0,
              "ticks": ""
             }
            },
            "type": "scatterpolargl"
           }
          ],
          "scatterternary": [
           {
            "marker": {
             "colorbar": {
              "outlinewidth": 0,
              "ticks": ""
             }
            },
            "type": "scatterternary"
           }
          ],
          "surface": [
           {
            "colorbar": {
             "outlinewidth": 0,
             "ticks": ""
            },
            "colorscale": [
             [
              0,
              "#0d0887"
             ],
             [
              0.1111111111111111,
              "#46039f"
             ],
             [
              0.2222222222222222,
              "#7201a8"
             ],
             [
              0.3333333333333333,
              "#9c179e"
             ],
             [
              0.4444444444444444,
              "#bd3786"
             ],
             [
              0.5555555555555556,
              "#d8576b"
             ],
             [
              0.6666666666666666,
              "#ed7953"
             ],
             [
              0.7777777777777778,
              "#fb9f3a"
             ],
             [
              0.8888888888888888,
              "#fdca26"
             ],
             [
              1,
              "#f0f921"
             ]
            ],
            "type": "surface"
           }
          ],
          "table": [
           {
            "cells": {
             "fill": {
              "color": "#EBF0F8"
             },
             "line": {
              "color": "white"
             }
            },
            "header": {
             "fill": {
              "color": "#C8D4E3"
             },
             "line": {
              "color": "white"
             }
            },
            "type": "table"
           }
          ]
         },
         "layout": {
          "annotationdefaults": {
           "arrowcolor": "#2a3f5f",
           "arrowhead": 0,
           "arrowwidth": 1
          },
          "autotypenumbers": "strict",
          "coloraxis": {
           "colorbar": {
            "outlinewidth": 0,
            "ticks": ""
           }
          },
          "colorscale": {
           "diverging": [
            [
             0,
             "#8e0152"
            ],
            [
             0.1,
             "#c51b7d"
            ],
            [
             0.2,
             "#de77ae"
            ],
            [
             0.3,
             "#f1b6da"
            ],
            [
             0.4,
             "#fde0ef"
            ],
            [
             0.5,
             "#f7f7f7"
            ],
            [
             0.6,
             "#e6f5d0"
            ],
            [
             0.7,
             "#b8e186"
            ],
            [
             0.8,
             "#7fbc41"
            ],
            [
             0.9,
             "#4d9221"
            ],
            [
             1,
             "#276419"
            ]
           ],
           "sequential": [
            [
             0,
             "#0d0887"
            ],
            [
             0.1111111111111111,
             "#46039f"
            ],
            [
             0.2222222222222222,
             "#7201a8"
            ],
            [
             0.3333333333333333,
             "#9c179e"
            ],
            [
             0.4444444444444444,
             "#bd3786"
            ],
            [
             0.5555555555555556,
             "#d8576b"
            ],
            [
             0.6666666666666666,
             "#ed7953"
            ],
            [
             0.7777777777777778,
             "#fb9f3a"
            ],
            [
             0.8888888888888888,
             "#fdca26"
            ],
            [
             1,
             "#f0f921"
            ]
           ],
           "sequentialminus": [
            [
             0,
             "#0d0887"
            ],
            [
             0.1111111111111111,
             "#46039f"
            ],
            [
             0.2222222222222222,
             "#7201a8"
            ],
            [
             0.3333333333333333,
             "#9c179e"
            ],
            [
             0.4444444444444444,
             "#bd3786"
            ],
            [
             0.5555555555555556,
             "#d8576b"
            ],
            [
             0.6666666666666666,
             "#ed7953"
            ],
            [
             0.7777777777777778,
             "#fb9f3a"
            ],
            [
             0.8888888888888888,
             "#fdca26"
            ],
            [
             1,
             "#f0f921"
            ]
           ]
          },
          "colorway": [
           "#636efa",
           "#EF553B",
           "#00cc96",
           "#ab63fa",
           "#FFA15A",
           "#19d3f3",
           "#FF6692",
           "#B6E880",
           "#FF97FF",
           "#FECB52"
          ],
          "font": {
           "color": "#2a3f5f"
          },
          "geo": {
           "bgcolor": "white",
           "lakecolor": "white",
           "landcolor": "#E5ECF6",
           "showlakes": true,
           "showland": true,
           "subunitcolor": "white"
          },
          "hoverlabel": {
           "align": "left"
          },
          "hovermode": "closest",
          "mapbox": {
           "style": "light"
          },
          "paper_bgcolor": "white",
          "plot_bgcolor": "#E5ECF6",
          "polar": {
           "angularaxis": {
            "gridcolor": "white",
            "linecolor": "white",
            "ticks": ""
           },
           "bgcolor": "#E5ECF6",
           "radialaxis": {
            "gridcolor": "white",
            "linecolor": "white",
            "ticks": ""
           }
          },
          "scene": {
           "xaxis": {
            "backgroundcolor": "#E5ECF6",
            "gridcolor": "white",
            "gridwidth": 2,
            "linecolor": "white",
            "showbackground": true,
            "ticks": "",
            "zerolinecolor": "white"
           },
           "yaxis": {
            "backgroundcolor": "#E5ECF6",
            "gridcolor": "white",
            "gridwidth": 2,
            "linecolor": "white",
            "showbackground": true,
            "ticks": "",
            "zerolinecolor": "white"
           },
           "zaxis": {
            "backgroundcolor": "#E5ECF6",
            "gridcolor": "white",
            "gridwidth": 2,
            "linecolor": "white",
            "showbackground": true,
            "ticks": "",
            "zerolinecolor": "white"
           }
          },
          "shapedefaults": {
           "line": {
            "color": "#2a3f5f"
           }
          },
          "ternary": {
           "aaxis": {
            "gridcolor": "white",
            "linecolor": "white",
            "ticks": ""
           },
           "baxis": {
            "gridcolor": "white",
            "linecolor": "white",
            "ticks": ""
           },
           "bgcolor": "#E5ECF6",
           "caxis": {
            "gridcolor": "white",
            "linecolor": "white",
            "ticks": ""
           }
          },
          "title": {
           "x": 0.05
          },
          "xaxis": {
           "automargin": true,
           "gridcolor": "white",
           "linecolor": "white",
           "ticks": "",
           "title": {
            "standoff": 15
           },
           "zerolinecolor": "white",
           "zerolinewidth": 2
          },
          "yaxis": {
           "automargin": true,
           "gridcolor": "white",
           "linecolor": "white",
           "ticks": "",
           "title": {
            "standoff": 15
           },
           "zerolinecolor": "white",
           "zerolinewidth": 2
          }
         }
        },
        "title": {
         "text": "Ratings Distribution"
        },
        "width": 800,
        "xaxis": {
         "anchor": "y",
         "autorange": true,
         "domain": [
          0,
          1
         ],
         "range": [
          1.9500000000000002,
          5.05
         ],
         "title": {
          "text": "Ratings"
         },
         "type": "linear"
        },
        "yaxis": {
         "anchor": "x",
         "autorange": true,
         "domain": [
          0,
          1
         ],
         "range": [
          0,
          126.3157894736842
         ],
         "title": {
          "text": "count"
         }
        }
       }
      },
      "image/png": "[encoded data removed]",
      "text/html": [
       "<div>                            <div id=\"5f4b638c-9319-4bd3-8468-740ba9f21609\" class=\"plotly-graph-div\" style=\"height:400px; width:800px;\"></div>            <script type=\"text/javascript\">                require([\"plotly\"], function(Plotly) {                    window.PLOTLYENV=window.PLOTLYENV || {};                                    if (document.getElementById(\"5f4b638c-9319-4bd3-8468-740ba9f21609\")) {                    Plotly.newPlot(                        \"5f4b638c-9319-4bd3-8468-740ba9f21609\",                        [{\"alignmentgroup\":\"True\",\"bingroup\":\"x\",\"hovertemplate\":\"Ratings=%{x}<br>count=%{y}<extra></extra>\",\"legendgroup\":\"\",\"marker\":{\"color\":\"#636efa\",\"pattern\":{\"shape\":\"\"}},\"name\":\"\",\"offsetgroup\":\"\",\"orientation\":\"v\",\"showlegend\":false,\"x\":[3.7,4.1,null,4.1,null,4.2,3.8,3.7,3.6,3.9,3.7,4.6,null,null,4.2,4.8,4.1,4.1,null,4.1,null,3.7,4.2,null,3.8,3.5,null,null,3.3,4.9,3.9,null,4.2,null,null,3.9,null,null,3.9,4.6,null,null,4.1,4.3,4.1,4.1,4.1,3.3,3.7,null,2.9,null,4.1,null,3.9,3.2,3.9,null,null,4.5,4.2,null,4.1,4.1,null,null,null,2.7,null,4.0,null,null,4.1,4.1,null,3.7,null,3.7,4.2,4.1,3.8,3.8,3.7,null,4.2,4.3,4.5,3.7,4.1,4.1,3.7,3.8,4.3,null,null,null,null,3.9,3.7,4.0,3.0,4.3,null,4.2,null,3.6,null,null,4.0,3.9,null,3.6,null,null,null,null,4.1,null,null,4.3,4.1,null,3.8,4.9,null,3.6,4.9,2.3,null,4.1,null,4.3,null,null,3.7,3.7,3.5,null,4.8,null,3.6,null,null,null,null,4.2,4.2,3.2,4.2,3.7,4.1,3.3,null,5.0,3.6,3.7,3.7,3.1,3.9,4.1,3.7,3.7,4.2,3.0,3.3,3.9,null,null,null,null,null,4.1,null,null,3.1,null,null,4.2,3.2,5.0,null,null,null,4.3,2.3,4.1,null,null,3.7,null,4.2,3.1,null,3.6,null,null,4.3,null,null,3.7,3.7,3.5,null,4.8,null,null,null,3.8,5.0,null,3.6,null,4.0,4.2,3.8,4.0,null,3.9,null,3.7,4.4,3.6,4.1,null,3.1,3.7,3.8,3.3,3.9,3.7,null,4.2,null,null,3.9,null,null,4.1,null,5.0,null,null,4.1,3.9,3.5,null,null,null,4.1,4.8,null,4.1,null,null,3.1,null,null,4.2,3.2,5.0,null,4.2,3.7,null,3.7,3.9,null,null,null,null,4.2,null,4.2,null,4.4,4.2,3.1,null,3.6,null,null,4.0,null,null,3.7,null,2.8,null,4.1,2.7,4.3,3.6,4.1,2.0,3.8,null,3.8,4.3,null,3.5,3.3,null,4.2,2.7,null,null,3.9,null,4.2,4.2,3.9,3.9,null,null,5.0,4.2,4.5,null,null,4.1,4.1,3.5,null,null,4.2,3.9,2.7,2.2,4.2,4.1,null,null,null,3.9,null,3.8,null,5.0,4.1,4.4,4.8,null,3.6,null,null,3.9,null,3.2,4.2,null,4.3,3.1,null,4.2,4.1,null,null,3.7,null,null,null,null,null,4.1,4.8,3.1,null,3.2,null,null,null,null,null,3.8,3.9,null,3.9,3.7,null,4.1,4.2,3.6,null,5.0,null,null,4.2,3.7,null,3.7,3.9,null,null,null,null,4.2,4.3,null,4.3,3.8,4.1,2.3,null,null,4.2,4.3,null,3.5,3.8,4.2,3.5,null,null,null,null,null,3.3,3.6,3.8,null,null,4.2,null,null,2.2,4.5,null,4.1,3.9,4.3,null,4.3,4.1,5.0,4.3,null,null,4.1,null,null,3.6,null,null,4.6,3.3,2.7,null,4.3,3.8,4.5,null,null,3.5,3.6,null,3.2,null,3.7,null,4.2,null,3.3,4.1,3.9,3.6,4.2,4.5,null,null,4.1,4.1,3.5,null,null,4.2,3.3,null,null,null,null,4.1,null,3.9,4.1,4.1,null,4.1,3.7,4.4,null,null,null,null,null,4.0,null,4.2,3.9,3.5,null,3.6,null,3.9,4.1,4.3,3.9,3.9,4.1,null,3.9,null,3.7,3.1,null,null,3.9,4.3,null,3.9,3.4,4.4,3.2,4.0,null,4.1,null,4.0,null,null,3.3,null,4.3,3.8,4.1,3.1,4.3,4.4,3.8,3.3,null,3.8,3.5,null,3.7,3.7,null,3.6,2.8,4.2,3.7,4.4,null,4.1,3.5,null,3.6,3.6,3.8,null,5.0,null,null,2.0,3.1,3.9,null,4.2,4.1,3.2,3.7,3.1,null,3.1,null,4.1,null,3.3,null,null,null,null,4.2,null,5.0,null,3.8,3.7,4.1,3.8,3.7,3.7,null,null,3.7,4.1,4.2,4.3,null,4.3,3.8,4.1,2.3,null,null,4.2,null,null,2.2,4.4,5.0,3.6,null,3.9,4.8,null,null,null,null,3.8,null,null,3.6,null,3.5,3.8,null,4.1,null,3.7,null,4.1,null,null,null,2.7,3.8,4.4,null,4.1,null,4.1,4.1,4.3,null,null,null,4.0,3.5,3.7,4.0,3.5,null,null,null,4.1,null,null,null,3.8,3.9,3.4,3.2,null,null,3.2,5.0,4.0,null,2.8,4.0,null,null,3.9,3.8,3.9,3.9,null,4.6,4.1,4.1,3.5,null,null,3.9,3.5,4.1,null,null,null,5.0,3.2,3.6,null,null,null,3.5,4.1,2.7,null,null,3.7,3.7,3.7,4.2,4.2,3.8,2.8,null,5.0,null,4.1,3.8,4.8,null,3.9,null,3.7,3.9,3.3,3.6,3.7,null,3.6,4.1,5.0,3.3,null,null,null,null,4.1,null,3.9,4.1,4.1,null,null,null,null,3.9,3.6,3.3,4.6,3.1,4.1,4.1,3.9,4.1,4.1,4.8,3.5,null,null,3.9,3.9,null,5.0,null,null,null,null,2.8,3.6,3.9,null,5.0,4.2,4.5,null,5.0,4.2,4.0,3.9,3.9,null,null,null,null,3.3,3.6,null,3.6,null,null,null,null,3.6,3.7,3.8,5.0,3.2,null,null,3.7,3.8,null,4.1,null,null,5.0,null,null,3.8,2.7,null,null,null,null,2.8,null,null,null,null,4.0,null,null,2.6,null,3.2,null,null,5.0,3.0,3.1,null,null,null,2.8,4.5,null,null,null,4.1,null,null,3.6,2.3,3.6,null,4.0,3.6,3.6,3.8,null,5.0,null,null,2.0,3.1,3.9,null,4.1,4.0,4.3,null,4.5,4.3,null,4.1,null,null,4.2,3.7,5.0,4.4,null,null,null,null,4.8,4.8,5.0,4.1,null,4.4,3.3,3.7,null,3.8,4.5,null,2.7,null,null,null,null,3.0,5.0,3.9,null,3.9,null,3.5,4.6,null,null,null,3.8,3.3,3.3,4.0,4.1,3.8,3.3,null,4.0,null,4.1,2.8,4.3,null,3.6,null,null,4.0,3.6,null,4.8,3.2,3.6,null,3.9,3.5,4.2,3.8,null,null,null,3.6,3.6,4.3,4.2,3.6,null,null,null,3.6,null,3.5,3.8,null,4.1,null,3.7,null,4.3,4.2,3.6,null,null,4.1,3.0,null,4.8,5.0,3.9,4.3,3.4,4.4,null,4.3,4.2,3.6,null,null,4.1,3.0,null,4.8,5.0,3.9,4.3,3.4,4.4,null,4.3,4.2,3.6,null,null,4.1,3.0,null,4.8,5.0,3.9,4.3,3.4,4.4,null,4.3,4.2,3.6,null,null,4.1,3.0,null,4.8,5.0,3.9,4.3,3.4,4.4,null,null,null,3.9,3.8,3.9,3.9,null,4.6,4.1,4.1,4.3,4.2,3.6,null,null,4.1,3.0,null,4.8,5.0,3.9,4.3,3.4,4.4,null,4.3,4.2,3.6,null,null,4.1,3.0,null,4.8,5.0,3.9,4.3,3.4,4.4,null,4.3,4.2,3.6,null,null,4.1,3.0,null,4.8,5.0,3.9,4.3,3.4,4.4,null,4.3,4.2,3.6,null,null,4.1,3.0,null,4.8,5.0,3.9,4.3,3.4,4.4,null,4.3,4.2,3.6,null,null,4.1,3.0,null,4.8,5.0,3.9,4.3,3.4,4.4,null,4.3,4.2,3.6,null,null,4.1,3.0,null,4.8,5.0,3.9,4.3,3.4,4.4,null,null,null,null,null,3.9,3.6,3.3,4.6,3.1,4.1,4.3,4.2,3.6,null,null,4.1,3.0,null,4.8,5.0,3.9,4.3,3.4,4.4,null,4.3,4.2,3.6,null,null,4.1,3.0,null,4.8,5.0,3.9,4.3,3.4,4.4,null,4.3,4.2,3.6,null,null,4.1,3.0,null,4.8,5.0,3.9,4.3,3.4,4.4,null,4.3,4.2,3.6,null,null,4.1,3.0,null,4.8,5.0,3.9,4.3,3.4,4.4,null,4.3,4.2,3.6,null,null,4.1,3.0,null,4.8,5.0,3.9,4.3,3.4,4.4,null,4.3,4.2,3.6,null,null,4.1,3.0,null,4.8,5.0,3.9,4.3,3.4,4.4,null,4.3,4.2,3.6,null,null,4.1,3.0,null,4.8,5.0,3.9,4.3,3.4,4.4,null,4.3,4.2,3.6,null,null,4.1,3.0,null,4.8,5.0,3.9,4.3,3.4,4.4,null,4.3,4.2,3.6,null,null,4.1,3.0,null,4.8,5.0,3.9,4.3,3.4,4.4,null,4.3,4.2,3.6,null,null,4.1,3.0,null,4.8,5.0,3.9,4.3,3.4,4.4,null,4.3,4.2,3.6,null,null,4.1,3.0,null,4.8,5.0,3.9,4.3,3.4,4.4,null,4.3,4.2,3.6,null,null,4.1,3.0,null,4.8,5.0,3.9,4.3,3.4,4.4,null,4.3,4.2,3.6,null,null,4.1,3.0,null,4.8,5.0,3.9,4.3,3.4,4.4,null,4.3,4.2,3.6,null,null,4.1,3.0,null,4.8,5.0,3.9,4.3,3.4,4.4,null,4.3,4.2,3.6,null,null,4.1,3.0,null,4.8,5.0,3.9,4.3,3.4,4.4,null,4.3,4.2,3.6,null,null,4.1,3.0,null,4.8,5.0,3.9,4.3,3.4,4.4,null,4.3,4.2,3.6,null,null,4.1,3.0,null,4.8,5.0,3.9,4.3,3.4,4.4,null,4.3,4.2,3.6,null,null,4.1,3.0,null,4.8,5.0,3.9,4.3,3.4,4.4,null,4.3,4.2,3.6,null,null,4.1,3.0,null,4.8,5.0,3.9,4.3,3.4,4.4,null,4.3,4.2,3.6,null,null,4.1,3.0,null,4.8,5.0,3.9,4.3,3.4,4.4,null,4.3,4.2,3.6,null,null,4.1,3.0,null,4.8,5.0,3.9,4.3,3.4,4.4,null],\"xaxis\":\"x\",\"yaxis\":\"y\",\"type\":\"histogram\"}],                        {\"template\":{\"data\":{\"bar\":[{\"error_x\":{\"color\":\"#2a3f5f\"},\"error_y\":{\"color\":\"#2a3f5f\"},\"marker\":{\"line\":{\"color\":\"#E5ECF6\",\"width\":0.5},\"pattern\":{\"fillmode\":\"overlay\",\"size\":10,\"solidity\":0.2}},\"type\":\"bar\"}],\"barpolar\":[{\"marker\":{\"line\":{\"color\":\"#E5ECF6\",\"width\":0.5},\"pattern\":{\"fillmode\":\"overlay\",\"size\":10,\"solidity\":0.2}},\"type\":\"barpolar\"}],\"carpet\":[{\"aaxis\":{\"endlinecolor\":\"#2a3f5f\",\"gridcolor\":\"white\",\"linecolor\":\"white\",\"minorgridcolor\":\"white\",\"startlinecolor\":\"#2a3f5f\"},\"baxis\":{\"endlinecolor\":\"#2a3f5f\",\"gridcolor\":\"white\",\"linecolor\":\"white\",\"minorgridcolor\":\"white\",\"startlinecolor\":\"#2a3f5f\"},\"type\":\"carpet\"}],\"choropleth\":[{\"colorbar\":{\"outlinewidth\":0,\"ticks\":\"\"},\"type\":\"choropleth\"}],\"contour\":[{\"colorbar\":{\"outlinewidth\":0,\"ticks\":\"\"},\"colorscale\":[[0.0,\"#0d0887\"],[0.1111111111111111,\"#46039f\"],[0.2222222222222222,\"#7201a8\"],[0.3333333333333333,\"#9c179e\"],[0.4444444444444444,\"#bd3786\"],[0.5555555555555556,\"#d8576b\"],[0.6666666666666666,\"#ed7953\"],[0.7777777777777778,\"#fb9f3a\"],[0.8888888888888888,\"#fdca26\"],[1.0,\"#f0f921\"]],\"type\":\"contour\"}],\"contourcarpet\":[{\"colorbar\":{\"outlinewidth\":0,\"ticks\":\"\"},\"type\":\"contourcarpet\"}],\"heatmap\":[{\"colorbar\":{\"outlinewidth\":0,\"ticks\":\"\"},\"colorscale\":[[0.0,\"#0d0887\"],[0.1111111111111111,\"#46039f\"],[0.2222222222222222,\"#7201a8\"],[0.3333333333333333,\"#9c179e\"],[0.4444444444444444,\"#bd3786\"],[0.5555555555555556,\"#d8576b\"],[0.6666666666666666,\"#ed7953\"],[0.7777777777777778,\"#fb9f3a\"],[0.8888888888888888,\"#fdca26\"],[1.0,\"#f0f921\"]],\"type\":\"heatmap\"}],\"heatmapgl\":[{\"colorbar\":{\"outlinewidth\":0,\"ticks\":\"\"},\"colorscale\":[[0.0,\"#0d0887\"],[0.1111111111111111,\"#46039f\"],[0.2222222222222222,\"#7201a8\"],[0.3333333333333333,\"#9c179e\"],[0.4444444444444444,\"#bd3786\"],[0.5555555555555556,\"#d8576b\"],[0.6666666666666666,\"#ed7953\"],[0.7777777777777778,\"#fb9f3a\"],[0.8888888888888888,\"#fdca26\"],[1.0,\"#f0f921\"]],\"type\":\"heatmapgl\"}],\"histogram\":[{\"marker\":{\"pattern\":{\"fillmode\":\"overlay\",\"size\":10,\"solidity\":0.2}},\"type\":\"histogram\"}],\"histogram2d\":[{\"colorbar\":{\"outlinewidth\":0,\"ticks\":\"\"},\"colorscale\":[[0.0,\"#0d0887\"],[0.1111111111111111,\"#46039f\"],[0.2222222222222222,\"#7201a8\"],[0.3333333333333333,\"#9c179e\"],[0.4444444444444444,\"#bd3786\"],[0.5555555555555556,\"#d8576b\"],[0.6666666666666666,\"#ed7953\"],[0.7777777777777778,\"#fb9f3a\"],[0.8888888888888888,\"#fdca26\"],[1.0,\"#f0f921\"]],\"type\":\"histogram2d\"}],\"histogram2dcontour\":[{\"colorbar\":{\"outlinewidth\":0,\"ticks\":\"\"},\"colorscale\":[[0.0,\"#0d0887\"],[0.1111111111111111,\"#46039f\"],[0.2222222222222222,\"#7201a8\"],[0.3333333333333333,\"#9c179e\"],[0.4444444444444444,\"#bd3786\"],[0.5555555555555556,\"#d8576b\"],[0.6666666666666666,\"#ed7953\"],[0.7777777777777778,\"#fb9f3a\"],[0.8888888888888888,\"#fdca26\"],[1.0,\"#f0f921\"]],\"type\":\"histogram2dcontour\"}],\"mesh3d\":[{\"colorbar\":{\"outlinewidth\":0,\"ticks\":\"\"},\"type\":\"mesh3d\"}],\"parcoords\":[{\"line\":{\"colorbar\":{\"outlinewidth\":0,\"ticks\":\"\"}},\"type\":\"parcoords\"}],\"pie\":[{\"automargin\":true,\"type\":\"pie\"}],\"scatter\":[{\"marker\":{\"colorbar\":{\"outlinewidth\":0,\"ticks\":\"\"}},\"type\":\"scatter\"}],\"scatter3d\":[{\"line\":{\"colorbar\":{\"outlinewidth\":0,\"ticks\":\"\"}},\"marker\":{\"colorbar\":{\"outlinewidth\":0,\"ticks\":\"\"}},\"type\":\"scatter3d\"}],\"scattercarpet\":[{\"marker\":{\"colorbar\":{\"outlinewidth\":0,\"ticks\":\"\"}},\"type\":\"scattercarpet\"}],\"scattergeo\":[{\"marker\":{\"colorbar\":{\"outlinewidth\":0,\"ticks\":\"\"}},\"type\":\"scattergeo\"}],\"scattergl\":[{\"marker\":{\"colorbar\":{\"outlinewidth\":0,\"ticks\":\"\"}},\"type\":\"scattergl\"}],\"scattermapbox\":[{\"marker\":{\"colorbar\":{\"outlinewidth\":0,\"ticks\":\"\"}},\"type\":\"scattermapbox\"}],\"scatterpolar\":[{\"marker\":{\"colorbar\":{\"outlinewidth\":0,\"ticks\":\"\"}},\"type\":\"scatterpolar\"}],\"scatterpolargl\":[{\"marker\":{\"colorbar\":{\"outlinewidth\":0,\"ticks\":\"\"}},\"type\":\"scatterpolargl\"}],\"scatterternary\":[{\"marker\":{\"colorbar\":{\"outlinewidth\":0,\"ticks\":\"\"}},\"type\":\"scatterternary\"}],\"surface\":[{\"colorbar\":{\"outlinewidth\":0,\"ticks\":\"\"},\"colorscale\":[[0.0,\"#0d0887\"],[0.1111111111111111,\"#46039f\"],[0.2222222222222222,\"#7201a8\"],[0.3333333333333333,\"#9c179e\"],[0.4444444444444444,\"#bd3786\"],[0.5555555555555556,\"#d8576b\"],[0.6666666666666666,\"#ed7953\"],[0.7777777777777778,\"#fb9f3a\"],[0.8888888888888888,\"#fdca26\"],[1.0,\"#f0f921\"]],\"type\":\"surface\"}],\"table\":[{\"cells\":{\"fill\":{\"color\":\"#EBF0F8\"},\"line\":{\"color\":\"white\"}},\"header\":{\"fill\":{\"color\":\"#C8D4E3\"},\"line\":{\"color\":\"white\"}},\"type\":\"table\"}]},\"layout\":{\"annotationdefaults\":{\"arrowcolor\":\"#2a3f5f\",\"arrowhead\":0,\"arrowwidth\":1},\"autotypenumbers\":\"strict\",\"coloraxis\":{\"colorbar\":{\"outlinewidth\":0,\"ticks\":\"\"}},\"colorscale\":{\"diverging\":[[0,\"#8e0152\"],[0.1,\"#c51b7d\"],[0.2,\"#de77ae\"],[0.3,\"#f1b6da\"],[0.4,\"#fde0ef\"],[0.5,\"#f7f7f7\"],[0.6,\"#e6f5d0\"],[0.7,\"#b8e186\"],[0.8,\"#7fbc41\"],[0.9,\"#4d9221\"],[1,\"#276419\"]],\"sequential\":[[0.0,\"#0d0887\"],[0.1111111111111111,\"#46039f\"],[0.2222222222222222,\"#7201a8\"],[0.3333333333333333,\"#9c179e\"],[0.4444444444444444,\"#bd3786\"],[0.5555555555555556,\"#d8576b\"],[0.6666666666666666,\"#ed7953\"],[0.7777777777777778,\"#fb9f3a\"],[0.8888888888888888,\"#fdca26\"],[1.0,\"#f0f921\"]],\"sequentialminus\":[[0.0,\"#0d0887\"],[0.1111111111111111,\"#46039f\"],[0.2222222222222222,\"#7201a8\"],[0.3333333333333333,\"#9c179e\"],[0.4444444444444444,\"#bd3786\"],[0.5555555555555556,\"#d8576b\"],[0.6666666666666666,\"#ed7953\"],[0.7777777777777778,\"#fb9f3a\"],[0.8888888888888888,\"#fdca26\"],[1.0,\"#f0f921\"]]},\"colorway\":[\"#636efa\",\"#EF553B\",\"#00cc96\",\"#ab63fa\",\"#FFA15A\",\"#19d3f3\",\"#FF6692\",\"#B6E880\",\"#FF97FF\",\"#FECB52\"],\"font\":{\"color\":\"#2a3f5f\"},\"geo\":{\"bgcolor\":\"white\",\"lakecolor\":\"white\",\"landcolor\":\"#E5ECF6\",\"showlakes\":true,\"showland\":true,\"subunitcolor\":\"white\"},\"hoverlabel\":{\"align\":\"left\"},\"hovermode\":\"closest\",\"mapbox\":{\"style\":\"light\"},\"paper_bgcolor\":\"white\",\"plot_bgcolor\":\"#E5ECF6\",\"polar\":{\"angularaxis\":{\"gridcolor\":\"white\",\"linecolor\":\"white\",\"ticks\":\"\"},\"bgcolor\":\"#E5ECF6\",\"radialaxis\":{\"gridcolor\":\"white\",\"linecolor\":\"white\",\"ticks\":\"\"}},\"scene\":{\"xaxis\":{\"backgroundcolor\":\"#E5ECF6\",\"gridcolor\":\"white\",\"gridwidth\":2,\"linecolor\":\"white\",\"showbackground\":true,\"ticks\":\"\",\"zerolinecolor\":\"white\"},\"yaxis\":{\"backgroundcolor\":\"#E5ECF6\",\"gridcolor\":\"white\",\"gridwidth\":2,\"linecolor\":\"white\",\"showbackground\":true,\"ticks\":\"\",\"zerolinecolor\":\"white\"},\"zaxis\":{\"backgroundcolor\":\"#E5ECF6\",\"gridcolor\":\"white\",\"gridwidth\":2,\"linecolor\":\"white\",\"showbackground\":true,\"ticks\":\"\",\"zerolinecolor\":\"white\"}},\"shapedefaults\":{\"line\":{\"color\":\"#2a3f5f\"}},\"ternary\":{\"aaxis\":{\"gridcolor\":\"white\",\"linecolor\":\"white\",\"ticks\":\"\"},\"baxis\":{\"gridcolor\":\"white\",\"linecolor\":\"white\",\"ticks\":\"\"},\"bgcolor\":\"#E5ECF6\",\"caxis\":{\"gridcolor\":\"white\",\"linecolor\":\"white\",\"ticks\":\"\"}},\"title\":{\"x\":0.05},\"xaxis\":{\"automargin\":true,\"gridcolor\":\"white\",\"linecolor\":\"white\",\"ticks\":\"\",\"title\":{\"standoff\":15},\"zerolinecolor\":\"white\",\"zerolinewidth\":2},\"yaxis\":{\"automargin\":true,\"gridcolor\":\"white\",\"linecolor\":\"white\",\"ticks\":\"\",\"title\":{\"standoff\":15},\"zerolinecolor\":\"white\",\"zerolinewidth\":2}}},\"xaxis\":{\"anchor\":\"y\",\"domain\":[0.0,1.0],\"title\":{\"text\":\"Ratings\"}},\"yaxis\":{\"anchor\":\"x\",\"domain\":[0.0,1.0],\"title\":{\"text\":\"count\"}},\"legend\":{\"tracegroupgap\":0},\"margin\":{\"t\":60},\"barmode\":\"relative\",\"title\":{\"text\":\"Ratings Distribution\"},\"width\":800,\"height\":400},                        {\"responsive\": true}                    ).then(function(){\n",
       "                            \n",
       "var gd = document.getElementById('5f4b638c-9319-4bd3-8468-740ba9f21609');\n",
       "var x = new MutationObserver(function (mutations, observer) {{\n",
       "        var display = window.getComputedStyle(gd).display;\n",
       "        if (!display || display === 'none') {{\n",
       "            console.log([gd, 'removed!']);\n",
       "            Plotly.purge(gd);\n",
       "            observer.disconnect();\n",
       "        }}\n",
       "}});\n",
       "\n",
       "// Listen for the removal of the full notebook cells\n",
       "var notebookContainer = gd.closest('#notebook-container');\n",
       "if (notebookContainer) {{\n",
       "    x.observe(notebookContainer, {childList: true});\n",
       "}}\n",
       "\n",
       "// Listen for the clearing of the current output cell\n",
       "var outputEl = gd.closest('.output');\n",
       "if (outputEl) {{\n",
       "    x.observe(outputEl, {childList: true});\n",
       "}}\n",
       "\n",
       "                        })                };                });            </script>        </div>"
      ]
     },
     "metadata": {},
     "output_type": "display_data"
    }
   ],
   "source": [
    "fig = px.histogram(data, x=\"Ratings\")\n",
    "fig.update_layout(title='Ratings Distribution', width=800, height=400)\n",
    "fig.show()"
   ]
  },
  {
   "cell_type": "markdown",
   "metadata": {},
   "source": [
    "### A deeper dive into features"
   ]
  },
  {
   "cell_type": "code",
   "execution_count": 57,
   "metadata": {},
   "outputs": [],
   "source": [
    "def plot_histogram_with_other_column(df: pd.DataFrame, column_name: str, fraction):\n",
    "    value_counts = df[column_name].value_counts()\n",
    "    entries_to_plot = value_counts[value_counts/ len(df) > fraction]\n",
    "    # entries_to_plot['Other'] = value_counts[value_counts/ len(df) <= fraction].sum()\n",
    "    entries_to_plot = pd.DataFrame(entries_to_plot).reset_index()\n",
    "    entries_to_plot.columns = [column_name, 'count']\n",
    "    entries_to_plot.sort_values(by='count', inplace=True)\n",
    "    \n",
    "    return entries_to_plot"
   ]
  },
  {
   "cell_type": "code",
   "execution_count": 58,
   "metadata": {},
   "outputs": [
    {
     "data": {
      "application/vnd.plotly.v1+json": {
       "config": {
        "plotlyServerURL": "https://plot.ly"
       },
       "data": [
        {
         "alignmentgroup": "True",
         "hovertemplate": "Company=%{x}<br>count=%{y}<extra></extra>",
         "legendgroup": "",
         "marker": {
          "color": "#636efa",
          "pattern": {
           "shape": ""
          }
         },
         "name": "",
         "offsetgroup": "",
         "orientation": "v",
         "showlegend": false,
         "textposition": "auto",
         "type": "bar",
         "x": [
          "Pinterest",
          "Splunk",
          "Square",
          "Astra",
          "Exabeam",
          "Lambda",
          "TeamForce Technology",
          "Grand Rounds",
          "Ditto Technologies",
          "Visual Concepts",
          "Breker Verification Systems",
          "Cargotec",
          "Unusual Ventures",
          "wepay",
          "Ubisoft",
          "Databricks",
          "Chan Zuckerberg Initiative",
          "Salesforce",
          "Twitter"
         ],
         "xaxis": "x",
         "y": [
          17,
          21,
          23,
          31,
          31,
          31,
          31,
          32,
          32,
          32,
          32,
          32,
          33,
          34,
          35,
          35,
          36,
          40,
          42
         ],
         "yaxis": "y"
        }
       ],
       "layout": {
        "barmode": "relative",
        "height": 600,
        "legend": {
         "tracegroupgap": 0
        },
        "margin": {
         "t": 60
        },
        "template": {
         "data": {
          "bar": [
           {
            "error_x": {
             "color": "#2a3f5f"
            },
            "error_y": {
             "color": "#2a3f5f"
            },
            "marker": {
             "line": {
              "color": "#E5ECF6",
              "width": 0.5
             },
             "pattern": {
              "fillmode": "overlay",
              "size": 10,
              "solidity": 0.2
             }
            },
            "type": "bar"
           }
          ],
          "barpolar": [
           {
            "marker": {
             "line": {
              "color": "#E5ECF6",
              "width": 0.5
             },
             "pattern": {
              "fillmode": "overlay",
              "size": 10,
              "solidity": 0.2
             }
            },
            "type": "barpolar"
           }
          ],
          "carpet": [
           {
            "aaxis": {
             "endlinecolor": "#2a3f5f",
             "gridcolor": "white",
             "linecolor": "white",
             "minorgridcolor": "white",
             "startlinecolor": "#2a3f5f"
            },
            "baxis": {
             "endlinecolor": "#2a3f5f",
             "gridcolor": "white",
             "linecolor": "white",
             "minorgridcolor": "white",
             "startlinecolor": "#2a3f5f"
            },
            "type": "carpet"
           }
          ],
          "choropleth": [
           {
            "colorbar": {
             "outlinewidth": 0,
             "ticks": ""
            },
            "type": "choropleth"
           }
          ],
          "contour": [
           {
            "colorbar": {
             "outlinewidth": 0,
             "ticks": ""
            },
            "colorscale": [
             [
              0,
              "#0d0887"
             ],
             [
              0.1111111111111111,
              "#46039f"
             ],
             [
              0.2222222222222222,
              "#7201a8"
             ],
             [
              0.3333333333333333,
              "#9c179e"
             ],
             [
              0.4444444444444444,
              "#bd3786"
             ],
             [
              0.5555555555555556,
              "#d8576b"
             ],
             [
              0.6666666666666666,
              "#ed7953"
             ],
             [
              0.7777777777777778,
              "#fb9f3a"
             ],
             [
              0.8888888888888888,
              "#fdca26"
             ],
             [
              1,
              "#f0f921"
             ]
            ],
            "type": "contour"
           }
          ],
          "contourcarpet": [
           {
            "colorbar": {
             "outlinewidth": 0,
             "ticks": ""
            },
            "type": "contourcarpet"
           }
          ],
          "heatmap": [
           {
            "colorbar": {
             "outlinewidth": 0,
             "ticks": ""
            },
            "colorscale": [
             [
              0,
              "#0d0887"
             ],
             [
              0.1111111111111111,
              "#46039f"
             ],
             [
              0.2222222222222222,
              "#7201a8"
             ],
             [
              0.3333333333333333,
              "#9c179e"
             ],
             [
              0.4444444444444444,
              "#bd3786"
             ],
             [
              0.5555555555555556,
              "#d8576b"
             ],
             [
              0.6666666666666666,
              "#ed7953"
             ],
             [
              0.7777777777777778,
              "#fb9f3a"
             ],
             [
              0.8888888888888888,
              "#fdca26"
             ],
             [
              1,
              "#f0f921"
             ]
            ],
            "type": "heatmap"
           }
          ],
          "heatmapgl": [
           {
            "colorbar": {
             "outlinewidth": 0,
             "ticks": ""
            },
            "colorscale": [
             [
              0,
              "#0d0887"
             ],
             [
              0.1111111111111111,
              "#46039f"
             ],
             [
              0.2222222222222222,
              "#7201a8"
             ],
             [
              0.3333333333333333,
              "#9c179e"
             ],
             [
              0.4444444444444444,
              "#bd3786"
             ],
             [
              0.5555555555555556,
              "#d8576b"
             ],
             [
              0.6666666666666666,
              "#ed7953"
             ],
             [
              0.7777777777777778,
              "#fb9f3a"
             ],
             [
              0.8888888888888888,
              "#fdca26"
             ],
             [
              1,
              "#f0f921"
             ]
            ],
            "type": "heatmapgl"
           }
          ],
          "histogram": [
           {
            "marker": {
             "pattern": {
              "fillmode": "overlay",
              "size": 10,
              "solidity": 0.2
             }
            },
            "type": "histogram"
           }
          ],
          "histogram2d": [
           {
            "colorbar": {
             "outlinewidth": 0,
             "ticks": ""
            },
            "colorscale": [
             [
              0,
              "#0d0887"
             ],
             [
              0.1111111111111111,
              "#46039f"
             ],
             [
              0.2222222222222222,
              "#7201a8"
             ],
             [
              0.3333333333333333,
              "#9c179e"
             ],
             [
              0.4444444444444444,
              "#bd3786"
             ],
             [
              0.5555555555555556,
              "#d8576b"
             ],
             [
              0.6666666666666666,
              "#ed7953"
             ],
             [
              0.7777777777777778,
              "#fb9f3a"
             ],
             [
              0.8888888888888888,
              "#fdca26"
             ],
             [
              1,
              "#f0f921"
             ]
            ],
            "type": "histogram2d"
           }
          ],
          "histogram2dcontour": [
           {
            "colorbar": {
             "outlinewidth": 0,
             "ticks": ""
            },
            "colorscale": [
             [
              0,
              "#0d0887"
             ],
             [
              0.1111111111111111,
              "#46039f"
             ],
             [
              0.2222222222222222,
              "#7201a8"
             ],
             [
              0.3333333333333333,
              "#9c179e"
             ],
             [
              0.4444444444444444,
              "#bd3786"
             ],
             [
              0.5555555555555556,
              "#d8576b"
             ],
             [
              0.6666666666666666,
              "#ed7953"
             ],
             [
              0.7777777777777778,
              "#fb9f3a"
             ],
             [
              0.8888888888888888,
              "#fdca26"
             ],
             [
              1,
              "#f0f921"
             ]
            ],
            "type": "histogram2dcontour"
           }
          ],
          "mesh3d": [
           {
            "colorbar": {
             "outlinewidth": 0,
             "ticks": ""
            },
            "type": "mesh3d"
           }
          ],
          "parcoords": [
           {
            "line": {
             "colorbar": {
              "outlinewidth": 0,
              "ticks": ""
             }
            },
            "type": "parcoords"
           }
          ],
          "pie": [
           {
            "automargin": true,
            "type": "pie"
           }
          ],
          "scatter": [
           {
            "marker": {
             "colorbar": {
              "outlinewidth": 0,
              "ticks": ""
             }
            },
            "type": "scatter"
           }
          ],
          "scatter3d": [
           {
            "line": {
             "colorbar": {
              "outlinewidth": 0,
              "ticks": ""
             }
            },
            "marker": {
             "colorbar": {
              "outlinewidth": 0,
              "ticks": ""
             }
            },
            "type": "scatter3d"
           }
          ],
          "scattercarpet": [
           {
            "marker": {
             "colorbar": {
              "outlinewidth": 0,
              "ticks": ""
             }
            },
            "type": "scattercarpet"
           }
          ],
          "scattergeo": [
           {
            "marker": {
             "colorbar": {
              "outlinewidth": 0,
              "ticks": ""
             }
            },
            "type": "scattergeo"
           }
          ],
          "scattergl": [
           {
            "marker": {
             "colorbar": {
              "outlinewidth": 0,
              "ticks": ""
             }
            },
            "type": "scattergl"
           }
          ],
          "scattermapbox": [
           {
            "marker": {
             "colorbar": {
              "outlinewidth": 0,
              "ticks": ""
             }
            },
            "type": "scattermapbox"
           }
          ],
          "scatterpolar": [
           {
            "marker": {
             "colorbar": {
              "outlinewidth": 0,
              "ticks": ""
             }
            },
            "type": "scatterpolar"
           }
          ],
          "scatterpolargl": [
           {
            "marker": {
             "colorbar": {
              "outlinewidth": 0,
              "ticks": ""
             }
            },
            "type": "scatterpolargl"
           }
          ],
          "scatterternary": [
           {
            "marker": {
             "colorbar": {
              "outlinewidth": 0,
              "ticks": ""
             }
            },
            "type": "scatterternary"
           }
          ],
          "surface": [
           {
            "colorbar": {
             "outlinewidth": 0,
             "ticks": ""
            },
            "colorscale": [
             [
              0,
              "#0d0887"
             ],
             [
              0.1111111111111111,
              "#46039f"
             ],
             [
              0.2222222222222222,
              "#7201a8"
             ],
             [
              0.3333333333333333,
              "#9c179e"
             ],
             [
              0.4444444444444444,
              "#bd3786"
             ],
             [
              0.5555555555555556,
              "#d8576b"
             ],
             [
              0.6666666666666666,
              "#ed7953"
             ],
             [
              0.7777777777777778,
              "#fb9f3a"
             ],
             [
              0.8888888888888888,
              "#fdca26"
             ],
             [
              1,
              "#f0f921"
             ]
            ],
            "type": "surface"
           }
          ],
          "table": [
           {
            "cells": {
             "fill": {
              "color": "#EBF0F8"
             },
             "line": {
              "color": "white"
             }
            },
            "header": {
             "fill": {
              "color": "#C8D4E3"
             },
             "line": {
              "color": "white"
             }
            },
            "type": "table"
           }
          ]
         },
         "layout": {
          "annotationdefaults": {
           "arrowcolor": "#2a3f5f",
           "arrowhead": 0,
           "arrowwidth": 1
          },
          "autotypenumbers": "strict",
          "coloraxis": {
           "colorbar": {
            "outlinewidth": 0,
            "ticks": ""
           }
          },
          "colorscale": {
           "diverging": [
            [
             0,
             "#8e0152"
            ],
            [
             0.1,
             "#c51b7d"
            ],
            [
             0.2,
             "#de77ae"
            ],
            [
             0.3,
             "#f1b6da"
            ],
            [
             0.4,
             "#fde0ef"
            ],
            [
             0.5,
             "#f7f7f7"
            ],
            [
             0.6,
             "#e6f5d0"
            ],
            [
             0.7,
             "#b8e186"
            ],
            [
             0.8,
             "#7fbc41"
            ],
            [
             0.9,
             "#4d9221"
            ],
            [
             1,
             "#276419"
            ]
           ],
           "sequential": [
            [
             0,
             "#0d0887"
            ],
            [
             0.1111111111111111,
             "#46039f"
            ],
            [
             0.2222222222222222,
             "#7201a8"
            ],
            [
             0.3333333333333333,
             "#9c179e"
            ],
            [
             0.4444444444444444,
             "#bd3786"
            ],
            [
             0.5555555555555556,
             "#d8576b"
            ],
            [
             0.6666666666666666,
             "#ed7953"
            ],
            [
             0.7777777777777778,
             "#fb9f3a"
            ],
            [
             0.8888888888888888,
             "#fdca26"
            ],
            [
             1,
             "#f0f921"
            ]
           ],
           "sequentialminus": [
            [
             0,
             "#0d0887"
            ],
            [
             0.1111111111111111,
             "#46039f"
            ],
            [
             0.2222222222222222,
             "#7201a8"
            ],
            [
             0.3333333333333333,
             "#9c179e"
            ],
            [
             0.4444444444444444,
             "#bd3786"
            ],
            [
             0.5555555555555556,
             "#d8576b"
            ],
            [
             0.6666666666666666,
             "#ed7953"
            ],
            [
             0.7777777777777778,
             "#fb9f3a"
            ],
            [
             0.8888888888888888,
             "#fdca26"
            ],
            [
             1,
             "#f0f921"
            ]
           ]
          },
          "colorway": [
           "#636efa",
           "#EF553B",
           "#00cc96",
           "#ab63fa",
           "#FFA15A",
           "#19d3f3",
           "#FF6692",
           "#B6E880",
           "#FF97FF",
           "#FECB52"
          ],
          "font": {
           "color": "#2a3f5f"
          },
          "geo": {
           "bgcolor": "white",
           "lakecolor": "white",
           "landcolor": "#E5ECF6",
           "showlakes": true,
           "showland": true,
           "subunitcolor": "white"
          },
          "hoverlabel": {
           "align": "left"
          },
          "hovermode": "closest",
          "mapbox": {
           "style": "light"
          },
          "paper_bgcolor": "white",
          "plot_bgcolor": "#E5ECF6",
          "polar": {
           "angularaxis": {
            "gridcolor": "white",
            "linecolor": "white",
            "ticks": ""
           },
           "bgcolor": "#E5ECF6",
           "radialaxis": {
            "gridcolor": "white",
            "linecolor": "white",
            "ticks": ""
           }
          },
          "scene": {
           "xaxis": {
            "backgroundcolor": "#E5ECF6",
            "gridcolor": "white",
            "gridwidth": 2,
            "linecolor": "white",
            "showbackground": true,
            "ticks": "",
            "zerolinecolor": "white"
           },
           "yaxis": {
            "backgroundcolor": "#E5ECF6",
            "gridcolor": "white",
            "gridwidth": 2,
            "linecolor": "white",
            "showbackground": true,
            "ticks": "",
            "zerolinecolor": "white"
           },
           "zaxis": {
            "backgroundcolor": "#E5ECF6",
            "gridcolor": "white",
            "gridwidth": 2,
            "linecolor": "white",
            "showbackground": true,
            "ticks": "",
            "zerolinecolor": "white"
           }
          },
          "shapedefaults": {
           "line": {
            "color": "#2a3f5f"
           }
          },
          "ternary": {
           "aaxis": {
            "gridcolor": "white",
            "linecolor": "white",
            "ticks": ""
           },
           "baxis": {
            "gridcolor": "white",
            "linecolor": "white",
            "ticks": ""
           },
           "bgcolor": "#E5ECF6",
           "caxis": {
            "gridcolor": "white",
            "linecolor": "white",
            "ticks": ""
           }
          },
          "title": {
           "x": 0.05
          },
          "xaxis": {
           "automargin": true,
           "gridcolor": "white",
           "linecolor": "white",
           "ticks": "",
           "title": {
            "standoff": 15
           },
           "zerolinecolor": "white",
           "zerolinewidth": 2
          },
          "yaxis": {
           "automargin": true,
           "gridcolor": "white",
           "linecolor": "white",
           "ticks": "",
           "title": {
            "standoff": 15
           },
           "zerolinecolor": "white",
           "zerolinewidth": 2
          }
         }
        },
        "title": {
         "text": "Companies Distribution- Top 19 Companies"
        },
        "width": 1200,
        "xaxis": {
         "anchor": "y",
         "autorange": true,
         "domain": [
          0,
          1
         ],
         "range": [
          -0.5,
          18.5
         ],
         "title": {
          "text": "Company"
         },
         "type": "category"
        },
        "yaxis": {
         "anchor": "x",
         "autorange": true,
         "domain": [
          0,
          1
         ],
         "range": [
          0,
          44.21052631578947
         ],
         "title": {
          "text": "count"
         },
         "type": "linear"
        }
       }
      },
      "image/png": "[encoded data removed]",
      "text/html": [
       "<div>                            <div id=\"5e51495f-90eb-420b-9e04-d1029f254b87\" class=\"plotly-graph-div\" style=\"height:600px; width:1200px;\"></div>            <script type=\"text/javascript\">                require([\"plotly\"], function(Plotly) {                    window.PLOTLYENV=window.PLOTLYENV || {};                                    if (document.getElementById(\"5e51495f-90eb-420b-9e04-d1029f254b87\")) {                    Plotly.newPlot(                        \"5e51495f-90eb-420b-9e04-d1029f254b87\",                        [{\"alignmentgroup\":\"True\",\"hovertemplate\":\"Company=%{x}<br>count=%{y}<extra></extra>\",\"legendgroup\":\"\",\"marker\":{\"color\":\"#636efa\",\"pattern\":{\"shape\":\"\"}},\"name\":\"\",\"offsetgroup\":\"\",\"orientation\":\"v\",\"showlegend\":false,\"textposition\":\"auto\",\"x\":[\"Pinterest\",\"Splunk\",\"Square\",\"Astra\",\"Exabeam\",\"Lambda\",\"TeamForce Technology\",\"Grand Rounds\",\"Ditto Technologies\",\"Visual Concepts\",\"Breker Verification Systems\",\"Cargotec\",\"Unusual Ventures\",\"wepay\",\"Ubisoft\",\"Databricks\",\"Chan Zuckerberg Initiative\",\"Salesforce\",\"Twitter\"],\"xaxis\":\"x\",\"y\":[17,21,23,31,31,31,31,32,32,32,32,32,33,34,35,35,36,40,42],\"yaxis\":\"y\",\"type\":\"bar\"}],                        {\"template\":{\"data\":{\"bar\":[{\"error_x\":{\"color\":\"#2a3f5f\"},\"error_y\":{\"color\":\"#2a3f5f\"},\"marker\":{\"line\":{\"color\":\"#E5ECF6\",\"width\":0.5},\"pattern\":{\"fillmode\":\"overlay\",\"size\":10,\"solidity\":0.2}},\"type\":\"bar\"}],\"barpolar\":[{\"marker\":{\"line\":{\"color\":\"#E5ECF6\",\"width\":0.5},\"pattern\":{\"fillmode\":\"overlay\",\"size\":10,\"solidity\":0.2}},\"type\":\"barpolar\"}],\"carpet\":[{\"aaxis\":{\"endlinecolor\":\"#2a3f5f\",\"gridcolor\":\"white\",\"linecolor\":\"white\",\"minorgridcolor\":\"white\",\"startlinecolor\":\"#2a3f5f\"},\"baxis\":{\"endlinecolor\":\"#2a3f5f\",\"gridcolor\":\"white\",\"linecolor\":\"white\",\"minorgridcolor\":\"white\",\"startlinecolor\":\"#2a3f5f\"},\"type\":\"carpet\"}],\"choropleth\":[{\"colorbar\":{\"outlinewidth\":0,\"ticks\":\"\"},\"type\":\"choropleth\"}],\"contour\":[{\"colorbar\":{\"outlinewidth\":0,\"ticks\":\"\"},\"colorscale\":[[0.0,\"#0d0887\"],[0.1111111111111111,\"#46039f\"],[0.2222222222222222,\"#7201a8\"],[0.3333333333333333,\"#9c179e\"],[0.4444444444444444,\"#bd3786\"],[0.5555555555555556,\"#d8576b\"],[0.6666666666666666,\"#ed7953\"],[0.7777777777777778,\"#fb9f3a\"],[0.8888888888888888,\"#fdca26\"],[1.0,\"#f0f921\"]],\"type\":\"contour\"}],\"contourcarpet\":[{\"colorbar\":{\"outlinewidth\":0,\"ticks\":\"\"},\"type\":\"contourcarpet\"}],\"heatmap\":[{\"colorbar\":{\"outlinewidth\":0,\"ticks\":\"\"},\"colorscale\":[[0.0,\"#0d0887\"],[0.1111111111111111,\"#46039f\"],[0.2222222222222222,\"#7201a8\"],[0.3333333333333333,\"#9c179e\"],[0.4444444444444444,\"#bd3786\"],[0.5555555555555556,\"#d8576b\"],[0.6666666666666666,\"#ed7953\"],[0.7777777777777778,\"#fb9f3a\"],[0.8888888888888888,\"#fdca26\"],[1.0,\"#f0f921\"]],\"type\":\"heatmap\"}],\"heatmapgl\":[{\"colorbar\":{\"outlinewidth\":0,\"ticks\":\"\"},\"colorscale\":[[0.0,\"#0d0887\"],[0.1111111111111111,\"#46039f\"],[0.2222222222222222,\"#7201a8\"],[0.3333333333333333,\"#9c179e\"],[0.4444444444444444,\"#bd3786\"],[0.5555555555555556,\"#d8576b\"],[0.6666666666666666,\"#ed7953\"],[0.7777777777777778,\"#fb9f3a\"],[0.8888888888888888,\"#fdca26\"],[1.0,\"#f0f921\"]],\"type\":\"heatmapgl\"}],\"histogram\":[{\"marker\":{\"pattern\":{\"fillmode\":\"overlay\",\"size\":10,\"solidity\":0.2}},\"type\":\"histogram\"}],\"histogram2d\":[{\"colorbar\":{\"outlinewidth\":0,\"ticks\":\"\"},\"colorscale\":[[0.0,\"#0d0887\"],[0.1111111111111111,\"#46039f\"],[0.2222222222222222,\"#7201a8\"],[0.3333333333333333,\"#9c179e\"],[0.4444444444444444,\"#bd3786\"],[0.5555555555555556,\"#d8576b\"],[0.6666666666666666,\"#ed7953\"],[0.7777777777777778,\"#fb9f3a\"],[0.8888888888888888,\"#fdca26\"],[1.0,\"#f0f921\"]],\"type\":\"histogram2d\"}],\"histogram2dcontour\":[{\"colorbar\":{\"outlinewidth\":0,\"ticks\":\"\"},\"colorscale\":[[0.0,\"#0d0887\"],[0.1111111111111111,\"#46039f\"],[0.2222222222222222,\"#7201a8\"],[0.3333333333333333,\"#9c179e\"],[0.4444444444444444,\"#bd3786\"],[0.5555555555555556,\"#d8576b\"],[0.6666666666666666,\"#ed7953\"],[0.7777777777777778,\"#fb9f3a\"],[0.8888888888888888,\"#fdca26\"],[1.0,\"#f0f921\"]],\"type\":\"histogram2dcontour\"}],\"mesh3d\":[{\"colorbar\":{\"outlinewidth\":0,\"ticks\":\"\"},\"type\":\"mesh3d\"}],\"parcoords\":[{\"line\":{\"colorbar\":{\"outlinewidth\":0,\"ticks\":\"\"}},\"type\":\"parcoords\"}],\"pie\":[{\"automargin\":true,\"type\":\"pie\"}],\"scatter\":[{\"marker\":{\"colorbar\":{\"outlinewidth\":0,\"ticks\":\"\"}},\"type\":\"scatter\"}],\"scatter3d\":[{\"line\":{\"colorbar\":{\"outlinewidth\":0,\"ticks\":\"\"}},\"marker\":{\"colorbar\":{\"outlinewidth\":0,\"ticks\":\"\"}},\"type\":\"scatter3d\"}],\"scattercarpet\":[{\"marker\":{\"colorbar\":{\"outlinewidth\":0,\"ticks\":\"\"}},\"type\":\"scattercarpet\"}],\"scattergeo\":[{\"marker\":{\"colorbar\":{\"outlinewidth\":0,\"ticks\":\"\"}},\"type\":\"scattergeo\"}],\"scattergl\":[{\"marker\":{\"colorbar\":{\"outlinewidth\":0,\"ticks\":\"\"}},\"type\":\"scattergl\"}],\"scattermapbox\":[{\"marker\":{\"colorbar\":{\"outlinewidth\":0,\"ticks\":\"\"}},\"type\":\"scattermapbox\"}],\"scatterpolar\":[{\"marker\":{\"colorbar\":{\"outlinewidth\":0,\"ticks\":\"\"}},\"type\":\"scatterpolar\"}],\"scatterpolargl\":[{\"marker\":{\"colorbar\":{\"outlinewidth\":0,\"ticks\":\"\"}},\"type\":\"scatterpolargl\"}],\"scatterternary\":[{\"marker\":{\"colorbar\":{\"outlinewidth\":0,\"ticks\":\"\"}},\"type\":\"scatterternary\"}],\"surface\":[{\"colorbar\":{\"outlinewidth\":0,\"ticks\":\"\"},\"colorscale\":[[0.0,\"#0d0887\"],[0.1111111111111111,\"#46039f\"],[0.2222222222222222,\"#7201a8\"],[0.3333333333333333,\"#9c179e\"],[0.4444444444444444,\"#bd3786\"],[0.5555555555555556,\"#d8576b\"],[0.6666666666666666,\"#ed7953\"],[0.7777777777777778,\"#fb9f3a\"],[0.8888888888888888,\"#fdca26\"],[1.0,\"#f0f921\"]],\"type\":\"surface\"}],\"table\":[{\"cells\":{\"fill\":{\"color\":\"#EBF0F8\"},\"line\":{\"color\":\"white\"}},\"header\":{\"fill\":{\"color\":\"#C8D4E3\"},\"line\":{\"color\":\"white\"}},\"type\":\"table\"}]},\"layout\":{\"annotationdefaults\":{\"arrowcolor\":\"#2a3f5f\",\"arrowhead\":0,\"arrowwidth\":1},\"autotypenumbers\":\"strict\",\"coloraxis\":{\"colorbar\":{\"outlinewidth\":0,\"ticks\":\"\"}},\"colorscale\":{\"diverging\":[[0,\"#8e0152\"],[0.1,\"#c51b7d\"],[0.2,\"#de77ae\"],[0.3,\"#f1b6da\"],[0.4,\"#fde0ef\"],[0.5,\"#f7f7f7\"],[0.6,\"#e6f5d0\"],[0.7,\"#b8e186\"],[0.8,\"#7fbc41\"],[0.9,\"#4d9221\"],[1,\"#276419\"]],\"sequential\":[[0.0,\"#0d0887\"],[0.1111111111111111,\"#46039f\"],[0.2222222222222222,\"#7201a8\"],[0.3333333333333333,\"#9c179e\"],[0.4444444444444444,\"#bd3786\"],[0.5555555555555556,\"#d8576b\"],[0.6666666666666666,\"#ed7953\"],[0.7777777777777778,\"#fb9f3a\"],[0.8888888888888888,\"#fdca26\"],[1.0,\"#f0f921\"]],\"sequentialminus\":[[0.0,\"#0d0887\"],[0.1111111111111111,\"#46039f\"],[0.2222222222222222,\"#7201a8\"],[0.3333333333333333,\"#9c179e\"],[0.4444444444444444,\"#bd3786\"],[0.5555555555555556,\"#d8576b\"],[0.6666666666666666,\"#ed7953\"],[0.7777777777777778,\"#fb9f3a\"],[0.8888888888888888,\"#fdca26\"],[1.0,\"#f0f921\"]]},\"colorway\":[\"#636efa\",\"#EF553B\",\"#00cc96\",\"#ab63fa\",\"#FFA15A\",\"#19d3f3\",\"#FF6692\",\"#B6E880\",\"#FF97FF\",\"#FECB52\"],\"font\":{\"color\":\"#2a3f5f\"},\"geo\":{\"bgcolor\":\"white\",\"lakecolor\":\"white\",\"landcolor\":\"#E5ECF6\",\"showlakes\":true,\"showland\":true,\"subunitcolor\":\"white\"},\"hoverlabel\":{\"align\":\"left\"},\"hovermode\":\"closest\",\"mapbox\":{\"style\":\"light\"},\"paper_bgcolor\":\"white\",\"plot_bgcolor\":\"#E5ECF6\",\"polar\":{\"angularaxis\":{\"gridcolor\":\"white\",\"linecolor\":\"white\",\"ticks\":\"\"},\"bgcolor\":\"#E5ECF6\",\"radialaxis\":{\"gridcolor\":\"white\",\"linecolor\":\"white\",\"ticks\":\"\"}},\"scene\":{\"xaxis\":{\"backgroundcolor\":\"#E5ECF6\",\"gridcolor\":\"white\",\"gridwidth\":2,\"linecolor\":\"white\",\"showbackground\":true,\"ticks\":\"\",\"zerolinecolor\":\"white\"},\"yaxis\":{\"backgroundcolor\":\"#E5ECF6\",\"gridcolor\":\"white\",\"gridwidth\":2,\"linecolor\":\"white\",\"showbackground\":true,\"ticks\":\"\",\"zerolinecolor\":\"white\"},\"zaxis\":{\"backgroundcolor\":\"#E5ECF6\",\"gridcolor\":\"white\",\"gridwidth\":2,\"linecolor\":\"white\",\"showbackground\":true,\"ticks\":\"\",\"zerolinecolor\":\"white\"}},\"shapedefaults\":{\"line\":{\"color\":\"#2a3f5f\"}},\"ternary\":{\"aaxis\":{\"gridcolor\":\"white\",\"linecolor\":\"white\",\"ticks\":\"\"},\"baxis\":{\"gridcolor\":\"white\",\"linecolor\":\"white\",\"ticks\":\"\"},\"bgcolor\":\"#E5ECF6\",\"caxis\":{\"gridcolor\":\"white\",\"linecolor\":\"white\",\"ticks\":\"\"}},\"title\":{\"x\":0.05},\"xaxis\":{\"automargin\":true,\"gridcolor\":\"white\",\"linecolor\":\"white\",\"ticks\":\"\",\"title\":{\"standoff\":15},\"zerolinecolor\":\"white\",\"zerolinewidth\":2},\"yaxis\":{\"automargin\":true,\"gridcolor\":\"white\",\"linecolor\":\"white\",\"ticks\":\"\",\"title\":{\"standoff\":15},\"zerolinecolor\":\"white\",\"zerolinewidth\":2}}},\"xaxis\":{\"anchor\":\"y\",\"domain\":[0.0,1.0],\"title\":{\"text\":\"Company\"}},\"yaxis\":{\"anchor\":\"x\",\"domain\":[0.0,1.0],\"title\":{\"text\":\"count\"}},\"legend\":{\"tracegroupgap\":0},\"margin\":{\"t\":60},\"barmode\":\"relative\",\"title\":{\"text\":\"Companies Distribution- Top 19 Companies\"},\"width\":1200,\"height\":600},                        {\"responsive\": true}                    ).then(function(){\n",
       "                            \n",
       "var gd = document.getElementById('5e51495f-90eb-420b-9e04-d1029f254b87');\n",
       "var x = new MutationObserver(function (mutations, observer) {{\n",
       "        var display = window.getComputedStyle(gd).display;\n",
       "        if (!display || display === 'none') {{\n",
       "            console.log([gd, 'removed!']);\n",
       "            Plotly.purge(gd);\n",
       "            observer.disconnect();\n",
       "        }}\n",
       "}});\n",
       "\n",
       "// Listen for the removal of the full notebook cells\n",
       "var notebookContainer = gd.closest('#notebook-container');\n",
       "if (notebookContainer) {{\n",
       "    x.observe(notebookContainer, {childList: true});\n",
       "}}\n",
       "\n",
       "// Listen for the clearing of the current output cell\n",
       "var outputEl = gd.closest('.output');\n",
       "if (outputEl) {{\n",
       "    x.observe(outputEl, {childList: true});\n",
       "}}\n",
       "\n",
       "                        })                };                });            </script>        </div>"
      ]
     },
     "metadata": {},
     "output_type": "display_data"
    }
   ],
   "source": [
    "entries_to_plot = plot_histogram_with_other_column(data, 'Company', 0.01)\n",
    "\n",
    "fig = px.bar(entries_to_plot, x='Company', y='count')\n",
    "fig.update_layout(title='Companies Distribution- Top 19 Companies', width=1200, height=600)\n",
    "fig.show()"
   ]
  },
  {
   "cell_type": "code",
   "execution_count": 59,
   "metadata": {},
   "outputs": [],
   "source": [
    "def examine_features(data):\n",
    "    unique_count_df = pd.DataFrame()\n",
    "    features_to_count = data[['Name', 'Company', 'City', 'Day', 'Ratings']]\n",
    "    for idx, col in enumerate(features_to_count.columns):\n",
    "        unique_count_df.loc[idx, 'feature'] = col\n",
    "        unique_count_df.loc[idx, 'count_unique']  = data[col].nunique()\n",
    "    plt.figure(figsize=(10,5))\n",
    "    plt.title('Unique values in each feature')\n",
    "    plt.xlabel('Feature')\n",
    "    plt.ylabel('Unique count')\n",
    "    plt.bar(unique_count_df['feature'], unique_count_df['count_unique'], color='blueviolet')\n",
    "    plt.grid(axis='y')"
   ]
  },
  {
   "cell_type": "code",
   "execution_count": 60,
   "metadata": {},
   "outputs": [
    {
     "data": {
      "image/png": "[encoded data removed]",
      "text/plain": [
       "<Figure size 720x360 with 1 Axes>"
      ]
     },
     "metadata": {
      "needs_background": "light"
     },
     "output_type": "display_data"
    }
   ],
   "source": [
    "examine_features(data)"
   ]
  },
  {
   "cell_type": "code",
   "execution_count": 61,
   "metadata": {},
   "outputs": [
    {
     "data": {
      "image/png": "[encoded data removed]",
      "text/plain": [
       "<Figure size 720x360 with 1 Axes>"
      ]
     },
     "metadata": {
      "needs_background": "light"
     },
     "output_type": "display_data"
    },
    {
     "data": {
      "image/png": "[encoded data removed]",
      "text/plain": [
       "<Figure size 720x360 with 1 Axes>"
      ]
     },
     "metadata": {
      "needs_background": "light"
     },
     "output_type": "display_data"
    }
   ],
   "source": [
    "def examine_data(data):\n",
    "    programming_languages = {'python': data['Python'].sum(), \n",
    "              'SQL': data['SQL'].sum(), \n",
    "              'Java': data['Java'].sum(),\n",
    "             'C++': data['C++'].sum(),\n",
    "             'C#': data['C#'].sum()\n",
    "             }\n",
    "    plt.figure(figsize=(10,5))\n",
    "    plt.title('Job Market Demand for Programing Languages')\n",
    "    plt.xlabel('Programming Languages')\n",
    "    plt.ylabel('Count')\n",
    "    plt.grid(axis='y')\n",
    "    plt.bar(programming_languages.keys(), programming_languages.values(), color='orchid')\n",
    "    \n",
    "    \n",
    "    db_tech = {'PostgreSQL': data['PostgreSQL'].sum(), \n",
    "          'MySQL': data['MySQL'].sum(), \n",
    "          'Microsoft': data['Microsoft'].sum(),\n",
    "         'Oracle': data['Oracle'].sum(),\n",
    "         'MariaDB': data['C#'].sum(),\n",
    "         'MongoDB': data['MongoDB'].sum(),\n",
    "         'Redis': data['MongoDB'].sum()\n",
    "         }\n",
    "    plt.figure(figsize=(10,5))\n",
    "    plt.title('Job Market Demand for DB Technologies')\n",
    "    plt.xlabel('DB Technologies')\n",
    "    plt.ylabel('Count')\n",
    "    plt.grid(axis='y')\n",
    "    plt.bar(db_tech.keys(), db_tech.values(), color='blue')\n",
    "    \n",
    "    \n",
    "\n",
    "examine_data(data)"
   ]
  },
  {
   "cell_type": "code",
   "execution_count": 62,
   "metadata": {},
   "outputs": [
    {
     "data": {
      "image/png": "[encoded data removed]",
      "text/plain": [
       "<Figure size 720x360 with 1 Axes>"
      ]
     },
     "metadata": {
      "needs_background": "light"
     },
     "output_type": "display_data"
    },
    {
     "data": {
      "image/png": "[encoded data removed]",
      "text/plain": [
       "<Figure size 576x432 with 1 Axes>"
      ]
     },
     "metadata": {
      "needs_background": "light"
     },
     "output_type": "display_data"
    }
   ],
   "source": [
    "plt.figure(figsize=(10,5))\n",
    "df = pd.DataFrame()\n",
    "df['Day'] = pd.to_numeric(clean_data['Day'])\n",
    "df['Ratings'] = pd.to_numeric(clean_data['Ratings'])\n",
    "\n",
    "sns.scatterplot(data=df, x=\"Day\", y=\"Ratings\")\n",
    "\n",
    "box_plot_data = pd.concat([df['Day'], df['Ratings']], axis=1)\n",
    "f, ax = plt.subplots(figsize=(8, 6))\n",
    "fig = sns.boxplot(x='Day', y=\"Ratings\", data=box_plot_data)\n"
   ]
  },
  {
   "cell_type": "code",
   "execution_count": 63,
   "metadata": {},
   "outputs": [
    {
     "data": {
      "application/vnd.plotly.v1+json": {
       "config": {
        "plotlyServerURL": "https://plot.ly"
       },
       "data": [
        {
         "hovertemplate": "Company=%{x}<br>Ratings=%{y}<extra></extra>",
         "legendgroup": "",
         "marker": {
          "color": "#636efa",
          "symbol": "circle"
         },
         "mode": "markers",
         "name": "",
         "orientation": "v",
         "showlegend": false,
         "type": "scatter",
         "x": [
          "Square",
          "Twitter",
          "Splunk",
          "Pinterest",
          "Plaid",
          "Square",
          "Twitch Interactive, Inc.",
          "Braintree",
          "Square",
          "Atlassian",
          "Bolt",
          "Grammarly, Inc.",
          "Splunk",
          "Intel",
          "Splunk",
          "Sony Interactive Entertainment PlayStation",
          "Cresta",
          "Plaid",
          "Snapdocs",
          "Glu Mobile",
          "Flockjay",
          "Smule",
          "Pinterest",
          "PayPal",
          "Dropbox",
          "Atlassian",
          "Fivestars",
          "Adobe",
          "Twitter",
          "Twitter",
          "Twitter",
          "Disney Streaming Services",
          "Square",
          "Jam City",
          "Splunk",
          "Proofpoint",
          "SoFi",
          "JPMorgan Chase Bank, N.A.",
          "Joyent",
          "Pinterest",
          "Twitter",
          "MasterCard",
          "Forethought",
          "Scoop Technologies",
          "Twitter",
          "Take-Two Interactive Software, Inc.",
          "Square",
          "Mercury",
          "Apple",
          "Arista Networks",
          "Carta",
          "Earnest",
          "Epic Games",
          "Eventbrite",
          "Salesforce",
          "Change Research",
          "Wells Fargo",
          "Disney",
          "Cisco Systems",
          "Square",
          "Carta",
          "Salesforce",
          "Sutter Health",
          "Mercury",
          "Public Policy Institute of California",
          "Zumper",
          "Salesforce",
          "Calm",
          "Zoom",
          "Charles Schwab Inc.",
          "Capital One - US",
          "Hive",
          "Amobee",
          "Salesforce",
          "Twitter",
          "Plaid",
          "Flockjay",
          "Amazon.com Services LLC",
          "Kiva.org",
          "Clockwise",
          "Twitter",
          "wepay",
          "Square",
          "Square",
          "Snapchat",
          "Chan Zuckerberg Initiative",
          "Freedom Financial Network",
          "Facebook",
          "Facebook",
          "SoFi",
          "Cresta",
          "Square",
          "Disney",
          "Redfin",
          "Curology",
          "Scality",
          "Sony Interactive Entertainment PlayStation",
          "Wells Fargo",
          "Waymo",
          "Dropbox",
          "Twitter",
          "Sony Interactive Entertainment PlayStation",
          "Square",
          "Lawrence Berkeley National Laboratory",
          "Exact Sciences Corporation",
          "Disney Streaming Services",
          "Zuora",
          "Twitter",
          "Waymo",
          "Pinterest",
          "SoFi",
          "GoAhead Solutions",
          "Salesforce",
          "Clockwise",
          "Take-Two Interactive Software, Inc.",
          "Mercury",
          "Loom",
          "Benefitfocus",
          "LendingClub",
          "wepay",
          "Square",
          "Square",
          "Snapchat",
          "Chan Zuckerberg Initiative",
          "Spartan",
          "Retool",
          "Meltwater",
          "Pivotal",
          "Pinterest",
          "Carta",
          "Abbott Laboratories",
          "Visa",
          "Square",
          "Docker",
          "Amazon.com Services LLC",
          "Splunk",
          "Waymo",
          "Sony Interactive Entertainment PlayStation",
          "Under Armour",
          "Glu Mobile",
          "PayPal",
          "Square",
          "Stanford University",
          "Ubisoft",
          "Twitter",
          "Retool",
          "TikTok",
          "Hatch",
          "Getaround",
          "Twitter",
          "Grammarly, Inc.",
          "Twitter",
          "Waymo",
          "Pinterest",
          "SoFi",
          "GoAhead Solutions",
          "Apple",
          "Square",
          "Sony Interactive Entertainment PlayStation",
          "Pixels Infotech",
          "Pinterest",
          "Pinterest",
          "Coinbase",
          "Loom",
          "Benefitfocus",
          "LendingClub",
          "Medium",
          "Wells Fargo",
          "Cruise",
          "Twitter",
          "Forethought",
          "wepay",
          "City National Bank",
          "Twitter",
          "Change.org",
          "Earnest",
          "Gap Inc.",
          "Adobe",
          "Snapchat",
          "Redfin",
          "Bolt",
          "Grove Collaborative",
          "Ubisoft",
          "Roblox",
          "Microsoft",
          "Visa",
          "Visa",
          "Retool",
          "Pinterest",
          "Joyent",
          "Splunk",
          "Splunk",
          "Snapchat",
          "Roblox",
          "Dropbox",
          "Grove Collaborative",
          "Forward",
          "Pinterest",
          "Twitter",
          "Slack",
          "Carta",
          "GoodRx",
          "Splunk",
          "Coinbase",
          "Grammarly, Inc.",
          "U.S. Bank",
          "Slack",
          "SoFi",
          "University of California San Francisco",
          "Google",
          "Waymo",
          "Pinterest",
          "Twitter",
          "Bio-Rad Laboratories, Inc.",
          "Twitter",
          "Grammarly, Inc.",
          "Pocket Gems",
          "Universal Electronics",
          "Gap Inc.",
          "Qualia",
          "Collective Health",
          "Square",
          "GENENTECH",
          "Pinterest",
          "Illumina",
          "GoAhead Solutions",
          "Apple",
          "Square",
          "Sony Interactive Entertainment PlayStation",
          "Pixels Infotech",
          "Pinterest",
          "Do IT",
          "3Qi Labs",
          "PepsiCo",
          "Twitter",
          "Clockwise",
          "Lawrence Berkeley National Laboratory",
          "Salesforce",
          "Varo Money",
          "Gap Inc.",
          "Altair Engineering",
          "Snapchat",
          "Galileo Financial Technologies",
          "Hive",
          "Rancher",
          "Pinterest",
          "Forward",
          "EBMUD",
          "Intel",
          "DocuSign",
          "Google",
          "Do IT",
          "GENENTECH",
          "Retool",
          "Adobe",
          "Autodesk",
          "Twitch Interactive, Inc.",
          "Atlassian",
          "DISH",
          "Rev.com",
          "Discord",
          "Tableau",
          "Joyent",
          "Quantcast",
          "Illumina",
          "Velodyne",
          "Sony Interactive Entertainment PlayStation",
          "Eventbrite",
          "Redfin",
          "Twitter",
          "First Republic Bank",
          "Rally Health",
          "Pinterest",
          "Joyent",
          "Splunk",
          "Splunk",
          "Snapchat",
          "Roblox",
          "Redfin",
          "Twitter",
          "Proofpoint",
          "Splunk",
          "Twitter",
          "Autodesk",
          "Goodyear",
          "Coinbase",
          "Medium",
          "Eventbrite",
          "Dropbox",
          "Quantcast",
          "Amazon.com Services LLC",
          "Visa",
          "Splunk",
          "Rodan and Fields, LLC",
          "Hatch",
          "Pixels Infotech",
          "Twitter",
          "Caterpillar",
          "Akraya Inc.",
          "Spin Electric Scooters",
          "eBay Inc.",
          "Do IT",
          "Ubisoft",
          "Public Library of Science",
          "Coinbase",
          "Aechelon Technology Inc.",
          "Charles Schwab Inc.",
          "GENENTECH",
          "Talend",
          "TrialCard",
          "YouTube",
          "Qiagen",
          "TikTok",
          "Waymo",
          "Salesforce",
          "Coinbase",
          "Plaid",
          "Monitise",
          "Topgolf",
          "Varo Money",
          "Square",
          "Square",
          "Numerator",
          "RingCentral",
          "Eventbrite",
          "Zillow Group",
          "Coinbase",
          "Take-Two Interactive Software, Inc.",
          "Williams-Sonoma, Inc.",
          "ServiceNow",
          "Amazon.com Services LLC",
          "Oracle",
          "Retool",
          "Change.org",
          "Waymo",
          "Proofpoint",
          "Johnson & Johnson Family of Companies",
          "Twitter",
          "Delphix",
          "Wells Fargo",
          "Coda",
          "Pocket Gems",
          "Amobee",
          "Ripple",
          "Pinterest",
          "Box",
          "Oracle",
          "Square",
          "American Express",
          "Oracle",
          "Zillow Group",
          "Wells Fargo",
          "Square",
          "TikTok",
          "Pinterest",
          "Do IT",
          "3Qi Labs",
          "PepsiCo",
          "Twitter",
          "Clockwise",
          "Lawrence Berkeley National Laboratory",
          "Forward",
          "Coinbase",
          "Branch",
          "Upstart",
          "Vrbo",
          "Chan Zuckerberg Initiative",
          "Allstate",
          "SiriusXM",
          "Big Health",
          "PepsiCo",
          "Twitter",
          "Mercury",
          "Take-Two Interactive Software, Inc.",
          "Grove Collaborative",
          "Under Armour",
          "Sisu",
          "Take-Two Interactive Software, Inc.",
          "Synopsys",
          "Splunk",
          "PROJECT FARMA",
          "Dolby Laboratories, Inc.",
          "Getaround",
          "Dun & Bradstreet",
          "Abbott Laboratories",
          "Varo Money",
          "Twitter",
          "Carta",
          "Capital One - US",
          "Grand Rounds",
          "SoFi",
          "SoFi",
          "Box",
          "Abbott Laboratories",
          "NimbleRx",
          "Wheel",
          "Capital One - US",
          "Gap Inc.",
          "Cognizant Technology Solutions",
          "JPMorgan Chase Bank, N.A.",
          "Atlassian",
          "Splunk",
          "Twitter",
          "Big Fish Games",
          "Levi Strauss & Co.",
          "Myriad Genetics Inc.",
          "Twitter",
          "Retool",
          "SoFi",
          "Amazon.com Services LLC",
          "Getaround",
          "Twitter",
          "Forethought",
          "Moody's Corporation",
          "Square",
          "Sony Interactive Entertainment PlayStation",
          "Intuit",
          "Stanford University",
          "Oracle",
          "Cruise",
          "Retool",
          "Splunk",
          "Threads",
          "Grammarly, Inc.",
          "Visa",
          "Sony Interactive Entertainment PlayStation",
          "Ubisoft",
          "Redfin",
          "U.S. Bank",
          "Square",
          "SiriusXM",
          "Twitter",
          "Branch",
          "Redfin",
          "Twitter",
          "Proofpoint",
          "Splunk",
          "Twitter",
          "OSIsoft",
          "NCR",
          "Galileo Financial Technologies",
          "Collage.com",
          "Spin",
          "Twitter",
          "Splunk",
          "eBay Inc.",
          "Splunk",
          "Twitter",
          "Chan Zuckerberg Initiative",
          "Thistle Health Inc.",
          "Federal Reserve Bank of Cleveland",
          "Qualia",
          "Box",
          "Cruise",
          "U.S. Bank",
          "SS&C Advent",
          "GoodRx",
          "Roche",
          "Stride Health",
          "Retool",
          "Eventbrite",
          "Abbott Laboratories",
          "eBay Inc.",
          "OSIsoft",
          "Glu Mobile",
          "McKesson",
          "Amazon.com Services LLC",
          "Amazon.com Services LLC",
          "Sony Interactive Entertainment PlayStation",
          "Carta",
          "GoodRx",
          "SoFi",
          "Dun & Bradstreet",
          "Earnest",
          "Federal Reserve Bank of San Francisco",
          "GoodRx",
          "Oracle",
          "Aegis Treatment Centers, LLC",
          "Cruise",
          "Pivotal",
          "Carbon Health",
          "Castlight Health",
          "GoodRx",
          "Zumper",
          "Pocket Gems",
          "Cruise",
          "Crystal Dynamics",
          "Twitter",
          "U.S. Bank",
          "Outdoorsy, Inc.",
          "U.S. Bank",
          "Abbott Laboratories",
          "ServiceNow",
          "Amazon.com Services LLC",
          "Oracle",
          "Retool",
          "Change.org",
          "Waymo",
          "Proofpoint",
          "Splunk",
          "MSCI Inc.",
          "Discord",
          "Joyent",
          "Salesforce",
          "Splunk",
          "Lawrence Berkeley National Laboratory",
          "Akraya Inc.",
          "Molekule",
          "Sisu",
          "Tinder",
          "Tinder",
          "Curology",
          "Twitter",
          "Sisu",
          "Glu Mobile",
          "Sony Interactive Entertainment PlayStation",
          "Earnest",
          "Lyra Health",
          "Grove Collaborative",
          "Change Healthcare",
          "Ditto Technologies",
          "PayPal",
          "OSIsoft",
          "opentext",
          "Streetline",
          "Fluidigm",
          "New Relic",
          "Restoration Hardware",
          "Red Hat Software",
          "Twitter",
          "Oracle",
          "Ripple",
          "Yaskawa America, Inc.",
          "Twitter",
          "Cruise",
          "Discord",
          "Amazon.com Services LLC",
          "CBS",
          "Hive",
          "Chan Zuckerberg Initiative",
          "SoFi",
          "LendingClub",
          "Sephora",
          "Thermo Fisher Scientific",
          "Loom",
          "Ancestry",
          "Amazon.com Services LLC",
          "U.S. Bank",
          "Salesforce",
          "Visual Concepts",
          "Cargotec",
          "SiriusXM",
          "Big Health",
          "PepsiCo",
          "Twitter",
          "Mercury",
          "Salesforce",
          "Visual Concepts",
          "Cargotec",
          "Astra",
          "Exabeam",
          "Chan Zuckerberg Initiative",
          "Ditto Technologies",
          "Ubisoft",
          "wepay",
          "Grand Rounds",
          "Lambda",
          "Salesforce",
          "Visual Concepts",
          "Cargotec",
          "Astra",
          "Exabeam",
          "Chan Zuckerberg Initiative",
          "Ditto Technologies",
          "Ubisoft",
          "wepay",
          "Grand Rounds",
          "Lambda",
          "Salesforce",
          "Visual Concepts",
          "Cargotec",
          "Astra",
          "Exabeam",
          "Chan Zuckerberg Initiative",
          "Ditto Technologies",
          "Ubisoft",
          "wepay",
          "Grand Rounds",
          "Lambda",
          "Salesforce",
          "Visual Concepts",
          "Cargotec",
          "Astra",
          "Exabeam",
          "Chan Zuckerberg Initiative",
          "Ditto Technologies",
          "Ubisoft",
          "wepay",
          "Grand Rounds",
          "Lambda",
          "Capital One - US",
          "Gap Inc.",
          "Cognizant Technology Solutions",
          "JPMorgan Chase Bank, N.A.",
          "Atlassian",
          "Splunk",
          "Twitter",
          "Salesforce",
          "Visual Concepts",
          "Cargotec",
          "Astra",
          "Exabeam",
          "Chan Zuckerberg Initiative",
          "Ditto Technologies",
          "Ubisoft",
          "wepay",
          "Grand Rounds",
          "Lambda",
          "Salesforce",
          "Visual Concepts",
          "Cargotec",
          "Astra",
          "Exabeam",
          "Chan Zuckerberg Initiative",
          "Ditto Technologies",
          "Ubisoft",
          "wepay",
          "Grand Rounds",
          "Lambda",
          "Salesforce",
          "Visual Concepts",
          "Cargotec",
          "Astra",
          "Exabeam",
          "Chan Zuckerberg Initiative",
          "Ditto Technologies",
          "Ubisoft",
          "wepay",
          "Grand Rounds",
          "Lambda",
          "Salesforce",
          "Visual Concepts",
          "Cargotec",
          "Astra",
          "Exabeam",
          "Chan Zuckerberg Initiative",
          "Ditto Technologies",
          "Ubisoft",
          "wepay",
          "Grand Rounds",
          "Lambda",
          "Salesforce",
          "Visual Concepts",
          "Cargotec",
          "Astra",
          "Exabeam",
          "Chan Zuckerberg Initiative",
          "Ditto Technologies",
          "Ubisoft",
          "wepay",
          "Grand Rounds",
          "Lambda",
          "Salesforce",
          "Visual Concepts",
          "Cargotec",
          "Astra",
          "Exabeam",
          "Chan Zuckerberg Initiative",
          "Ditto Technologies",
          "Ubisoft",
          "wepay",
          "Grand Rounds",
          "Lambda",
          "OSIsoft",
          "NCR",
          "Galileo Financial Technologies",
          "Collage.com",
          "Spin",
          "Twitter",
          "Salesforce",
          "Visual Concepts",
          "Cargotec",
          "Astra",
          "Exabeam",
          "Chan Zuckerberg Initiative",
          "Ditto Technologies",
          "Ubisoft",
          "wepay",
          "Grand Rounds",
          "Lambda",
          "Salesforce",
          "Visual Concepts",
          "Cargotec",
          "Astra",
          "Exabeam",
          "Chan Zuckerberg Initiative",
          "Ditto Technologies",
          "Ubisoft",
          "wepay",
          "Grand Rounds",
          "Lambda",
          "Salesforce",
          "Visual Concepts",
          "Cargotec",
          "Astra",
          "Exabeam",
          "Chan Zuckerberg Initiative",
          "Ditto Technologies",
          "Ubisoft",
          "wepay",
          "Grand Rounds",
          "Lambda",
          "Salesforce",
          "Visual Concepts",
          "Cargotec",
          "Astra",
          "Exabeam",
          "Chan Zuckerberg Initiative",
          "Ditto Technologies",
          "Ubisoft",
          "wepay",
          "Grand Rounds",
          "Lambda",
          "Salesforce",
          "Visual Concepts",
          "Cargotec",
          "Astra",
          "Exabeam",
          "Chan Zuckerberg Initiative",
          "Ditto Technologies",
          "Ubisoft",
          "wepay",
          "Grand Rounds",
          "Lambda",
          "Salesforce",
          "Visual Concepts",
          "Cargotec",
          "Astra",
          "Exabeam",
          "Chan Zuckerberg Initiative",
          "Ditto Technologies",
          "Ubisoft",
          "wepay",
          "Grand Rounds",
          "Lambda",
          "Salesforce",
          "Visual Concepts",
          "Cargotec",
          "Astra",
          "Exabeam",
          "Chan Zuckerberg Initiative",
          "Ditto Technologies",
          "Ubisoft",
          "wepay",
          "Grand Rounds",
          "Lambda",
          "Salesforce",
          "Visual Concepts",
          "Cargotec",
          "Astra",
          "Exabeam",
          "Chan Zuckerberg Initiative",
          "Ditto Technologies",
          "Ubisoft",
          "wepay",
          "Grand Rounds",
          "Lambda",
          "Salesforce",
          "Visual Concepts",
          "Cargotec",
          "Astra",
          "Exabeam",
          "Chan Zuckerberg Initiative",
          "Ditto Technologies",
          "Ubisoft",
          "wepay",
          "Grand Rounds",
          "Lambda",
          "Salesforce",
          "Visual Concepts",
          "Cargotec",
          "Astra",
          "Exabeam",
          "Chan Zuckerberg Initiative",
          "Ditto Technologies",
          "Ubisoft",
          "wepay",
          "Grand Rounds",
          "Lambda",
          "Salesforce",
          "Visual Concepts",
          "Cargotec",
          "Astra",
          "Exabeam",
          "Chan Zuckerberg Initiative",
          "Ditto Technologies",
          "Ubisoft",
          "wepay",
          "Grand Rounds",
          "Lambda",
          "Salesforce",
          "Visual Concepts",
          "Cargotec",
          "Astra",
          "Exabeam",
          "Chan Zuckerberg Initiative",
          "Ditto Technologies",
          "Ubisoft",
          "wepay",
          "Grand Rounds",
          "Lambda",
          "Salesforce",
          "Visual Concepts",
          "Cargotec",
          "Astra",
          "Exabeam",
          "Chan Zuckerberg Initiative",
          "Ditto Technologies",
          "Ubisoft",
          "wepay",
          "Grand Rounds",
          "Lambda",
          "Salesforce",
          "Visual Concepts",
          "Cargotec",
          "Astra",
          "Exabeam",
          "Chan Zuckerberg Initiative",
          "Ditto Technologies",
          "Ubisoft",
          "wepay",
          "Grand Rounds",
          "Lambda",
          "Salesforce",
          "Visual Concepts",
          "Cargotec",
          "Astra",
          "Exabeam",
          "Chan Zuckerberg Initiative",
          "Ditto Technologies",
          "Ubisoft",
          "wepay",
          "Grand Rounds",
          "Lambda",
          "Salesforce",
          "Visual Concepts",
          "Cargotec",
          "Astra",
          "Exabeam",
          "Chan Zuckerberg Initiative",
          "Ditto Technologies",
          "Ubisoft",
          "wepay",
          "Grand Rounds",
          "Lambda",
          "Salesforce",
          "Visual Concepts",
          "Cargotec",
          "Astra",
          "Exabeam",
          "Chan Zuckerberg Initiative",
          "Ditto Technologies",
          "Ubisoft",
          "wepay",
          "Grand Rounds",
          "Lambda",
          "Salesforce",
          "Visual Concepts",
          "Cargotec",
          "Astra",
          "Exabeam",
          "Chan Zuckerberg Initiative",
          "Ditto Technologies",
          "Ubisoft",
          "wepay",
          "Grand Rounds",
          "Lambda",
          "Salesforce",
          "Visual Concepts",
          "Cargotec",
          "Astra",
          "Exabeam",
          "Chan Zuckerberg Initiative",
          "Ditto Technologies",
          "Ubisoft",
          "wepay",
          "Grand Rounds",
          "Lambda",
          "Salesforce",
          "Visual Concepts",
          "Cargotec",
          "Astra",
          "Exabeam",
          "Chan Zuckerberg Initiative",
          "Ditto Technologies",
          "Ubisoft",
          "wepay",
          "Grand Rounds",
          "Lambda",
          "Salesforce",
          "Visual Concepts",
          "Cargotec",
          "Astra",
          "Exabeam",
          "Chan Zuckerberg Initiative",
          "Ditto Technologies",
          "Ubisoft",
          "wepay",
          "Grand Rounds",
          "Lambda"
         ],
         "xaxis": "x",
         "y": [
          3.7,
          4.1,
          4.1,
          4.2,
          3.8,
          3.7,
          3.6,
          3.9,
          3.7,
          4.6,
          4.2,
          4.8,
          4.1,
          4.1,
          4.1,
          3.7,
          4.2,
          3.8,
          3.5,
          3.3,
          4.9,
          3.9,
          4.2,
          3.9,
          3.9,
          4.6,
          4.1,
          4.3,
          4.1,
          4.1,
          4.1,
          3.3,
          3.7,
          2.9,
          4.1,
          3.9,
          3.2,
          3.9,
          4.5,
          4.2,
          4.1,
          4.1,
          2.7,
          4,
          4.1,
          4.1,
          3.7,
          3.7,
          4.2,
          4.1,
          3.8,
          3.8,
          3.7,
          4.2,
          4.3,
          4.5,
          3.7,
          4.1,
          4.1,
          3.7,
          3.8,
          4.3,
          3.9,
          3.7,
          4,
          3,
          4.3,
          4.2,
          3.6,
          4,
          3.9,
          3.6,
          4.1,
          4.3,
          4.1,
          3.8,
          4.9,
          3.6,
          4.9,
          2.3,
          4.1,
          4.3,
          3.7,
          3.7,
          3.5,
          4.8,
          3.6,
          4.2,
          4.2,
          3.2,
          4.2,
          3.7,
          4.1,
          3.3,
          5,
          3.6,
          3.7,
          3.7,
          3.1,
          3.9,
          4.1,
          3.7,
          3.7,
          4.2,
          3,
          3.3,
          3.9,
          4.1,
          3.1,
          4.2,
          3.2,
          5,
          4.3,
          2.3,
          4.1,
          3.7,
          4.2,
          3.1,
          3.6,
          4.3,
          3.7,
          3.7,
          3.5,
          4.8,
          3.8,
          5,
          3.6,
          4,
          4.2,
          3.8,
          4,
          3.9,
          3.7,
          4.4,
          3.6,
          4.1,
          3.1,
          3.7,
          3.8,
          3.3,
          3.9,
          3.7,
          4.2,
          3.9,
          4.1,
          5,
          4.1,
          3.9,
          3.5,
          4.1,
          4.8,
          4.1,
          3.1,
          4.2,
          3.2,
          5,
          4.2,
          3.7,
          3.7,
          3.9,
          4.2,
          4.2,
          4.4,
          4.2,
          3.1,
          3.6,
          4,
          3.7,
          2.8,
          4.1,
          2.7,
          4.3,
          3.6,
          4.1,
          2,
          3.8,
          3.8,
          4.3,
          3.5,
          3.3,
          4.2,
          2.7,
          3.9,
          4.2,
          4.2,
          3.9,
          3.9,
          5,
          4.2,
          4.5,
          4.1,
          4.1,
          3.5,
          4.2,
          3.9,
          2.7,
          2.2,
          4.2,
          4.1,
          3.9,
          3.8,
          5,
          4.1,
          4.4,
          4.8,
          3.6,
          3.9,
          3.2,
          4.2,
          4.3,
          3.1,
          4.2,
          4.1,
          3.7,
          4.1,
          4.8,
          3.1,
          3.2,
          3.8,
          3.9,
          3.9,
          3.7,
          4.1,
          4.2,
          3.6,
          5,
          4.2,
          3.7,
          3.7,
          3.9,
          4.2,
          4.3,
          4.3,
          3.8,
          4.1,
          2.3,
          4.2,
          4.3,
          3.5,
          3.8,
          4.2,
          3.5,
          3.3,
          3.6,
          3.8,
          4.2,
          2.2,
          4.5,
          4.1,
          3.9,
          4.3,
          4.3,
          4.1,
          5,
          4.3,
          4.1,
          3.6,
          4.6,
          3.3,
          2.7,
          4.3,
          3.8,
          4.5,
          3.5,
          3.6,
          3.2,
          3.7,
          4.2,
          3.3,
          4.1,
          3.9,
          3.6,
          4.2,
          4.5,
          4.1,
          4.1,
          3.5,
          4.2,
          3.3,
          4.1,
          3.9,
          4.1,
          4.1,
          4.1,
          3.7,
          4.4,
          4,
          4.2,
          3.9,
          3.5,
          3.6,
          3.9,
          4.1,
          4.3,
          3.9,
          3.9,
          4.1,
          3.9,
          3.7,
          3.1,
          3.9,
          4.3,
          3.9,
          3.4,
          4.4,
          3.2,
          4,
          4.1,
          4,
          3.3,
          4.3,
          3.8,
          4.1,
          3.1,
          4.3,
          4.4,
          3.8,
          3.3,
          3.8,
          3.5,
          3.7,
          3.7,
          3.6,
          2.8,
          4.2,
          3.7,
          4.4,
          4.1,
          3.5,
          3.6,
          3.6,
          3.8,
          5,
          2,
          3.1,
          3.9,
          4.2,
          4.1,
          3.2,
          3.7,
          3.1,
          3.1,
          4.1,
          3.3,
          4.2,
          5,
          3.8,
          3.7,
          4.1,
          3.8,
          3.7,
          3.7,
          3.7,
          4.1,
          4.2,
          4.3,
          4.3,
          3.8,
          4.1,
          2.3,
          4.2,
          2.2,
          4.4,
          5,
          3.6,
          3.9,
          4.8,
          3.8,
          3.6,
          3.5,
          3.8,
          4.1,
          3.7,
          4.1,
          2.7,
          3.8,
          4.4,
          4.1,
          4.1,
          4.1,
          4.3,
          4,
          3.5,
          3.7,
          4,
          3.5,
          4.1,
          3.8,
          3.9,
          3.4,
          3.2,
          3.2,
          5,
          4,
          2.8,
          4,
          3.9,
          3.8,
          3.9,
          3.9,
          4.6,
          4.1,
          4.1,
          3.5,
          3.9,
          3.5,
          4.1,
          5,
          3.2,
          3.6,
          3.5,
          4.1,
          2.7,
          3.7,
          3.7,
          3.7,
          4.2,
          4.2,
          3.8,
          2.8,
          5,
          4.1,
          3.8,
          4.8,
          3.9,
          3.7,
          3.9,
          3.3,
          3.6,
          3.7,
          3.6,
          4.1,
          5,
          3.3,
          4.1,
          3.9,
          4.1,
          4.1,
          3.9,
          3.6,
          3.3,
          4.6,
          3.1,
          4.1,
          4.1,
          3.9,
          4.1,
          4.1,
          4.8,
          3.5,
          3.9,
          3.9,
          5,
          2.8,
          3.6,
          3.9,
          5,
          4.2,
          4.5,
          5,
          4.2,
          4,
          3.9,
          3.9,
          3.3,
          3.6,
          3.6,
          3.6,
          3.7,
          3.8,
          5,
          3.2,
          3.7,
          3.8,
          4.1,
          5,
          3.8,
          2.7,
          2.8,
          4,
          2.6,
          3.2,
          5,
          3,
          3.1,
          2.8,
          4.5,
          4.1,
          3.6,
          2.3,
          3.6,
          4,
          3.6,
          3.6,
          3.8,
          5,
          2,
          3.1,
          3.9,
          4.1,
          4,
          4.3,
          4.5,
          4.3,
          4.1,
          4.2,
          3.7,
          5,
          4.4,
          4.8,
          4.8,
          5,
          4.1,
          4.4,
          3.3,
          3.7,
          3.8,
          4.5,
          2.7,
          3,
          5,
          3.9,
          3.9,
          3.5,
          4.6,
          3.8,
          3.3,
          3.3,
          4,
          4.1,
          3.8,
          3.3,
          4,
          4.1,
          2.8,
          4.3,
          3.6,
          4,
          3.6,
          4.8,
          3.2,
          3.6,
          3.9,
          3.5,
          4.2,
          3.8,
          3.6,
          3.6,
          4.3,
          4.2,
          3.6,
          3.6,
          3.5,
          3.8,
          4.1,
          3.7,
          4.3,
          4.2,
          3.6,
          4.1,
          3,
          4.8,
          5,
          3.9,
          4.3,
          3.4,
          4.4,
          4.3,
          4.2,
          3.6,
          4.1,
          3,
          4.8,
          5,
          3.9,
          4.3,
          3.4,
          4.4,
          4.3,
          4.2,
          3.6,
          4.1,
          3,
          4.8,
          5,
          3.9,
          4.3,
          3.4,
          4.4,
          4.3,
          4.2,
          3.6,
          4.1,
          3,
          4.8,
          5,
          3.9,
          4.3,
          3.4,
          4.4,
          3.9,
          3.8,
          3.9,
          3.9,
          4.6,
          4.1,
          4.1,
          4.3,
          4.2,
          3.6,
          4.1,
          3,
          4.8,
          5,
          3.9,
          4.3,
          3.4,
          4.4,
          4.3,
          4.2,
          3.6,
          4.1,
          3,
          4.8,
          5,
          3.9,
          4.3,
          3.4,
          4.4,
          4.3,
          4.2,
          3.6,
          4.1,
          3,
          4.8,
          5,
          3.9,
          4.3,
          3.4,
          4.4,
          4.3,
          4.2,
          3.6,
          4.1,
          3,
          4.8,
          5,
          3.9,
          4.3,
          3.4,
          4.4,
          4.3,
          4.2,
          3.6,
          4.1,
          3,
          4.8,
          5,
          3.9,
          4.3,
          3.4,
          4.4,
          4.3,
          4.2,
          3.6,
          4.1,
          3,
          4.8,
          5,
          3.9,
          4.3,
          3.4,
          4.4,
          3.9,
          3.6,
          3.3,
          4.6,
          3.1,
          4.1,
          4.3,
          4.2,
          3.6,
          4.1,
          3,
          4.8,
          5,
          3.9,
          4.3,
          3.4,
          4.4,
          4.3,
          4.2,
          3.6,
          4.1,
          3,
          4.8,
          5,
          3.9,
          4.3,
          3.4,
          4.4,
          4.3,
          4.2,
          3.6,
          4.1,
          3,
          4.8,
          5,
          3.9,
          4.3,
          3.4,
          4.4,
          4.3,
          4.2,
          3.6,
          4.1,
          3,
          4.8,
          5,
          3.9,
          4.3,
          3.4,
          4.4,
          4.3,
          4.2,
          3.6,
          4.1,
          3,
          4.8,
          5,
          3.9,
          4.3,
          3.4,
          4.4,
          4.3,
          4.2,
          3.6,
          4.1,
          3,
          4.8,
          5,
          3.9,
          4.3,
          3.4,
          4.4,
          4.3,
          4.2,
          3.6,
          4.1,
          3,
          4.8,
          5,
          3.9,
          4.3,
          3.4,
          4.4,
          4.3,
          4.2,
          3.6,
          4.1,
          3,
          4.8,
          5,
          3.9,
          4.3,
          3.4,
          4.4,
          4.3,
          4.2,
          3.6,
          4.1,
          3,
          4.8,
          5,
          3.9,
          4.3,
          3.4,
          4.4,
          4.3,
          4.2,
          3.6,
          4.1,
          3,
          4.8,
          5,
          3.9,
          4.3,
          3.4,
          4.4,
          4.3,
          4.2,
          3.6,
          4.1,
          3,
          4.8,
          5,
          3.9,
          4.3,
          3.4,
          4.4,
          4.3,
          4.2,
          3.6,
          4.1,
          3,
          4.8,
          5,
          3.9,
          4.3,
          3.4,
          4.4,
          4.3,
          4.2,
          3.6,
          4.1,
          3,
          4.8,
          5,
          3.9,
          4.3,
          3.4,
          4.4,
          4.3,
          4.2,
          3.6,
          4.1,
          3,
          4.8,
          5,
          3.9,
          4.3,
          3.4,
          4.4,
          4.3,
          4.2,
          3.6,
          4.1,
          3,
          4.8,
          5,
          3.9,
          4.3,
          3.4,
          4.4,
          4.3,
          4.2,
          3.6,
          4.1,
          3,
          4.8,
          5,
          3.9,
          4.3,
          3.4,
          4.4,
          4.3,
          4.2,
          3.6,
          4.1,
          3,
          4.8,
          5,
          3.9,
          4.3,
          3.4,
          4.4,
          4.3,
          4.2,
          3.6,
          4.1,
          3,
          4.8,
          5,
          3.9,
          4.3,
          3.4,
          4.4,
          4.3,
          4.2,
          3.6,
          4.1,
          3,
          4.8,
          5,
          3.9,
          4.3,
          3.4,
          4.4,
          4.3,
          4.2,
          3.6,
          4.1,
          3,
          4.8,
          5,
          3.9,
          4.3,
          3.4,
          4.4,
          4.3,
          4.2,
          3.6,
          4.1,
          3,
          4.8,
          5,
          3.9,
          4.3,
          3.4,
          4.4
         ],
         "yaxis": "y"
        }
       ],
       "layout": {
        "height": 600,
        "legend": {
         "tracegroupgap": 0
        },
        "margin": {
         "t": 60
        },
        "template": {
         "data": {
          "bar": [
           {
            "error_x": {
             "color": "#2a3f5f"
            },
            "error_y": {
             "color": "#2a3f5f"
            },
            "marker": {
             "line": {
              "color": "#E5ECF6",
              "width": 0.5
             },
             "pattern": {
              "fillmode": "overlay",
              "size": 10,
              "solidity": 0.2
             }
            },
            "type": "bar"
           }
          ],
          "barpolar": [
           {
            "marker": {
             "line": {
              "color": "#E5ECF6",
              "width": 0.5
             },
             "pattern": {
              "fillmode": "overlay",
              "size": 10,
              "solidity": 0.2
             }
            },
            "type": "barpolar"
           }
          ],
          "carpet": [
           {
            "aaxis": {
             "endlinecolor": "#2a3f5f",
             "gridcolor": "white",
             "linecolor": "white",
             "minorgridcolor": "white",
             "startlinecolor": "#2a3f5f"
            },
            "baxis": {
             "endlinecolor": "#2a3f5f",
             "gridcolor": "white",
             "linecolor": "white",
             "minorgridcolor": "white",
             "startlinecolor": "#2a3f5f"
            },
            "type": "carpet"
           }
          ],
          "choropleth": [
           {
            "colorbar": {
             "outlinewidth": 0,
             "ticks": ""
            },
            "type": "choropleth"
           }
          ],
          "contour": [
           {
            "colorbar": {
             "outlinewidth": 0,
             "ticks": ""
            },
            "colorscale": [
             [
              0,
              "#0d0887"
             ],
             [
              0.1111111111111111,
              "#46039f"
             ],
             [
              0.2222222222222222,
              "#7201a8"
             ],
             [
              0.3333333333333333,
              "#9c179e"
             ],
             [
              0.4444444444444444,
              "#bd3786"
             ],
             [
              0.5555555555555556,
              "#d8576b"
             ],
             [
              0.6666666666666666,
              "#ed7953"
             ],
             [
              0.7777777777777778,
              "#fb9f3a"
             ],
             [
              0.8888888888888888,
              "#fdca26"
             ],
             [
              1,
              "#f0f921"
             ]
            ],
            "type": "contour"
           }
          ],
          "contourcarpet": [
           {
            "colorbar": {
             "outlinewidth": 0,
             "ticks": ""
            },
            "type": "contourcarpet"
           }
          ],
          "heatmap": [
           {
            "colorbar": {
             "outlinewidth": 0,
             "ticks": ""
            },
            "colorscale": [
             [
              0,
              "#0d0887"
             ],
             [
              0.1111111111111111,
              "#46039f"
             ],
             [
              0.2222222222222222,
              "#7201a8"
             ],
             [
              0.3333333333333333,
              "#9c179e"
             ],
             [
              0.4444444444444444,
              "#bd3786"
             ],
             [
              0.5555555555555556,
              "#d8576b"
             ],
             [
              0.6666666666666666,
              "#ed7953"
             ],
             [
              0.7777777777777778,
              "#fb9f3a"
             ],
             [
              0.8888888888888888,
              "#fdca26"
             ],
             [
              1,
              "#f0f921"
             ]
            ],
            "type": "heatmap"
           }
          ],
          "heatmapgl": [
           {
            "colorbar": {
             "outlinewidth": 0,
             "ticks": ""
            },
            "colorscale": [
             [
              0,
              "#0d0887"
             ],
             [
              0.1111111111111111,
              "#46039f"
             ],
             [
              0.2222222222222222,
              "#7201a8"
             ],
             [
              0.3333333333333333,
              "#9c179e"
             ],
             [
              0.4444444444444444,
              "#bd3786"
             ],
             [
              0.5555555555555556,
              "#d8576b"
             ],
             [
              0.6666666666666666,
              "#ed7953"
             ],
             [
              0.7777777777777778,
              "#fb9f3a"
             ],
             [
              0.8888888888888888,
              "#fdca26"
             ],
             [
              1,
              "#f0f921"
             ]
            ],
            "type": "heatmapgl"
           }
          ],
          "histogram": [
           {
            "marker": {
             "pattern": {
              "fillmode": "overlay",
              "size": 10,
              "solidity": 0.2
             }
            },
            "type": "histogram"
           }
          ],
          "histogram2d": [
           {
            "colorbar": {
             "outlinewidth": 0,
             "ticks": ""
            },
            "colorscale": [
             [
              0,
              "#0d0887"
             ],
             [
              0.1111111111111111,
              "#46039f"
             ],
             [
              0.2222222222222222,
              "#7201a8"
             ],
             [
              0.3333333333333333,
              "#9c179e"
             ],
             [
              0.4444444444444444,
              "#bd3786"
             ],
             [
              0.5555555555555556,
              "#d8576b"
             ],
             [
              0.6666666666666666,
              "#ed7953"
             ],
             [
              0.7777777777777778,
              "#fb9f3a"
             ],
             [
              0.8888888888888888,
              "#fdca26"
             ],
             [
              1,
              "#f0f921"
             ]
            ],
            "type": "histogram2d"
           }
          ],
          "histogram2dcontour": [
           {
            "colorbar": {
             "outlinewidth": 0,
             "ticks": ""
            },
            "colorscale": [
             [
              0,
              "#0d0887"
             ],
             [
              0.1111111111111111,
              "#46039f"
             ],
             [
              0.2222222222222222,
              "#7201a8"
             ],
             [
              0.3333333333333333,
              "#9c179e"
             ],
             [
              0.4444444444444444,
              "#bd3786"
             ],
             [
              0.5555555555555556,
              "#d8576b"
             ],
             [
              0.6666666666666666,
              "#ed7953"
             ],
             [
              0.7777777777777778,
              "#fb9f3a"
             ],
             [
              0.8888888888888888,
              "#fdca26"
             ],
             [
              1,
              "#f0f921"
             ]
            ],
            "type": "histogram2dcontour"
           }
          ],
          "mesh3d": [
           {
            "colorbar": {
             "outlinewidth": 0,
             "ticks": ""
            },
            "type": "mesh3d"
           }
          ],
          "parcoords": [
           {
            "line": {
             "colorbar": {
              "outlinewidth": 0,
              "ticks": ""
             }
            },
            "type": "parcoords"
           }
          ],
          "pie": [
           {
            "automargin": true,
            "type": "pie"
           }
          ],
          "scatter": [
           {
            "marker": {
             "colorbar": {
              "outlinewidth": 0,
              "ticks": ""
             }
            },
            "type": "scatter"
           }
          ],
          "scatter3d": [
           {
            "line": {
             "colorbar": {
              "outlinewidth": 0,
              "ticks": ""
             }
            },
            "marker": {
             "colorbar": {
              "outlinewidth": 0,
              "ticks": ""
             }
            },
            "type": "scatter3d"
           }
          ],
          "scattercarpet": [
           {
            "marker": {
             "colorbar": {
              "outlinewidth": 0,
              "ticks": ""
             }
            },
            "type": "scattercarpet"
           }
          ],
          "scattergeo": [
           {
            "marker": {
             "colorbar": {
              "outlinewidth": 0,
              "ticks": ""
             }
            },
            "type": "scattergeo"
           }
          ],
          "scattergl": [
           {
            "marker": {
             "colorbar": {
              "outlinewidth": 0,
              "ticks": ""
             }
            },
            "type": "scattergl"
           }
          ],
          "scattermapbox": [
           {
            "marker": {
             "colorbar": {
              "outlinewidth": 0,
              "ticks": ""
             }
            },
            "type": "scattermapbox"
           }
          ],
          "scatterpolar": [
           {
            "marker": {
             "colorbar": {
              "outlinewidth": 0,
              "ticks": ""
             }
            },
            "type": "scatterpolar"
           }
          ],
          "scatterpolargl": [
           {
            "marker": {
             "colorbar": {
              "outlinewidth": 0,
              "ticks": ""
             }
            },
            "type": "scatterpolargl"
           }
          ],
          "scatterternary": [
           {
            "marker": {
             "colorbar": {
              "outlinewidth": 0,
              "ticks": ""
             }
            },
            "type": "scatterternary"
           }
          ],
          "surface": [
           {
            "colorbar": {
             "outlinewidth": 0,
             "ticks": ""
            },
            "colorscale": [
             [
              0,
              "#0d0887"
             ],
             [
              0.1111111111111111,
              "#46039f"
             ],
             [
              0.2222222222222222,
              "#7201a8"
             ],
             [
              0.3333333333333333,
              "#9c179e"
             ],
             [
              0.4444444444444444,
              "#bd3786"
             ],
             [
              0.5555555555555556,
              "#d8576b"
             ],
             [
              0.6666666666666666,
              "#ed7953"
             ],
             [
              0.7777777777777778,
              "#fb9f3a"
             ],
             [
              0.8888888888888888,
              "#fdca26"
             ],
             [
              1,
              "#f0f921"
             ]
            ],
            "type": "surface"
           }
          ],
          "table": [
           {
            "cells": {
             "fill": {
              "color": "#EBF0F8"
             },
             "line": {
              "color": "white"
             }
            },
            "header": {
             "fill": {
              "color": "#C8D4E3"
             },
             "line": {
              "color": "white"
             }
            },
            "type": "table"
           }
          ]
         },
         "layout": {
          "annotationdefaults": {
           "arrowcolor": "#2a3f5f",
           "arrowhead": 0,
           "arrowwidth": 1
          },
          "autotypenumbers": "strict",
          "coloraxis": {
           "colorbar": {
            "outlinewidth": 0,
            "ticks": ""
           }
          },
          "colorscale": {
           "diverging": [
            [
             0,
             "#8e0152"
            ],
            [
             0.1,
             "#c51b7d"
            ],
            [
             0.2,
             "#de77ae"
            ],
            [
             0.3,
             "#f1b6da"
            ],
            [
             0.4,
             "#fde0ef"
            ],
            [
             0.5,
             "#f7f7f7"
            ],
            [
             0.6,
             "#e6f5d0"
            ],
            [
             0.7,
             "#b8e186"
            ],
            [
             0.8,
             "#7fbc41"
            ],
            [
             0.9,
             "#4d9221"
            ],
            [
             1,
             "#276419"
            ]
           ],
           "sequential": [
            [
             0,
             "#0d0887"
            ],
            [
             0.1111111111111111,
             "#46039f"
            ],
            [
             0.2222222222222222,
             "#7201a8"
            ],
            [
             0.3333333333333333,
             "#9c179e"
            ],
            [
             0.4444444444444444,
             "#bd3786"
            ],
            [
             0.5555555555555556,
             "#d8576b"
            ],
            [
             0.6666666666666666,
             "#ed7953"
            ],
            [
             0.7777777777777778,
             "#fb9f3a"
            ],
            [
             0.8888888888888888,
             "#fdca26"
            ],
            [
             1,
             "#f0f921"
            ]
           ],
           "sequentialminus": [
            [
             0,
             "#0d0887"
            ],
            [
             0.1111111111111111,
             "#46039f"
            ],
            [
             0.2222222222222222,
             "#7201a8"
            ],
            [
             0.3333333333333333,
             "#9c179e"
            ],
            [
             0.4444444444444444,
             "#bd3786"
            ],
            [
             0.5555555555555556,
             "#d8576b"
            ],
            [
             0.6666666666666666,
             "#ed7953"
            ],
            [
             0.7777777777777778,
             "#fb9f3a"
            ],
            [
             0.8888888888888888,
             "#fdca26"
            ],
            [
             1,
             "#f0f921"
            ]
           ]
          },
          "colorway": [
           "#636efa",
           "#EF553B",
           "#00cc96",
           "#ab63fa",
           "#FFA15A",
           "#19d3f3",
           "#FF6692",
           "#B6E880",
           "#FF97FF",
           "#FECB52"
          ],
          "font": {
           "color": "#2a3f5f"
          },
          "geo": {
           "bgcolor": "white",
           "lakecolor": "white",
           "landcolor": "#E5ECF6",
           "showlakes": true,
           "showland": true,
           "subunitcolor": "white"
          },
          "hoverlabel": {
           "align": "left"
          },
          "hovermode": "closest",
          "mapbox": {
           "style": "light"
          },
          "paper_bgcolor": "white",
          "plot_bgcolor": "#E5ECF6",
          "polar": {
           "angularaxis": {
            "gridcolor": "white",
            "linecolor": "white",
            "ticks": ""
           },
           "bgcolor": "#E5ECF6",
           "radialaxis": {
            "gridcolor": "white",
            "linecolor": "white",
            "ticks": ""
           }
          },
          "scene": {
           "xaxis": {
            "backgroundcolor": "#E5ECF6",
            "gridcolor": "white",
            "gridwidth": 2,
            "linecolor": "white",
            "showbackground": true,
            "ticks": "",
            "zerolinecolor": "white"
           },
           "yaxis": {
            "backgroundcolor": "#E5ECF6",
            "gridcolor": "white",
            "gridwidth": 2,
            "linecolor": "white",
            "showbackground": true,
            "ticks": "",
            "zerolinecolor": "white"
           },
           "zaxis": {
            "backgroundcolor": "#E5ECF6",
            "gridcolor": "white",
            "gridwidth": 2,
            "linecolor": "white",
            "showbackground": true,
            "ticks": "",
            "zerolinecolor": "white"
           }
          },
          "shapedefaults": {
           "line": {
            "color": "#2a3f5f"
           }
          },
          "ternary": {
           "aaxis": {
            "gridcolor": "white",
            "linecolor": "white",
            "ticks": ""
           },
           "baxis": {
            "gridcolor": "white",
            "linecolor": "white",
            "ticks": ""
           },
           "bgcolor": "#E5ECF6",
           "caxis": {
            "gridcolor": "white",
            "linecolor": "white",
            "ticks": ""
           }
          },
          "title": {
           "x": 0.05
          },
          "xaxis": {
           "automargin": true,
           "gridcolor": "white",
           "linecolor": "white",
           "ticks": "",
           "title": {
            "standoff": 15
           },
           "zerolinecolor": "white",
           "zerolinewidth": 2
          },
          "yaxis": {
           "automargin": true,
           "gridcolor": "white",
           "linecolor": "white",
           "ticks": "",
           "title": {
            "standoff": 15
           },
           "zerolinecolor": "white",
           "zerolinewidth": 2
          }
         }
        },
        "title": {
         "text": "Ratings per Companies"
        },
        "width": 1200,
        "xaxis": {
         "anchor": "y",
         "autorange": true,
         "domain": [
          0,
          1
         ],
         "range": [
          -12.549003769520732,
          221.54900376952074
         ],
         "title": {
          "text": "Company"
         },
         "type": "category"
        },
        "yaxis": {
         "anchor": "x",
         "autorange": true,
         "domain": [
          0,
          1
         ],
         "range": [
          1.7779255319148937,
          5.222074468085107
         ],
         "title": {
          "text": "Ratings"
         },
         "type": "linear"
        }
       }
      },
      "image/png": "[encoded data removed]",
      "text/html": [
       "<div>                            <div id=\"0852a58a-b9b7-4372-80fe-2ed6ef138f90\" class=\"plotly-graph-div\" style=\"height:600px; width:1200px;\"></div>            <script type=\"text/javascript\">                require([\"plotly\"], function(Plotly) {                    window.PLOTLYENV=window.PLOTLYENV || {};                                    if (document.getElementById(\"0852a58a-b9b7-4372-80fe-2ed6ef138f90\")) {                    Plotly.newPlot(                        \"0852a58a-b9b7-4372-80fe-2ed6ef138f90\",                        [{\"hovertemplate\":\"Company=%{x}<br>Ratings=%{y}<extra></extra>\",\"legendgroup\":\"\",\"marker\":{\"color\":\"#636efa\",\"symbol\":\"circle\"},\"mode\":\"markers\",\"name\":\"\",\"orientation\":\"v\",\"showlegend\":false,\"x\":[\"Square\",\"Twitter\",\"Splunk\",\"Pinterest\",\"Plaid\",\"Square\",\"Twitch Interactive, Inc.\",\"Braintree\",\"Square\",\"Atlassian\",\"Bolt\",\"Grammarly, Inc.\",\"Splunk\",\"Intel\",\"Splunk\",\"Sony Interactive Entertainment PlayStation\",\"Cresta\",\"Plaid\",\"Snapdocs\",\"Glu Mobile\",\"Flockjay\",\"Smule\",\"Pinterest\",\"PayPal\",\"Dropbox\",\"Atlassian\",\"Fivestars\",\"Adobe\",\"Twitter\",\"Twitter\",\"Twitter\",\"Disney Streaming Services\",\"Square\",\"Jam City\",\"Splunk\",\"Proofpoint\",\"SoFi\",\"JPMorgan Chase Bank, N.A.\",\"Joyent\",\"Pinterest\",\"Twitter\",\"MasterCard\",\"Forethought\",\"Scoop Technologies\",\"Twitter\",\"Take-Two Interactive Software, Inc.\",\"Square\",\"Mercury\",\"Apple\",\"Arista Networks\",\"Carta\",\"Earnest\",\"Epic Games\",\"Eventbrite\",\"Salesforce\",\"Change Research\",\"Wells Fargo\",\"Disney\",\"Cisco Systems\",\"Square\",\"Carta\",\"Salesforce\",\"Sutter Health\",\"Mercury\",\"Public Policy Institute of California\",\"Zumper\",\"Salesforce\",\"Calm\",\"Zoom\",\"Charles Schwab Inc.\",\"Capital One - US\",\"Hive\",\"Amobee\",\"Salesforce\",\"Twitter\",\"Plaid\",\"Flockjay\",\"Amazon.com Services LLC\",\"Kiva.org\",\"Clockwise\",\"Twitter\",\"wepay\",\"Square\",\"Square\",\"Snapchat\",\"Chan Zuckerberg Initiative\",\"Freedom Financial Network\",\"Facebook\",\"Facebook\",\"SoFi\",\"Cresta\",\"Square\",\"Disney\",\"Redfin\",\"Curology\",\"Scality\",\"Sony Interactive Entertainment PlayStation\",\"Wells Fargo\",\"Waymo\",\"Dropbox\",\"Twitter\",\"Sony Interactive Entertainment PlayStation\",\"Square\",\"Lawrence Berkeley National Laboratory\",\"Exact Sciences Corporation\",\"Disney Streaming Services\",\"Zuora\",\"Twitter\",\"Waymo\",\"Pinterest\",\"SoFi\",\"GoAhead Solutions\",\"Salesforce\",\"Clockwise\",\"Take-Two Interactive Software, Inc.\",\"Mercury\",\"Loom\",\"Benefitfocus\",\"LendingClub\",\"wepay\",\"Square\",\"Square\",\"Snapchat\",\"Chan Zuckerberg Initiative\",\"Spartan\",\"Retool\",\"Meltwater\",\"Pivotal\",\"Pinterest\",\"Carta\",\"Abbott Laboratories\",\"Visa\",\"Square\",\"Docker\",\"Amazon.com Services LLC\",\"Splunk\",\"Waymo\",\"Sony Interactive Entertainment PlayStation\",\"Under Armour\",\"Glu Mobile\",\"PayPal\",\"Square\",\"Stanford University\",\"Ubisoft\",\"Twitter\",\"Retool\",\"TikTok\",\"Hatch\",\"Getaround\",\"Twitter\",\"Grammarly, Inc.\",\"Twitter\",\"Waymo\",\"Pinterest\",\"SoFi\",\"GoAhead Solutions\",\"Apple\",\"Square\",\"Sony Interactive Entertainment PlayStation\",\"Pixels Infotech\",\"Pinterest\",\"Pinterest\",\"Coinbase\",\"Loom\",\"Benefitfocus\",\"LendingClub\",\"Medium\",\"Wells Fargo\",\"Cruise\",\"Twitter\",\"Forethought\",\"wepay\",\"City National Bank\",\"Twitter\",\"Change.org\",\"Earnest\",\"Gap Inc.\",\"Adobe\",\"Snapchat\",\"Redfin\",\"Bolt\",\"Grove Collaborative\",\"Ubisoft\",\"Roblox\",\"Microsoft\",\"Visa\",\"Visa\",\"Retool\",\"Pinterest\",\"Joyent\",\"Splunk\",\"Splunk\",\"Snapchat\",\"Roblox\",\"Dropbox\",\"Grove Collaborative\",\"Forward\",\"Pinterest\",\"Twitter\",\"Slack\",\"Carta\",\"GoodRx\",\"Splunk\",\"Coinbase\",\"Grammarly, Inc.\",\"U.S. Bank\",\"Slack\",\"SoFi\",\"University of California San Francisco\",\"Google\",\"Waymo\",\"Pinterest\",\"Twitter\",\"Bio-Rad Laboratories, Inc.\",\"Twitter\",\"Grammarly, Inc.\",\"Pocket Gems\",\"Universal Electronics\",\"Gap Inc.\",\"Qualia\",\"Collective Health\",\"Square\",\"GENENTECH\",\"Pinterest\",\"Illumina\",\"GoAhead Solutions\",\"Apple\",\"Square\",\"Sony Interactive Entertainment PlayStation\",\"Pixels Infotech\",\"Pinterest\",\"Do IT\",\"3Qi Labs\",\"PepsiCo\",\"Twitter\",\"Clockwise\",\"Lawrence Berkeley National Laboratory\",\"Salesforce\",\"Varo Money\",\"Gap Inc.\",\"Altair Engineering\",\"Snapchat\",\"Galileo Financial Technologies\",\"Hive\",\"Rancher\",\"Pinterest\",\"Forward\",\"EBMUD\",\"Intel\",\"DocuSign\",\"Google\",\"Do IT\",\"GENENTECH\",\"Retool\",\"Adobe\",\"Autodesk\",\"Twitch Interactive, Inc.\",\"Atlassian\",\"DISH\",\"Rev.com\",\"Discord\",\"Tableau\",\"Joyent\",\"Quantcast\",\"Illumina\",\"Velodyne\",\"Sony Interactive Entertainment PlayStation\",\"Eventbrite\",\"Redfin\",\"Twitter\",\"First Republic Bank\",\"Rally Health\",\"Pinterest\",\"Joyent\",\"Splunk\",\"Splunk\",\"Snapchat\",\"Roblox\",\"Redfin\",\"Twitter\",\"Proofpoint\",\"Splunk\",\"Twitter\",\"Autodesk\",\"Goodyear\",\"Coinbase\",\"Medium\",\"Eventbrite\",\"Dropbox\",\"Quantcast\",\"Amazon.com Services LLC\",\"Visa\",\"Splunk\",\"Rodan and Fields, LLC\",\"Hatch\",\"Pixels Infotech\",\"Twitter\",\"Caterpillar\",\"Akraya Inc.\",\"Spin Electric Scooters\",\"eBay Inc.\",\"Do IT\",\"Ubisoft\",\"Public Library of Science\",\"Coinbase\",\"Aechelon Technology Inc.\",\"Charles Schwab Inc.\",\"GENENTECH\",\"Talend\",\"TrialCard\",\"YouTube\",\"Qiagen\",\"TikTok\",\"Waymo\",\"Salesforce\",\"Coinbase\",\"Plaid\",\"Monitise\",\"Topgolf\",\"Varo Money\",\"Square\",\"Square\",\"Numerator\",\"RingCentral\",\"Eventbrite\",\"Zillow Group\",\"Coinbase\",\"Take-Two Interactive Software, Inc.\",\"Williams-Sonoma, Inc.\",\"ServiceNow\",\"Amazon.com Services LLC\",\"Oracle\",\"Retool\",\"Change.org\",\"Waymo\",\"Proofpoint\",\"Johnson & Johnson Family of Companies\",\"Twitter\",\"Delphix\",\"Wells Fargo\",\"Coda\",\"Pocket Gems\",\"Amobee\",\"Ripple\",\"Pinterest\",\"Box\",\"Oracle\",\"Square\",\"American Express\",\"Oracle\",\"Zillow Group\",\"Wells Fargo\",\"Square\",\"TikTok\",\"Pinterest\",\"Do IT\",\"3Qi Labs\",\"PepsiCo\",\"Twitter\",\"Clockwise\",\"Lawrence Berkeley National Laboratory\",\"Forward\",\"Coinbase\",\"Branch\",\"Upstart\",\"Vrbo\",\"Chan Zuckerberg Initiative\",\"Allstate\",\"SiriusXM\",\"Big Health\",\"PepsiCo\",\"Twitter\",\"Mercury\",\"Take-Two Interactive Software, Inc.\",\"Grove Collaborative\",\"Under Armour\",\"Sisu\",\"Take-Two Interactive Software, Inc.\",\"Synopsys\",\"Splunk\",\"PROJECT FARMA\",\"Dolby Laboratories, Inc.\",\"Getaround\",\"Dun & Bradstreet\",\"Abbott Laboratories\",\"Varo Money\",\"Twitter\",\"Carta\",\"Capital One - US\",\"Grand Rounds\",\"SoFi\",\"SoFi\",\"Box\",\"Abbott Laboratories\",\"NimbleRx\",\"Wheel\",\"Capital One - US\",\"Gap Inc.\",\"Cognizant Technology Solutions\",\"JPMorgan Chase Bank, N.A.\",\"Atlassian\",\"Splunk\",\"Twitter\",\"Big Fish Games\",\"Levi Strauss & Co.\",\"Myriad Genetics Inc.\",\"Twitter\",\"Retool\",\"SoFi\",\"Amazon.com Services LLC\",\"Getaround\",\"Twitter\",\"Forethought\",\"Moody's Corporation\",\"Square\",\"Sony Interactive Entertainment PlayStation\",\"Intuit\",\"Stanford University\",\"Oracle\",\"Cruise\",\"Retool\",\"Splunk\",\"Threads\",\"Grammarly, Inc.\",\"Visa\",\"Sony Interactive Entertainment PlayStation\",\"Ubisoft\",\"Redfin\",\"U.S. Bank\",\"Square\",\"SiriusXM\",\"Twitter\",\"Branch\",\"Redfin\",\"Twitter\",\"Proofpoint\",\"Splunk\",\"Twitter\",\"OSIsoft\",\"NCR\",\"Galileo Financial Technologies\",\"Collage.com\",\"Spin\",\"Twitter\",\"Splunk\",\"eBay Inc.\",\"Splunk\",\"Twitter\",\"Chan Zuckerberg Initiative\",\"Thistle Health Inc.\",\"Federal Reserve Bank of Cleveland\",\"Qualia\",\"Box\",\"Cruise\",\"U.S. Bank\",\"SS&C Advent\",\"GoodRx\",\"Roche\",\"Stride Health\",\"Retool\",\"Eventbrite\",\"Abbott Laboratories\",\"eBay Inc.\",\"OSIsoft\",\"Glu Mobile\",\"McKesson\",\"Amazon.com Services LLC\",\"Amazon.com Services LLC\",\"Sony Interactive Entertainment PlayStation\",\"Carta\",\"GoodRx\",\"SoFi\",\"Dun & Bradstreet\",\"Earnest\",\"Federal Reserve Bank of San Francisco\",\"GoodRx\",\"Oracle\",\"Aegis Treatment Centers, LLC\",\"Cruise\",\"Pivotal\",\"Carbon Health\",\"Castlight Health\",\"GoodRx\",\"Zumper\",\"Pocket Gems\",\"Cruise\",\"Crystal Dynamics\",\"Twitter\",\"U.S. Bank\",\"Outdoorsy, Inc.\",\"U.S. Bank\",\"Abbott Laboratories\",\"ServiceNow\",\"Amazon.com Services LLC\",\"Oracle\",\"Retool\",\"Change.org\",\"Waymo\",\"Proofpoint\",\"Splunk\",\"MSCI Inc.\",\"Discord\",\"Joyent\",\"Salesforce\",\"Splunk\",\"Lawrence Berkeley National Laboratory\",\"Akraya Inc.\",\"Molekule\",\"Sisu\",\"Tinder\",\"Tinder\",\"Curology\",\"Twitter\",\"Sisu\",\"Glu Mobile\",\"Sony Interactive Entertainment PlayStation\",\"Earnest\",\"Lyra Health\",\"Grove Collaborative\",\"Change Healthcare\",\"Ditto Technologies\",\"PayPal\",\"OSIsoft\",\"opentext\",\"Streetline\",\"Fluidigm\",\"New Relic\",\"Restoration Hardware\",\"Red Hat Software\",\"Twitter\",\"Oracle\",\"Ripple\",\"Yaskawa America, Inc.\",\"Twitter\",\"Cruise\",\"Discord\",\"Amazon.com Services LLC\",\"CBS\",\"Hive\",\"Chan Zuckerberg Initiative\",\"SoFi\",\"LendingClub\",\"Sephora\",\"Thermo Fisher Scientific\",\"Loom\",\"Ancestry\",\"Amazon.com Services LLC\",\"U.S. Bank\",\"Salesforce\",\"Visual Concepts\",\"Cargotec\",\"SiriusXM\",\"Big Health\",\"PepsiCo\",\"Twitter\",\"Mercury\",\"Salesforce\",\"Visual Concepts\",\"Cargotec\",\"Astra\",\"Exabeam\",\"Chan Zuckerberg Initiative\",\"Ditto Technologies\",\"Ubisoft\",\"wepay\",\"Grand Rounds\",\"Lambda\",\"Salesforce\",\"Visual Concepts\",\"Cargotec\",\"Astra\",\"Exabeam\",\"Chan Zuckerberg Initiative\",\"Ditto Technologies\",\"Ubisoft\",\"wepay\",\"Grand Rounds\",\"Lambda\",\"Salesforce\",\"Visual Concepts\",\"Cargotec\",\"Astra\",\"Exabeam\",\"Chan Zuckerberg Initiative\",\"Ditto Technologies\",\"Ubisoft\",\"wepay\",\"Grand Rounds\",\"Lambda\",\"Salesforce\",\"Visual Concepts\",\"Cargotec\",\"Astra\",\"Exabeam\",\"Chan Zuckerberg Initiative\",\"Ditto Technologies\",\"Ubisoft\",\"wepay\",\"Grand Rounds\",\"Lambda\",\"Capital One - US\",\"Gap Inc.\",\"Cognizant Technology Solutions\",\"JPMorgan Chase Bank, N.A.\",\"Atlassian\",\"Splunk\",\"Twitter\",\"Salesforce\",\"Visual Concepts\",\"Cargotec\",\"Astra\",\"Exabeam\",\"Chan Zuckerberg Initiative\",\"Ditto Technologies\",\"Ubisoft\",\"wepay\",\"Grand Rounds\",\"Lambda\",\"Salesforce\",\"Visual Concepts\",\"Cargotec\",\"Astra\",\"Exabeam\",\"Chan Zuckerberg Initiative\",\"Ditto Technologies\",\"Ubisoft\",\"wepay\",\"Grand Rounds\",\"Lambda\",\"Salesforce\",\"Visual Concepts\",\"Cargotec\",\"Astra\",\"Exabeam\",\"Chan Zuckerberg Initiative\",\"Ditto Technologies\",\"Ubisoft\",\"wepay\",\"Grand Rounds\",\"Lambda\",\"Salesforce\",\"Visual Concepts\",\"Cargotec\",\"Astra\",\"Exabeam\",\"Chan Zuckerberg Initiative\",\"Ditto Technologies\",\"Ubisoft\",\"wepay\",\"Grand Rounds\",\"Lambda\",\"Salesforce\",\"Visual Concepts\",\"Cargotec\",\"Astra\",\"Exabeam\",\"Chan Zuckerberg Initiative\",\"Ditto Technologies\",\"Ubisoft\",\"wepay\",\"Grand Rounds\",\"Lambda\",\"Salesforce\",\"Visual Concepts\",\"Cargotec\",\"Astra\",\"Exabeam\",\"Chan Zuckerberg Initiative\",\"Ditto Technologies\",\"Ubisoft\",\"wepay\",\"Grand Rounds\",\"Lambda\",\"OSIsoft\",\"NCR\",\"Galileo Financial Technologies\",\"Collage.com\",\"Spin\",\"Twitter\",\"Salesforce\",\"Visual Concepts\",\"Cargotec\",\"Astra\",\"Exabeam\",\"Chan Zuckerberg Initiative\",\"Ditto Technologies\",\"Ubisoft\",\"wepay\",\"Grand Rounds\",\"Lambda\",\"Salesforce\",\"Visual Concepts\",\"Cargotec\",\"Astra\",\"Exabeam\",\"Chan Zuckerberg Initiative\",\"Ditto Technologies\",\"Ubisoft\",\"wepay\",\"Grand Rounds\",\"Lambda\",\"Salesforce\",\"Visual Concepts\",\"Cargotec\",\"Astra\",\"Exabeam\",\"Chan Zuckerberg Initiative\",\"Ditto Technologies\",\"Ubisoft\",\"wepay\",\"Grand Rounds\",\"Lambda\",\"Salesforce\",\"Visual Concepts\",\"Cargotec\",\"Astra\",\"Exabeam\",\"Chan Zuckerberg Initiative\",\"Ditto Technologies\",\"Ubisoft\",\"wepay\",\"Grand Rounds\",\"Lambda\",\"Salesforce\",\"Visual Concepts\",\"Cargotec\",\"Astra\",\"Exabeam\",\"Chan Zuckerberg Initiative\",\"Ditto Technologies\",\"Ubisoft\",\"wepay\",\"Grand Rounds\",\"Lambda\",\"Salesforce\",\"Visual Concepts\",\"Cargotec\",\"Astra\",\"Exabeam\",\"Chan Zuckerberg Initiative\",\"Ditto Technologies\",\"Ubisoft\",\"wepay\",\"Grand Rounds\",\"Lambda\",\"Salesforce\",\"Visual Concepts\",\"Cargotec\",\"Astra\",\"Exabeam\",\"Chan Zuckerberg Initiative\",\"Ditto Technologies\",\"Ubisoft\",\"wepay\",\"Grand Rounds\",\"Lambda\",\"Salesforce\",\"Visual Concepts\",\"Cargotec\",\"Astra\",\"Exabeam\",\"Chan Zuckerberg Initiative\",\"Ditto Technologies\",\"Ubisoft\",\"wepay\",\"Grand Rounds\",\"Lambda\",\"Salesforce\",\"Visual Concepts\",\"Cargotec\",\"Astra\",\"Exabeam\",\"Chan Zuckerberg Initiative\",\"Ditto Technologies\",\"Ubisoft\",\"wepay\",\"Grand Rounds\",\"Lambda\",\"Salesforce\",\"Visual Concepts\",\"Cargotec\",\"Astra\",\"Exabeam\",\"Chan Zuckerberg Initiative\",\"Ditto Technologies\",\"Ubisoft\",\"wepay\",\"Grand Rounds\",\"Lambda\",\"Salesforce\",\"Visual Concepts\",\"Cargotec\",\"Astra\",\"Exabeam\",\"Chan Zuckerberg Initiative\",\"Ditto Technologies\",\"Ubisoft\",\"wepay\",\"Grand Rounds\",\"Lambda\",\"Salesforce\",\"Visual Concepts\",\"Cargotec\",\"Astra\",\"Exabeam\",\"Chan Zuckerberg Initiative\",\"Ditto Technologies\",\"Ubisoft\",\"wepay\",\"Grand Rounds\",\"Lambda\",\"Salesforce\",\"Visual Concepts\",\"Cargotec\",\"Astra\",\"Exabeam\",\"Chan Zuckerberg Initiative\",\"Ditto Technologies\",\"Ubisoft\",\"wepay\",\"Grand Rounds\",\"Lambda\",\"Salesforce\",\"Visual Concepts\",\"Cargotec\",\"Astra\",\"Exabeam\",\"Chan Zuckerberg Initiative\",\"Ditto Technologies\",\"Ubisoft\",\"wepay\",\"Grand Rounds\",\"Lambda\",\"Salesforce\",\"Visual Concepts\",\"Cargotec\",\"Astra\",\"Exabeam\",\"Chan Zuckerberg Initiative\",\"Ditto Technologies\",\"Ubisoft\",\"wepay\",\"Grand Rounds\",\"Lambda\",\"Salesforce\",\"Visual Concepts\",\"Cargotec\",\"Astra\",\"Exabeam\",\"Chan Zuckerberg Initiative\",\"Ditto Technologies\",\"Ubisoft\",\"wepay\",\"Grand Rounds\",\"Lambda\",\"Salesforce\",\"Visual Concepts\",\"Cargotec\",\"Astra\",\"Exabeam\",\"Chan Zuckerberg Initiative\",\"Ditto Technologies\",\"Ubisoft\",\"wepay\",\"Grand Rounds\",\"Lambda\",\"Salesforce\",\"Visual Concepts\",\"Cargotec\",\"Astra\",\"Exabeam\",\"Chan Zuckerberg Initiative\",\"Ditto Technologies\",\"Ubisoft\",\"wepay\",\"Grand Rounds\",\"Lambda\",\"Salesforce\",\"Visual Concepts\",\"Cargotec\",\"Astra\",\"Exabeam\",\"Chan Zuckerberg Initiative\",\"Ditto Technologies\",\"Ubisoft\",\"wepay\",\"Grand Rounds\",\"Lambda\",\"Salesforce\",\"Visual Concepts\",\"Cargotec\",\"Astra\",\"Exabeam\",\"Chan Zuckerberg Initiative\",\"Ditto Technologies\",\"Ubisoft\",\"wepay\",\"Grand Rounds\",\"Lambda\",\"Salesforce\",\"Visual Concepts\",\"Cargotec\",\"Astra\",\"Exabeam\",\"Chan Zuckerberg Initiative\",\"Ditto Technologies\",\"Ubisoft\",\"wepay\",\"Grand Rounds\",\"Lambda\"],\"xaxis\":\"x\",\"y\":[3.7,4.1,4.1,4.2,3.8,3.7,3.6,3.9,3.7,4.6,4.2,4.8,4.1,4.1,4.1,3.7,4.2,3.8,3.5,3.3,4.9,3.9,4.2,3.9,3.9,4.6,4.1,4.3,4.1,4.1,4.1,3.3,3.7,2.9,4.1,3.9,3.2,3.9,4.5,4.2,4.1,4.1,2.7,4.0,4.1,4.1,3.7,3.7,4.2,4.1,3.8,3.8,3.7,4.2,4.3,4.5,3.7,4.1,4.1,3.7,3.8,4.3,3.9,3.7,4.0,3.0,4.3,4.2,3.6,4.0,3.9,3.6,4.1,4.3,4.1,3.8,4.9,3.6,4.9,2.3,4.1,4.3,3.7,3.7,3.5,4.8,3.6,4.2,4.2,3.2,4.2,3.7,4.1,3.3,5.0,3.6,3.7,3.7,3.1,3.9,4.1,3.7,3.7,4.2,3.0,3.3,3.9,4.1,3.1,4.2,3.2,5.0,4.3,2.3,4.1,3.7,4.2,3.1,3.6,4.3,3.7,3.7,3.5,4.8,3.8,5.0,3.6,4.0,4.2,3.8,4.0,3.9,3.7,4.4,3.6,4.1,3.1,3.7,3.8,3.3,3.9,3.7,4.2,3.9,4.1,5.0,4.1,3.9,3.5,4.1,4.8,4.1,3.1,4.2,3.2,5.0,4.2,3.7,3.7,3.9,4.2,4.2,4.4,4.2,3.1,3.6,4.0,3.7,2.8,4.1,2.7,4.3,3.6,4.1,2.0,3.8,3.8,4.3,3.5,3.3,4.2,2.7,3.9,4.2,4.2,3.9,3.9,5.0,4.2,4.5,4.1,4.1,3.5,4.2,3.9,2.7,2.2,4.2,4.1,3.9,3.8,5.0,4.1,4.4,4.8,3.6,3.9,3.2,4.2,4.3,3.1,4.2,4.1,3.7,4.1,4.8,3.1,3.2,3.8,3.9,3.9,3.7,4.1,4.2,3.6,5.0,4.2,3.7,3.7,3.9,4.2,4.3,4.3,3.8,4.1,2.3,4.2,4.3,3.5,3.8,4.2,3.5,3.3,3.6,3.8,4.2,2.2,4.5,4.1,3.9,4.3,4.3,4.1,5.0,4.3,4.1,3.6,4.6,3.3,2.7,4.3,3.8,4.5,3.5,3.6,3.2,3.7,4.2,3.3,4.1,3.9,3.6,4.2,4.5,4.1,4.1,3.5,4.2,3.3,4.1,3.9,4.1,4.1,4.1,3.7,4.4,4.0,4.2,3.9,3.5,3.6,3.9,4.1,4.3,3.9,3.9,4.1,3.9,3.7,3.1,3.9,4.3,3.9,3.4,4.4,3.2,4.0,4.1,4.0,3.3,4.3,3.8,4.1,3.1,4.3,4.4,3.8,3.3,3.8,3.5,3.7,3.7,3.6,2.8,4.2,3.7,4.4,4.1,3.5,3.6,3.6,3.8,5.0,2.0,3.1,3.9,4.2,4.1,3.2,3.7,3.1,3.1,4.1,3.3,4.2,5.0,3.8,3.7,4.1,3.8,3.7,3.7,3.7,4.1,4.2,4.3,4.3,3.8,4.1,2.3,4.2,2.2,4.4,5.0,3.6,3.9,4.8,3.8,3.6,3.5,3.8,4.1,3.7,4.1,2.7,3.8,4.4,4.1,4.1,4.1,4.3,4.0,3.5,3.7,4.0,3.5,4.1,3.8,3.9,3.4,3.2,3.2,5.0,4.0,2.8,4.0,3.9,3.8,3.9,3.9,4.6,4.1,4.1,3.5,3.9,3.5,4.1,5.0,3.2,3.6,3.5,4.1,2.7,3.7,3.7,3.7,4.2,4.2,3.8,2.8,5.0,4.1,3.8,4.8,3.9,3.7,3.9,3.3,3.6,3.7,3.6,4.1,5.0,3.3,4.1,3.9,4.1,4.1,3.9,3.6,3.3,4.6,3.1,4.1,4.1,3.9,4.1,4.1,4.8,3.5,3.9,3.9,5.0,2.8,3.6,3.9,5.0,4.2,4.5,5.0,4.2,4.0,3.9,3.9,3.3,3.6,3.6,3.6,3.7,3.8,5.0,3.2,3.7,3.8,4.1,5.0,3.8,2.7,2.8,4.0,2.6,3.2,5.0,3.0,3.1,2.8,4.5,4.1,3.6,2.3,3.6,4.0,3.6,3.6,3.8,5.0,2.0,3.1,3.9,4.1,4.0,4.3,4.5,4.3,4.1,4.2,3.7,5.0,4.4,4.8,4.8,5.0,4.1,4.4,3.3,3.7,3.8,4.5,2.7,3.0,5.0,3.9,3.9,3.5,4.6,3.8,3.3,3.3,4.0,4.1,3.8,3.3,4.0,4.1,2.8,4.3,3.6,4.0,3.6,4.8,3.2,3.6,3.9,3.5,4.2,3.8,3.6,3.6,4.3,4.2,3.6,3.6,3.5,3.8,4.1,3.7,4.3,4.2,3.6,4.1,3.0,4.8,5.0,3.9,4.3,3.4,4.4,4.3,4.2,3.6,4.1,3.0,4.8,5.0,3.9,4.3,3.4,4.4,4.3,4.2,3.6,4.1,3.0,4.8,5.0,3.9,4.3,3.4,4.4,4.3,4.2,3.6,4.1,3.0,4.8,5.0,3.9,4.3,3.4,4.4,3.9,3.8,3.9,3.9,4.6,4.1,4.1,4.3,4.2,3.6,4.1,3.0,4.8,5.0,3.9,4.3,3.4,4.4,4.3,4.2,3.6,4.1,3.0,4.8,5.0,3.9,4.3,3.4,4.4,4.3,4.2,3.6,4.1,3.0,4.8,5.0,3.9,4.3,3.4,4.4,4.3,4.2,3.6,4.1,3.0,4.8,5.0,3.9,4.3,3.4,4.4,4.3,4.2,3.6,4.1,3.0,4.8,5.0,3.9,4.3,3.4,4.4,4.3,4.2,3.6,4.1,3.0,4.8,5.0,3.9,4.3,3.4,4.4,3.9,3.6,3.3,4.6,3.1,4.1,4.3,4.2,3.6,4.1,3.0,4.8,5.0,3.9,4.3,3.4,4.4,4.3,4.2,3.6,4.1,3.0,4.8,5.0,3.9,4.3,3.4,4.4,4.3,4.2,3.6,4.1,3.0,4.8,5.0,3.9,4.3,3.4,4.4,4.3,4.2,3.6,4.1,3.0,4.8,5.0,3.9,4.3,3.4,4.4,4.3,4.2,3.6,4.1,3.0,4.8,5.0,3.9,4.3,3.4,4.4,4.3,4.2,3.6,4.1,3.0,4.8,5.0,3.9,4.3,3.4,4.4,4.3,4.2,3.6,4.1,3.0,4.8,5.0,3.9,4.3,3.4,4.4,4.3,4.2,3.6,4.1,3.0,4.8,5.0,3.9,4.3,3.4,4.4,4.3,4.2,3.6,4.1,3.0,4.8,5.0,3.9,4.3,3.4,4.4,4.3,4.2,3.6,4.1,3.0,4.8,5.0,3.9,4.3,3.4,4.4,4.3,4.2,3.6,4.1,3.0,4.8,5.0,3.9,4.3,3.4,4.4,4.3,4.2,3.6,4.1,3.0,4.8,5.0,3.9,4.3,3.4,4.4,4.3,4.2,3.6,4.1,3.0,4.8,5.0,3.9,4.3,3.4,4.4,4.3,4.2,3.6,4.1,3.0,4.8,5.0,3.9,4.3,3.4,4.4,4.3,4.2,3.6,4.1,3.0,4.8,5.0,3.9,4.3,3.4,4.4,4.3,4.2,3.6,4.1,3.0,4.8,5.0,3.9,4.3,3.4,4.4,4.3,4.2,3.6,4.1,3.0,4.8,5.0,3.9,4.3,3.4,4.4,4.3,4.2,3.6,4.1,3.0,4.8,5.0,3.9,4.3,3.4,4.4,4.3,4.2,3.6,4.1,3.0,4.8,5.0,3.9,4.3,3.4,4.4,4.3,4.2,3.6,4.1,3.0,4.8,5.0,3.9,4.3,3.4,4.4,4.3,4.2,3.6,4.1,3.0,4.8,5.0,3.9,4.3,3.4,4.4],\"yaxis\":\"y\",\"type\":\"scatter\"}],                        {\"template\":{\"data\":{\"bar\":[{\"error_x\":{\"color\":\"#2a3f5f\"},\"error_y\":{\"color\":\"#2a3f5f\"},\"marker\":{\"line\":{\"color\":\"#E5ECF6\",\"width\":0.5},\"pattern\":{\"fillmode\":\"overlay\",\"size\":10,\"solidity\":0.2}},\"type\":\"bar\"}],\"barpolar\":[{\"marker\":{\"line\":{\"color\":\"#E5ECF6\",\"width\":0.5},\"pattern\":{\"fillmode\":\"overlay\",\"size\":10,\"solidity\":0.2}},\"type\":\"barpolar\"}],\"carpet\":[{\"aaxis\":{\"endlinecolor\":\"#2a3f5f\",\"gridcolor\":\"white\",\"linecolor\":\"white\",\"minorgridcolor\":\"white\",\"startlinecolor\":\"#2a3f5f\"},\"baxis\":{\"endlinecolor\":\"#2a3f5f\",\"gridcolor\":\"white\",\"linecolor\":\"white\",\"minorgridcolor\":\"white\",\"startlinecolor\":\"#2a3f5f\"},\"type\":\"carpet\"}],\"choropleth\":[{\"colorbar\":{\"outlinewidth\":0,\"ticks\":\"\"},\"type\":\"choropleth\"}],\"contour\":[{\"colorbar\":{\"outlinewidth\":0,\"ticks\":\"\"},\"colorscale\":[[0.0,\"#0d0887\"],[0.1111111111111111,\"#46039f\"],[0.2222222222222222,\"#7201a8\"],[0.3333333333333333,\"#9c179e\"],[0.4444444444444444,\"#bd3786\"],[0.5555555555555556,\"#d8576b\"],[0.6666666666666666,\"#ed7953\"],[0.7777777777777778,\"#fb9f3a\"],[0.8888888888888888,\"#fdca26\"],[1.0,\"#f0f921\"]],\"type\":\"contour\"}],\"contourcarpet\":[{\"colorbar\":{\"outlinewidth\":0,\"ticks\":\"\"},\"type\":\"contourcarpet\"}],\"heatmap\":[{\"colorbar\":{\"outlinewidth\":0,\"ticks\":\"\"},\"colorscale\":[[0.0,\"#0d0887\"],[0.1111111111111111,\"#46039f\"],[0.2222222222222222,\"#7201a8\"],[0.3333333333333333,\"#9c179e\"],[0.4444444444444444,\"#bd3786\"],[0.5555555555555556,\"#d8576b\"],[0.6666666666666666,\"#ed7953\"],[0.7777777777777778,\"#fb9f3a\"],[0.8888888888888888,\"#fdca26\"],[1.0,\"#f0f921\"]],\"type\":\"heatmap\"}],\"heatmapgl\":[{\"colorbar\":{\"outlinewidth\":0,\"ticks\":\"\"},\"colorscale\":[[0.0,\"#0d0887\"],[0.1111111111111111,\"#46039f\"],[0.2222222222222222,\"#7201a8\"],[0.3333333333333333,\"#9c179e\"],[0.4444444444444444,\"#bd3786\"],[0.5555555555555556,\"#d8576b\"],[0.6666666666666666,\"#ed7953\"],[0.7777777777777778,\"#fb9f3a\"],[0.8888888888888888,\"#fdca26\"],[1.0,\"#f0f921\"]],\"type\":\"heatmapgl\"}],\"histogram\":[{\"marker\":{\"pattern\":{\"fillmode\":\"overlay\",\"size\":10,\"solidity\":0.2}},\"type\":\"histogram\"}],\"histogram2d\":[{\"colorbar\":{\"outlinewidth\":0,\"ticks\":\"\"},\"colorscale\":[[0.0,\"#0d0887\"],[0.1111111111111111,\"#46039f\"],[0.2222222222222222,\"#7201a8\"],[0.3333333333333333,\"#9c179e\"],[0.4444444444444444,\"#bd3786\"],[0.5555555555555556,\"#d8576b\"],[0.6666666666666666,\"#ed7953\"],[0.7777777777777778,\"#fb9f3a\"],[0.8888888888888888,\"#fdca26\"],[1.0,\"#f0f921\"]],\"type\":\"histogram2d\"}],\"histogram2dcontour\":[{\"colorbar\":{\"outlinewidth\":0,\"ticks\":\"\"},\"colorscale\":[[0.0,\"#0d0887\"],[0.1111111111111111,\"#46039f\"],[0.2222222222222222,\"#7201a8\"],[0.3333333333333333,\"#9c179e\"],[0.4444444444444444,\"#bd3786\"],[0.5555555555555556,\"#d8576b\"],[0.6666666666666666,\"#ed7953\"],[0.7777777777777778,\"#fb9f3a\"],[0.8888888888888888,\"#fdca26\"],[1.0,\"#f0f921\"]],\"type\":\"histogram2dcontour\"}],\"mesh3d\":[{\"colorbar\":{\"outlinewidth\":0,\"ticks\":\"\"},\"type\":\"mesh3d\"}],\"parcoords\":[{\"line\":{\"colorbar\":{\"outlinewidth\":0,\"ticks\":\"\"}},\"type\":\"parcoords\"}],\"pie\":[{\"automargin\":true,\"type\":\"pie\"}],\"scatter\":[{\"marker\":{\"colorbar\":{\"outlinewidth\":0,\"ticks\":\"\"}},\"type\":\"scatter\"}],\"scatter3d\":[{\"line\":{\"colorbar\":{\"outlinewidth\":0,\"ticks\":\"\"}},\"marker\":{\"colorbar\":{\"outlinewidth\":0,\"ticks\":\"\"}},\"type\":\"scatter3d\"}],\"scattercarpet\":[{\"marker\":{\"colorbar\":{\"outlinewidth\":0,\"ticks\":\"\"}},\"type\":\"scattercarpet\"}],\"scattergeo\":[{\"marker\":{\"colorbar\":{\"outlinewidth\":0,\"ticks\":\"\"}},\"type\":\"scattergeo\"}],\"scattergl\":[{\"marker\":{\"colorbar\":{\"outlinewidth\":0,\"ticks\":\"\"}},\"type\":\"scattergl\"}],\"scattermapbox\":[{\"marker\":{\"colorbar\":{\"outlinewidth\":0,\"ticks\":\"\"}},\"type\":\"scattermapbox\"}],\"scatterpolar\":[{\"marker\":{\"colorbar\":{\"outlinewidth\":0,\"ticks\":\"\"}},\"type\":\"scatterpolar\"}],\"scatterpolargl\":[{\"marker\":{\"colorbar\":{\"outlinewidth\":0,\"ticks\":\"\"}},\"type\":\"scatterpolargl\"}],\"scatterternary\":[{\"marker\":{\"colorbar\":{\"outlinewidth\":0,\"ticks\":\"\"}},\"type\":\"scatterternary\"}],\"surface\":[{\"colorbar\":{\"outlinewidth\":0,\"ticks\":\"\"},\"colorscale\":[[0.0,\"#0d0887\"],[0.1111111111111111,\"#46039f\"],[0.2222222222222222,\"#7201a8\"],[0.3333333333333333,\"#9c179e\"],[0.4444444444444444,\"#bd3786\"],[0.5555555555555556,\"#d8576b\"],[0.6666666666666666,\"#ed7953\"],[0.7777777777777778,\"#fb9f3a\"],[0.8888888888888888,\"#fdca26\"],[1.0,\"#f0f921\"]],\"type\":\"surface\"}],\"table\":[{\"cells\":{\"fill\":{\"color\":\"#EBF0F8\"},\"line\":{\"color\":\"white\"}},\"header\":{\"fill\":{\"color\":\"#C8D4E3\"},\"line\":{\"color\":\"white\"}},\"type\":\"table\"}]},\"layout\":{\"annotationdefaults\":{\"arrowcolor\":\"#2a3f5f\",\"arrowhead\":0,\"arrowwidth\":1},\"autotypenumbers\":\"strict\",\"coloraxis\":{\"colorbar\":{\"outlinewidth\":0,\"ticks\":\"\"}},\"colorscale\":{\"diverging\":[[0,\"#8e0152\"],[0.1,\"#c51b7d\"],[0.2,\"#de77ae\"],[0.3,\"#f1b6da\"],[0.4,\"#fde0ef\"],[0.5,\"#f7f7f7\"],[0.6,\"#e6f5d0\"],[0.7,\"#b8e186\"],[0.8,\"#7fbc41\"],[0.9,\"#4d9221\"],[1,\"#276419\"]],\"sequential\":[[0.0,\"#0d0887\"],[0.1111111111111111,\"#46039f\"],[0.2222222222222222,\"#7201a8\"],[0.3333333333333333,\"#9c179e\"],[0.4444444444444444,\"#bd3786\"],[0.5555555555555556,\"#d8576b\"],[0.6666666666666666,\"#ed7953\"],[0.7777777777777778,\"#fb9f3a\"],[0.8888888888888888,\"#fdca26\"],[1.0,\"#f0f921\"]],\"sequentialminus\":[[0.0,\"#0d0887\"],[0.1111111111111111,\"#46039f\"],[0.2222222222222222,\"#7201a8\"],[0.3333333333333333,\"#9c179e\"],[0.4444444444444444,\"#bd3786\"],[0.5555555555555556,\"#d8576b\"],[0.6666666666666666,\"#ed7953\"],[0.7777777777777778,\"#fb9f3a\"],[0.8888888888888888,\"#fdca26\"],[1.0,\"#f0f921\"]]},\"colorway\":[\"#636efa\",\"#EF553B\",\"#00cc96\",\"#ab63fa\",\"#FFA15A\",\"#19d3f3\",\"#FF6692\",\"#B6E880\",\"#FF97FF\",\"#FECB52\"],\"font\":{\"color\":\"#2a3f5f\"},\"geo\":{\"bgcolor\":\"white\",\"lakecolor\":\"white\",\"landcolor\":\"#E5ECF6\",\"showlakes\":true,\"showland\":true,\"subunitcolor\":\"white\"},\"hoverlabel\":{\"align\":\"left\"},\"hovermode\":\"closest\",\"mapbox\":{\"style\":\"light\"},\"paper_bgcolor\":\"white\",\"plot_bgcolor\":\"#E5ECF6\",\"polar\":{\"angularaxis\":{\"gridcolor\":\"white\",\"linecolor\":\"white\",\"ticks\":\"\"},\"bgcolor\":\"#E5ECF6\",\"radialaxis\":{\"gridcolor\":\"white\",\"linecolor\":\"white\",\"ticks\":\"\"}},\"scene\":{\"xaxis\":{\"backgroundcolor\":\"#E5ECF6\",\"gridcolor\":\"white\",\"gridwidth\":2,\"linecolor\":\"white\",\"showbackground\":true,\"ticks\":\"\",\"zerolinecolor\":\"white\"},\"yaxis\":{\"backgroundcolor\":\"#E5ECF6\",\"gridcolor\":\"white\",\"gridwidth\":2,\"linecolor\":\"white\",\"showbackground\":true,\"ticks\":\"\",\"zerolinecolor\":\"white\"},\"zaxis\":{\"backgroundcolor\":\"#E5ECF6\",\"gridcolor\":\"white\",\"gridwidth\":2,\"linecolor\":\"white\",\"showbackground\":true,\"ticks\":\"\",\"zerolinecolor\":\"white\"}},\"shapedefaults\":{\"line\":{\"color\":\"#2a3f5f\"}},\"ternary\":{\"aaxis\":{\"gridcolor\":\"white\",\"linecolor\":\"white\",\"ticks\":\"\"},\"baxis\":{\"gridcolor\":\"white\",\"linecolor\":\"white\",\"ticks\":\"\"},\"bgcolor\":\"#E5ECF6\",\"caxis\":{\"gridcolor\":\"white\",\"linecolor\":\"white\",\"ticks\":\"\"}},\"title\":{\"x\":0.05},\"xaxis\":{\"automargin\":true,\"gridcolor\":\"white\",\"linecolor\":\"white\",\"ticks\":\"\",\"title\":{\"standoff\":15},\"zerolinecolor\":\"white\",\"zerolinewidth\":2},\"yaxis\":{\"automargin\":true,\"gridcolor\":\"white\",\"linecolor\":\"white\",\"ticks\":\"\",\"title\":{\"standoff\":15},\"zerolinecolor\":\"white\",\"zerolinewidth\":2}}},\"xaxis\":{\"anchor\":\"y\",\"domain\":[0.0,1.0],\"title\":{\"text\":\"Company\"}},\"yaxis\":{\"anchor\":\"x\",\"domain\":[0.0,1.0],\"title\":{\"text\":\"Ratings\"}},\"legend\":{\"tracegroupgap\":0},\"margin\":{\"t\":60},\"title\":{\"text\":\"Ratings per Companies\"},\"width\":1200,\"height\":600},                        {\"responsive\": true}                    ).then(function(){\n",
       "                            \n",
       "var gd = document.getElementById('0852a58a-b9b7-4372-80fe-2ed6ef138f90');\n",
       "var x = new MutationObserver(function (mutations, observer) {{\n",
       "        var display = window.getComputedStyle(gd).display;\n",
       "        if (!display || display === 'none') {{\n",
       "            console.log([gd, 'removed!']);\n",
       "            Plotly.purge(gd);\n",
       "            observer.disconnect();\n",
       "        }}\n",
       "}});\n",
       "\n",
       "// Listen for the removal of the full notebook cells\n",
       "var notebookContainer = gd.closest('#notebook-container');\n",
       "if (notebookContainer) {{\n",
       "    x.observe(notebookContainer, {childList: true});\n",
       "}}\n",
       "\n",
       "// Listen for the clearing of the current output cell\n",
       "var outputEl = gd.closest('.output');\n",
       "if (outputEl) {{\n",
       "    x.observe(outputEl, {childList: true});\n",
       "}}\n",
       "\n",
       "                        })                };                });            </script>        </div>"
      ]
     },
     "metadata": {},
     "output_type": "display_data"
    }
   ],
   "source": [
    "fig = px.scatter(clean_data, x='Company', y='Ratings')\n",
    "fig.update_layout(title='Ratings per Companies', width=1200, height=600)\n",
    "fig.show()"
   ]
  },
  {
   "cell_type": "markdown",
   "metadata": {},
   "source": [
    "### Machine Learning Part"
   ]
  },
  {
   "cell_type": "code",
   "execution_count": 64,
   "metadata": {},
   "outputs": [],
   "source": [
    "from sklearn.ensemble import RandomForestRegressor, GradientBoostingRegressor, AdaBoostRegressor, BaggingRegressor\n",
    "from sklearn.model_selection import train_test_split\n",
    "from sklearn.metrics import confusion_matrix, accuracy_score, recall_score\n",
    "from sklearn.model_selection import RandomizedSearchCV\n",
    "import numpy as np   \n",
    "from sklearn.impute import SimpleImputer\n",
    "from sklearn.svm import SVR\n",
    "import lightgbm as lgb\n",
    "from lightgbm import LGBMRegressor\n",
    "from xgboost import XGBRegressor"
   ]
  },
  {
   "cell_type": "markdown",
   "metadata": {},
   "source": [
    "#### Split the dataset"
   ]
  },
  {
   "cell_type": "code",
   "execution_count": 102,
   "metadata": {},
   "outputs": [
    {
     "data": {
      "text/html": [
       "<div>\n",
       "<style scoped>\n",
       "    .dataframe tbody tr th:only-of-type {\n",
       "        vertical-align: middle;\n",
       "    }\n",
       "\n",
       "    .dataframe tbody tr th {\n",
       "        vertical-align: top;\n",
       "    }\n",
       "\n",
       "    .dataframe thead th {\n",
       "        text-align: right;\n",
       "    }\n",
       "</style>\n",
       "<table border=\"1\" class=\"dataframe\">\n",
       "  <thead>\n",
       "    <tr style=\"text-align: right;\">\n",
       "      <th></th>\n",
       "      <th>Name</th>\n",
       "      <th>Company</th>\n",
       "      <th>City</th>\n",
       "      <th>Day</th>\n",
       "    </tr>\n",
       "  </thead>\n",
       "  <tbody>\n",
       "    <tr>\n",
       "      <th>0</th>\n",
       "      <td>Software Engineer, Integrations</td>\n",
       "      <td>Square</td>\n",
       "      <td>San Francisco, CA 94103 (South of Market area)</td>\n",
       "      <td>1</td>\n",
       "    </tr>\n",
       "    <tr>\n",
       "      <th>1</th>\n",
       "      <td>Software Engineer, Backend - Tweet Services</td>\n",
       "      <td>Twitter</td>\n",
       "      <td>San Francisco, CA 94103 (South of Market area)</td>\n",
       "      <td>2</td>\n",
       "    </tr>\n",
       "    <tr>\n",
       "      <th>3</th>\n",
       "      <td>Software Engineer - C++</td>\n",
       "      <td>Splunk</td>\n",
       "      <td>San Francisco, CA</td>\n",
       "      <td>0</td>\n",
       "    </tr>\n",
       "    <tr>\n",
       "      <th>5</th>\n",
       "      <td>University Grad Software Engineer</td>\n",
       "      <td>Pinterest</td>\n",
       "      <td>San Francisco, CA 94103 (South of Market area)</td>\n",
       "      <td>29</td>\n",
       "    </tr>\n",
       "    <tr>\n",
       "      <th>6</th>\n",
       "      <td>Software Engineer - Intern</td>\n",
       "      <td>Plaid</td>\n",
       "      <td>San Francisco, CA</td>\n",
       "      <td>30</td>\n",
       "    </tr>\n",
       "    <tr>\n",
       "      <th>...</th>\n",
       "      <td>...</td>\n",
       "      <td>...</td>\n",
       "      <td>...</td>\n",
       "      <td>...</td>\n",
       "    </tr>\n",
       "    <tr>\n",
       "      <th>1424</th>\n",
       "      <td>Sr. Software Engineer, Rendering</td>\n",
       "      <td>Ditto Technologies</td>\n",
       "      <td>Oakland, CA</td>\n",
       "      <td>30</td>\n",
       "    </tr>\n",
       "    <tr>\n",
       "      <th>1425</th>\n",
       "      <td>Gameplay Network Engineer</td>\n",
       "      <td>Ubisoft</td>\n",
       "      <td>San Francisco, CA 94107 (South Beach area)</td>\n",
       "      <td>9</td>\n",
       "    </tr>\n",
       "    <tr>\n",
       "      <th>1426</th>\n",
       "      <td>Staff Software Engineer</td>\n",
       "      <td>wepay</td>\n",
       "      <td>Redwood City, CA (Downtown area)</td>\n",
       "      <td>30</td>\n",
       "    </tr>\n",
       "    <tr>\n",
       "      <th>1427</th>\n",
       "      <td>Android Engineer</td>\n",
       "      <td>Grand Rounds</td>\n",
       "      <td>San Francisco, CA</td>\n",
       "      <td>30</td>\n",
       "    </tr>\n",
       "    <tr>\n",
       "      <th>1428</th>\n",
       "      <td>Senior Software Engineer</td>\n",
       "      <td>Lambda</td>\n",
       "      <td>San Francisco, CA</td>\n",
       "      <td>30</td>\n",
       "    </tr>\n",
       "  </tbody>\n",
       "</table>\n",
       "<p>910 rows × 4 columns</p>\n",
       "</div>"
      ],
      "text/plain": [
       "                                             Name             Company  \\\n",
       "0                 Software Engineer, Integrations              Square   \n",
       "1     Software Engineer, Backend - Tweet Services             Twitter   \n",
       "3                         Software Engineer - C++              Splunk   \n",
       "5               University Grad Software Engineer           Pinterest   \n",
       "6                      Software Engineer - Intern               Plaid   \n",
       "...                                           ...                 ...   \n",
       "1424             Sr. Software Engineer, Rendering  Ditto Technologies   \n",
       "1425                    Gameplay Network Engineer             Ubisoft   \n",
       "1426                      Staff Software Engineer               wepay   \n",
       "1427                             Android Engineer        Grand Rounds   \n",
       "1428                     Senior Software Engineer              Lambda   \n",
       "\n",
       "                                                City  Day  \n",
       "0     San Francisco, CA 94103 (South of Market area)    1  \n",
       "1     San Francisco, CA 94103 (South of Market area)    2  \n",
       "3                                  San Francisco, CA    0  \n",
       "5     San Francisco, CA 94103 (South of Market area)   29  \n",
       "6                                  San Francisco, CA   30  \n",
       "...                                              ...  ...  \n",
       "1424                                     Oakland, CA   30  \n",
       "1425      San Francisco, CA 94107 (South Beach area)    9  \n",
       "1426                Redwood City, CA (Downtown area)   30  \n",
       "1427                               San Francisco, CA   30  \n",
       "1428                               San Francisco, CA   30  \n",
       "\n",
       "[910 rows x 4 columns]"
      ]
     },
     "execution_count": 102,
     "metadata": {},
     "output_type": "execute_result"
    }
   ],
   "source": [
    "X_trainset = data[~data['Ratings'].isna()]\n",
    "test = data[data['Ratings'].isna()]\n",
    "X = X_trainset.iloc[:, :-1]\n",
    "y = X_trainset.iloc[:, -1]\n",
    "\n",
    "X = X[['Name', 'Company', 'City', 'Day']]\n",
    "X_pre_dummies = X\n",
    "X_pre_dummies"
   ]
  },
  {
   "cell_type": "code",
   "execution_count": 81,
   "metadata": {},
   "outputs": [
    {
     "data": {
      "text/plain": [
       "0       3.7\n",
       "1       4.1\n",
       "3       4.1\n",
       "5       4.2\n",
       "6       3.8\n",
       "       ... \n",
       "1424    5.0\n",
       "1425    3.9\n",
       "1426    4.3\n",
       "1427    3.4\n",
       "1428    4.4\n",
       "Name: Ratings, Length: 910, dtype: float64"
      ]
     },
     "execution_count": 81,
     "metadata": {},
     "output_type": "execute_result"
    }
   ],
   "source": [
    "y"
   ]
  },
  {
   "cell_type": "markdown",
   "metadata": {},
   "source": [
    "#### Encode categorical features"
   ]
  },
  {
   "cell_type": "code",
   "execution_count": 82,
   "metadata": {},
   "outputs": [
    {
     "data": {
      "text/html": [
       "<div>\n",
       "<style scoped>\n",
       "    .dataframe tbody tr th:only-of-type {\n",
       "        vertical-align: middle;\n",
       "    }\n",
       "\n",
       "    .dataframe tbody tr th {\n",
       "        vertical-align: top;\n",
       "    }\n",
       "\n",
       "    .dataframe thead th {\n",
       "        text-align: right;\n",
       "    }\n",
       "</style>\n",
       "<table border=\"1\" class=\"dataframe\">\n",
       "  <thead>\n",
       "    <tr style=\"text-align: right;\">\n",
       "      <th></th>\n",
       "      <th>Day</th>\n",
       "      <th>Name_2021 Graduate Summer Internship Program Technology and Opera...</th>\n",
       "      <th>Name_AMTS Software Engineer, Mulesoft</th>\n",
       "      <th>Name_Android Engineer</th>\n",
       "      <th>Name_Android Engineer (Consumer Apps) - San Francisco</th>\n",
       "      <th>Name_Android Engineer - Quip</th>\n",
       "      <th>Name_Android Software Engineer, Adobe Spark</th>\n",
       "      <th>Name_Android developer</th>\n",
       "      <th>Name_Associate Game Designer (New Project)</th>\n",
       "      <th>Name_Associate Gameplay Engineer</th>\n",
       "      <th>...</th>\n",
       "      <th>City_San Leandro, CA 94577</th>\n",
       "      <th>City_San Mateo, CA</th>\n",
       "      <th>City_San Mateo, CA 94402 (Aragon area)</th>\n",
       "      <th>City_San Mateo, CA 94402 (Sunnybrae area)</th>\n",
       "      <th>City_San Mateo, CA 94403 (Sugerloaf area)</th>\n",
       "      <th>City_San Mateo, CA 94404</th>\n",
       "      <th>City_Sausalito, CA</th>\n",
       "      <th>City_South San Francisco, CA</th>\n",
       "      <th>City_South San Francisco, CA 94080</th>\n",
       "      <th>City_Walnut Creek, CA</th>\n",
       "    </tr>\n",
       "  </thead>\n",
       "  <tbody>\n",
       "    <tr>\n",
       "      <th>0</th>\n",
       "      <td>1</td>\n",
       "      <td>0</td>\n",
       "      <td>0</td>\n",
       "      <td>0</td>\n",
       "      <td>0</td>\n",
       "      <td>0</td>\n",
       "      <td>0</td>\n",
       "      <td>0</td>\n",
       "      <td>0</td>\n",
       "      <td>0</td>\n",
       "      <td>...</td>\n",
       "      <td>0</td>\n",
       "      <td>0</td>\n",
       "      <td>0</td>\n",
       "      <td>0</td>\n",
       "      <td>0</td>\n",
       "      <td>0</td>\n",
       "      <td>0</td>\n",
       "      <td>0</td>\n",
       "      <td>0</td>\n",
       "      <td>0</td>\n",
       "    </tr>\n",
       "    <tr>\n",
       "      <th>1</th>\n",
       "      <td>2</td>\n",
       "      <td>0</td>\n",
       "      <td>0</td>\n",
       "      <td>0</td>\n",
       "      <td>0</td>\n",
       "      <td>0</td>\n",
       "      <td>0</td>\n",
       "      <td>0</td>\n",
       "      <td>0</td>\n",
       "      <td>0</td>\n",
       "      <td>...</td>\n",
       "      <td>0</td>\n",
       "      <td>0</td>\n",
       "      <td>0</td>\n",
       "      <td>0</td>\n",
       "      <td>0</td>\n",
       "      <td>0</td>\n",
       "      <td>0</td>\n",
       "      <td>0</td>\n",
       "      <td>0</td>\n",
       "      <td>0</td>\n",
       "    </tr>\n",
       "    <tr>\n",
       "      <th>3</th>\n",
       "      <td>0</td>\n",
       "      <td>0</td>\n",
       "      <td>0</td>\n",
       "      <td>0</td>\n",
       "      <td>0</td>\n",
       "      <td>0</td>\n",
       "      <td>0</td>\n",
       "      <td>0</td>\n",
       "      <td>0</td>\n",
       "      <td>0</td>\n",
       "      <td>...</td>\n",
       "      <td>0</td>\n",
       "      <td>0</td>\n",
       "      <td>0</td>\n",
       "      <td>0</td>\n",
       "      <td>0</td>\n",
       "      <td>0</td>\n",
       "      <td>0</td>\n",
       "      <td>0</td>\n",
       "      <td>0</td>\n",
       "      <td>0</td>\n",
       "    </tr>\n",
       "    <tr>\n",
       "      <th>5</th>\n",
       "      <td>29</td>\n",
       "      <td>0</td>\n",
       "      <td>0</td>\n",
       "      <td>0</td>\n",
       "      <td>0</td>\n",
       "      <td>0</td>\n",
       "      <td>0</td>\n",
       "      <td>0</td>\n",
       "      <td>0</td>\n",
       "      <td>0</td>\n",
       "      <td>...</td>\n",
       "      <td>0</td>\n",
       "      <td>0</td>\n",
       "      <td>0</td>\n",
       "      <td>0</td>\n",
       "      <td>0</td>\n",
       "      <td>0</td>\n",
       "      <td>0</td>\n",
       "      <td>0</td>\n",
       "      <td>0</td>\n",
       "      <td>0</td>\n",
       "    </tr>\n",
       "    <tr>\n",
       "      <th>6</th>\n",
       "      <td>30</td>\n",
       "      <td>0</td>\n",
       "      <td>0</td>\n",
       "      <td>0</td>\n",
       "      <td>0</td>\n",
       "      <td>0</td>\n",
       "      <td>0</td>\n",
       "      <td>0</td>\n",
       "      <td>0</td>\n",
       "      <td>0</td>\n",
       "      <td>...</td>\n",
       "      <td>0</td>\n",
       "      <td>0</td>\n",
       "      <td>0</td>\n",
       "      <td>0</td>\n",
       "      <td>0</td>\n",
       "      <td>0</td>\n",
       "      <td>0</td>\n",
       "      <td>0</td>\n",
       "      <td>0</td>\n",
       "      <td>0</td>\n",
       "    </tr>\n",
       "    <tr>\n",
       "      <th>...</th>\n",
       "      <td>...</td>\n",
       "      <td>...</td>\n",
       "      <td>...</td>\n",
       "      <td>...</td>\n",
       "      <td>...</td>\n",
       "      <td>...</td>\n",
       "      <td>...</td>\n",
       "      <td>...</td>\n",
       "      <td>...</td>\n",
       "      <td>...</td>\n",
       "      <td>...</td>\n",
       "      <td>...</td>\n",
       "      <td>...</td>\n",
       "      <td>...</td>\n",
       "      <td>...</td>\n",
       "      <td>...</td>\n",
       "      <td>...</td>\n",
       "      <td>...</td>\n",
       "      <td>...</td>\n",
       "      <td>...</td>\n",
       "      <td>...</td>\n",
       "    </tr>\n",
       "    <tr>\n",
       "      <th>1424</th>\n",
       "      <td>30</td>\n",
       "      <td>0</td>\n",
       "      <td>0</td>\n",
       "      <td>0</td>\n",
       "      <td>0</td>\n",
       "      <td>0</td>\n",
       "      <td>0</td>\n",
       "      <td>0</td>\n",
       "      <td>0</td>\n",
       "      <td>0</td>\n",
       "      <td>...</td>\n",
       "      <td>0</td>\n",
       "      <td>0</td>\n",
       "      <td>0</td>\n",
       "      <td>0</td>\n",
       "      <td>0</td>\n",
       "      <td>0</td>\n",
       "      <td>0</td>\n",
       "      <td>0</td>\n",
       "      <td>0</td>\n",
       "      <td>0</td>\n",
       "    </tr>\n",
       "    <tr>\n",
       "      <th>1425</th>\n",
       "      <td>9</td>\n",
       "      <td>0</td>\n",
       "      <td>0</td>\n",
       "      <td>0</td>\n",
       "      <td>0</td>\n",
       "      <td>0</td>\n",
       "      <td>0</td>\n",
       "      <td>0</td>\n",
       "      <td>0</td>\n",
       "      <td>0</td>\n",
       "      <td>...</td>\n",
       "      <td>0</td>\n",
       "      <td>0</td>\n",
       "      <td>0</td>\n",
       "      <td>0</td>\n",
       "      <td>0</td>\n",
       "      <td>0</td>\n",
       "      <td>0</td>\n",
       "      <td>0</td>\n",
       "      <td>0</td>\n",
       "      <td>0</td>\n",
       "    </tr>\n",
       "    <tr>\n",
       "      <th>1426</th>\n",
       "      <td>30</td>\n",
       "      <td>0</td>\n",
       "      <td>0</td>\n",
       "      <td>0</td>\n",
       "      <td>0</td>\n",
       "      <td>0</td>\n",
       "      <td>0</td>\n",
       "      <td>0</td>\n",
       "      <td>0</td>\n",
       "      <td>0</td>\n",
       "      <td>...</td>\n",
       "      <td>0</td>\n",
       "      <td>0</td>\n",
       "      <td>0</td>\n",
       "      <td>0</td>\n",
       "      <td>0</td>\n",
       "      <td>0</td>\n",
       "      <td>0</td>\n",
       "      <td>0</td>\n",
       "      <td>0</td>\n",
       "      <td>0</td>\n",
       "    </tr>\n",
       "    <tr>\n",
       "      <th>1427</th>\n",
       "      <td>30</td>\n",
       "      <td>0</td>\n",
       "      <td>0</td>\n",
       "      <td>1</td>\n",
       "      <td>0</td>\n",
       "      <td>0</td>\n",
       "      <td>0</td>\n",
       "      <td>0</td>\n",
       "      <td>0</td>\n",
       "      <td>0</td>\n",
       "      <td>...</td>\n",
       "      <td>0</td>\n",
       "      <td>0</td>\n",
       "      <td>0</td>\n",
       "      <td>0</td>\n",
       "      <td>0</td>\n",
       "      <td>0</td>\n",
       "      <td>0</td>\n",
       "      <td>0</td>\n",
       "      <td>0</td>\n",
       "      <td>0</td>\n",
       "    </tr>\n",
       "    <tr>\n",
       "      <th>1428</th>\n",
       "      <td>30</td>\n",
       "      <td>0</td>\n",
       "      <td>0</td>\n",
       "      <td>0</td>\n",
       "      <td>0</td>\n",
       "      <td>0</td>\n",
       "      <td>0</td>\n",
       "      <td>0</td>\n",
       "      <td>0</td>\n",
       "      <td>0</td>\n",
       "      <td>...</td>\n",
       "      <td>0</td>\n",
       "      <td>0</td>\n",
       "      <td>0</td>\n",
       "      <td>0</td>\n",
       "      <td>0</td>\n",
       "      <td>0</td>\n",
       "      <td>0</td>\n",
       "      <td>0</td>\n",
       "      <td>0</td>\n",
       "      <td>0</td>\n",
       "    </tr>\n",
       "  </tbody>\n",
       "</table>\n",
       "<p>910 rows × 708 columns</p>\n",
       "</div>"
      ],
      "text/plain": [
       "      Day  \\\n",
       "0       1   \n",
       "1       2   \n",
       "3       0   \n",
       "5      29   \n",
       "6      30   \n",
       "...   ...   \n",
       "1424   30   \n",
       "1425    9   \n",
       "1426   30   \n",
       "1427   30   \n",
       "1428   30   \n",
       "\n",
       "      Name_2021 Graduate Summer Internship Program Technology and Opera...  \\\n",
       "0                                                     0                      \n",
       "1                                                     0                      \n",
       "3                                                     0                      \n",
       "5                                                     0                      \n",
       "6                                                     0                      \n",
       "...                                                 ...                      \n",
       "1424                                                  0                      \n",
       "1425                                                  0                      \n",
       "1426                                                  0                      \n",
       "1427                                                  0                      \n",
       "1428                                                  0                      \n",
       "\n",
       "      Name_AMTS Software Engineer, Mulesoft  Name_Android Engineer  \\\n",
       "0                                         0                      0   \n",
       "1                                         0                      0   \n",
       "3                                         0                      0   \n",
       "5                                         0                      0   \n",
       "6                                         0                      0   \n",
       "...                                     ...                    ...   \n",
       "1424                                      0                      0   \n",
       "1425                                      0                      0   \n",
       "1426                                      0                      0   \n",
       "1427                                      0                      1   \n",
       "1428                                      0                      0   \n",
       "\n",
       "      Name_Android Engineer (Consumer Apps) - San Francisco  \\\n",
       "0                                                     0       \n",
       "1                                                     0       \n",
       "3                                                     0       \n",
       "5                                                     0       \n",
       "6                                                     0       \n",
       "...                                                 ...       \n",
       "1424                                                  0       \n",
       "1425                                                  0       \n",
       "1426                                                  0       \n",
       "1427                                                  0       \n",
       "1428                                                  0       \n",
       "\n",
       "      Name_Android Engineer - Quip  \\\n",
       "0                                0   \n",
       "1                                0   \n",
       "3                                0   \n",
       "5                                0   \n",
       "6                                0   \n",
       "...                            ...   \n",
       "1424                             0   \n",
       "1425                             0   \n",
       "1426                             0   \n",
       "1427                             0   \n",
       "1428                             0   \n",
       "\n",
       "      Name_Android Software Engineer, Adobe Spark  Name_Android developer  \\\n",
       "0                                               0                       0   \n",
       "1                                               0                       0   \n",
       "3                                               0                       0   \n",
       "5                                               0                       0   \n",
       "6                                               0                       0   \n",
       "...                                           ...                     ...   \n",
       "1424                                            0                       0   \n",
       "1425                                            0                       0   \n",
       "1426                                            0                       0   \n",
       "1427                                            0                       0   \n",
       "1428                                            0                       0   \n",
       "\n",
       "      Name_Associate Game Designer (New Project)  \\\n",
       "0                                              0   \n",
       "1                                              0   \n",
       "3                                              0   \n",
       "5                                              0   \n",
       "6                                              0   \n",
       "...                                          ...   \n",
       "1424                                           0   \n",
       "1425                                           0   \n",
       "1426                                           0   \n",
       "1427                                           0   \n",
       "1428                                           0   \n",
       "\n",
       "      Name_Associate Gameplay Engineer  ...  City_San Leandro, CA 94577  \\\n",
       "0                                    0  ...                           0   \n",
       "1                                    0  ...                           0   \n",
       "3                                    0  ...                           0   \n",
       "5                                    0  ...                           0   \n",
       "6                                    0  ...                           0   \n",
       "...                                ...  ...                         ...   \n",
       "1424                                 0  ...                           0   \n",
       "1425                                 0  ...                           0   \n",
       "1426                                 0  ...                           0   \n",
       "1427                                 0  ...                           0   \n",
       "1428                                 0  ...                           0   \n",
       "\n",
       "      City_San Mateo, CA  City_San Mateo, CA 94402 (Aragon area)  \\\n",
       "0                      0                                       0   \n",
       "1                      0                                       0   \n",
       "3                      0                                       0   \n",
       "5                      0                                       0   \n",
       "6                      0                                       0   \n",
       "...                  ...                                     ...   \n",
       "1424                   0                                       0   \n",
       "1425                   0                                       0   \n",
       "1426                   0                                       0   \n",
       "1427                   0                                       0   \n",
       "1428                   0                                       0   \n",
       "\n",
       "      City_San Mateo, CA 94402 (Sunnybrae area)  \\\n",
       "0                                             0   \n",
       "1                                             0   \n",
       "3                                             0   \n",
       "5                                             0   \n",
       "6                                             0   \n",
       "...                                         ...   \n",
       "1424                                          0   \n",
       "1425                                          0   \n",
       "1426                                          0   \n",
       "1427                                          0   \n",
       "1428                                          0   \n",
       "\n",
       "      City_San Mateo, CA 94403 (Sugerloaf area)  City_San Mateo, CA 94404  \\\n",
       "0                                             0                         0   \n",
       "1                                             0                         0   \n",
       "3                                             0                         0   \n",
       "5                                             0                         0   \n",
       "6                                             0                         0   \n",
       "...                                         ...                       ...   \n",
       "1424                                          0                         0   \n",
       "1425                                          0                         0   \n",
       "1426                                          0                         0   \n",
       "1427                                          0                         0   \n",
       "1428                                          0                         0   \n",
       "\n",
       "      City_Sausalito, CA  City_South San Francisco, CA  \\\n",
       "0                      0                             0   \n",
       "1                      0                             0   \n",
       "3                      0                             0   \n",
       "5                      0                             0   \n",
       "6                      0                             0   \n",
       "...                  ...                           ...   \n",
       "1424                   0                             0   \n",
       "1425                   0                             0   \n",
       "1426                   0                             0   \n",
       "1427                   0                             0   \n",
       "1428                   0                             0   \n",
       "\n",
       "      City_South San Francisco, CA 94080  City_Walnut Creek, CA  \n",
       "0                                      0                      0  \n",
       "1                                      0                      0  \n",
       "3                                      0                      0  \n",
       "5                                      0                      0  \n",
       "6                                      0                      0  \n",
       "...                                  ...                    ...  \n",
       "1424                                   0                      0  \n",
       "1425                                   0                      0  \n",
       "1426                                   0                      0  \n",
       "1427                                   0                      0  \n",
       "1428                                   0                      0  \n",
       "\n",
       "[910 rows x 708 columns]"
      ]
     },
     "execution_count": 82,
     "metadata": {},
     "output_type": "execute_result"
    }
   ],
   "source": [
    "# Apply get dummies to each column with categorical data in X\n",
    "X = pd.get_dummies(X, columns=['Name', 'Company', 'City'])\n",
    "X_test = test[['Name', 'Company', 'City', 'Day']]\n",
    "X_test = pd.get_dummies(X_test, columns=['Name', 'Company', 'City'])\n",
    "X"
   ]
  },
  {
   "cell_type": "code",
   "execution_count": 83,
   "metadata": {},
   "outputs": [
    {
     "data": {
      "text/html": [
       "<div>\n",
       "<style scoped>\n",
       "    .dataframe tbody tr th:only-of-type {\n",
       "        vertical-align: middle;\n",
       "    }\n",
       "\n",
       "    .dataframe tbody tr th {\n",
       "        vertical-align: top;\n",
       "    }\n",
       "\n",
       "    .dataframe thead th {\n",
       "        text-align: right;\n",
       "    }\n",
       "</style>\n",
       "<table border=\"1\" class=\"dataframe\">\n",
       "  <thead>\n",
       "    <tr style=\"text-align: right;\">\n",
       "      <th></th>\n",
       "      <th>Day</th>\n",
       "      <th>Name_2021 Graduate Summer Internship Program Technology and Opera...</th>\n",
       "      <th>Name_AMTS Software Engineer, Mulesoft</th>\n",
       "      <th>Name_Android Engineer</th>\n",
       "      <th>Name_Android Engineer (Consumer Apps) - San Francisco</th>\n",
       "      <th>Name_Android Engineer - Quip</th>\n",
       "      <th>Name_Android Software Engineer, Adobe Spark</th>\n",
       "      <th>Name_Android developer</th>\n",
       "      <th>Name_Associate Game Designer (New Project)</th>\n",
       "      <th>Name_Associate Gameplay Engineer</th>\n",
       "      <th>...</th>\n",
       "      <th>City_San Leandro, CA 94577</th>\n",
       "      <th>City_San Mateo, CA</th>\n",
       "      <th>City_San Mateo, CA 94402 (Aragon area)</th>\n",
       "      <th>City_San Mateo, CA 94402 (Sunnybrae area)</th>\n",
       "      <th>City_San Mateo, CA 94403 (Sugerloaf area)</th>\n",
       "      <th>City_San Mateo, CA 94404</th>\n",
       "      <th>City_Sausalito, CA</th>\n",
       "      <th>City_South San Francisco, CA</th>\n",
       "      <th>City_South San Francisco, CA 94080</th>\n",
       "      <th>City_Walnut Creek, CA</th>\n",
       "    </tr>\n",
       "  </thead>\n",
       "  <tbody>\n",
       "    <tr>\n",
       "      <th>691</th>\n",
       "      <td>30</td>\n",
       "      <td>0</td>\n",
       "      <td>0</td>\n",
       "      <td>0</td>\n",
       "      <td>0</td>\n",
       "      <td>0</td>\n",
       "      <td>0</td>\n",
       "      <td>0</td>\n",
       "      <td>0</td>\n",
       "      <td>0</td>\n",
       "      <td>...</td>\n",
       "      <td>0</td>\n",
       "      <td>0</td>\n",
       "      <td>0</td>\n",
       "      <td>0</td>\n",
       "      <td>0</td>\n",
       "      <td>0</td>\n",
       "      <td>0</td>\n",
       "      <td>0</td>\n",
       "      <td>0</td>\n",
       "      <td>0</td>\n",
       "    </tr>\n",
       "    <tr>\n",
       "      <th>1115</th>\n",
       "      <td>22</td>\n",
       "      <td>0</td>\n",
       "      <td>0</td>\n",
       "      <td>0</td>\n",
       "      <td>0</td>\n",
       "      <td>0</td>\n",
       "      <td>0</td>\n",
       "      <td>0</td>\n",
       "      <td>0</td>\n",
       "      <td>0</td>\n",
       "      <td>...</td>\n",
       "      <td>0</td>\n",
       "      <td>0</td>\n",
       "      <td>0</td>\n",
       "      <td>0</td>\n",
       "      <td>0</td>\n",
       "      <td>0</td>\n",
       "      <td>0</td>\n",
       "      <td>0</td>\n",
       "      <td>0</td>\n",
       "      <td>0</td>\n",
       "    </tr>\n",
       "    <tr>\n",
       "      <th>898</th>\n",
       "      <td>30</td>\n",
       "      <td>0</td>\n",
       "      <td>0</td>\n",
       "      <td>0</td>\n",
       "      <td>0</td>\n",
       "      <td>0</td>\n",
       "      <td>0</td>\n",
       "      <td>0</td>\n",
       "      <td>0</td>\n",
       "      <td>0</td>\n",
       "      <td>...</td>\n",
       "      <td>0</td>\n",
       "      <td>0</td>\n",
       "      <td>0</td>\n",
       "      <td>0</td>\n",
       "      <td>0</td>\n",
       "      <td>0</td>\n",
       "      <td>0</td>\n",
       "      <td>0</td>\n",
       "      <td>0</td>\n",
       "      <td>0</td>\n",
       "    </tr>\n",
       "    <tr>\n",
       "      <th>138</th>\n",
       "      <td>12</td>\n",
       "      <td>0</td>\n",
       "      <td>0</td>\n",
       "      <td>0</td>\n",
       "      <td>0</td>\n",
       "      <td>0</td>\n",
       "      <td>0</td>\n",
       "      <td>0</td>\n",
       "      <td>0</td>\n",
       "      <td>0</td>\n",
       "      <td>...</td>\n",
       "      <td>0</td>\n",
       "      <td>0</td>\n",
       "      <td>0</td>\n",
       "      <td>0</td>\n",
       "      <td>0</td>\n",
       "      <td>0</td>\n",
       "      <td>0</td>\n",
       "      <td>0</td>\n",
       "      <td>0</td>\n",
       "      <td>0</td>\n",
       "    </tr>\n",
       "    <tr>\n",
       "      <th>907</th>\n",
       "      <td>30</td>\n",
       "      <td>0</td>\n",
       "      <td>0</td>\n",
       "      <td>0</td>\n",
       "      <td>0</td>\n",
       "      <td>0</td>\n",
       "      <td>0</td>\n",
       "      <td>0</td>\n",
       "      <td>0</td>\n",
       "      <td>0</td>\n",
       "      <td>...</td>\n",
       "      <td>0</td>\n",
       "      <td>0</td>\n",
       "      <td>0</td>\n",
       "      <td>0</td>\n",
       "      <td>0</td>\n",
       "      <td>0</td>\n",
       "      <td>0</td>\n",
       "      <td>0</td>\n",
       "      <td>0</td>\n",
       "      <td>0</td>\n",
       "    </tr>\n",
       "    <tr>\n",
       "      <th>...</th>\n",
       "      <td>...</td>\n",
       "      <td>...</td>\n",
       "      <td>...</td>\n",
       "      <td>...</td>\n",
       "      <td>...</td>\n",
       "      <td>...</td>\n",
       "      <td>...</td>\n",
       "      <td>...</td>\n",
       "      <td>...</td>\n",
       "      <td>...</td>\n",
       "      <td>...</td>\n",
       "      <td>...</td>\n",
       "      <td>...</td>\n",
       "      <td>...</td>\n",
       "      <td>...</td>\n",
       "      <td>...</td>\n",
       "      <td>...</td>\n",
       "      <td>...</td>\n",
       "      <td>...</td>\n",
       "      <td>...</td>\n",
       "      <td>...</td>\n",
       "    </tr>\n",
       "    <tr>\n",
       "      <th>1327</th>\n",
       "      <td>16</td>\n",
       "      <td>0</td>\n",
       "      <td>0</td>\n",
       "      <td>0</td>\n",
       "      <td>0</td>\n",
       "      <td>0</td>\n",
       "      <td>0</td>\n",
       "      <td>0</td>\n",
       "      <td>0</td>\n",
       "      <td>0</td>\n",
       "      <td>...</td>\n",
       "      <td>0</td>\n",
       "      <td>0</td>\n",
       "      <td>0</td>\n",
       "      <td>0</td>\n",
       "      <td>0</td>\n",
       "      <td>0</td>\n",
       "      <td>0</td>\n",
       "      <td>0</td>\n",
       "      <td>0</td>\n",
       "      <td>0</td>\n",
       "    </tr>\n",
       "    <tr>\n",
       "      <th>321</th>\n",
       "      <td>15</td>\n",
       "      <td>0</td>\n",
       "      <td>0</td>\n",
       "      <td>0</td>\n",
       "      <td>0</td>\n",
       "      <td>0</td>\n",
       "      <td>0</td>\n",
       "      <td>0</td>\n",
       "      <td>0</td>\n",
       "      <td>0</td>\n",
       "      <td>...</td>\n",
       "      <td>0</td>\n",
       "      <td>0</td>\n",
       "      <td>0</td>\n",
       "      <td>0</td>\n",
       "      <td>0</td>\n",
       "      <td>0</td>\n",
       "      <td>0</td>\n",
       "      <td>0</td>\n",
       "      <td>0</td>\n",
       "      <td>0</td>\n",
       "    </tr>\n",
       "    <tr>\n",
       "      <th>1045</th>\n",
       "      <td>22</td>\n",
       "      <td>0</td>\n",
       "      <td>0</td>\n",
       "      <td>0</td>\n",
       "      <td>0</td>\n",
       "      <td>0</td>\n",
       "      <td>0</td>\n",
       "      <td>0</td>\n",
       "      <td>0</td>\n",
       "      <td>0</td>\n",
       "      <td>...</td>\n",
       "      <td>0</td>\n",
       "      <td>0</td>\n",
       "      <td>0</td>\n",
       "      <td>0</td>\n",
       "      <td>0</td>\n",
       "      <td>0</td>\n",
       "      <td>0</td>\n",
       "      <td>0</td>\n",
       "      <td>0</td>\n",
       "      <td>0</td>\n",
       "    </tr>\n",
       "    <tr>\n",
       "      <th>950</th>\n",
       "      <td>29</td>\n",
       "      <td>0</td>\n",
       "      <td>0</td>\n",
       "      <td>0</td>\n",
       "      <td>0</td>\n",
       "      <td>0</td>\n",
       "      <td>0</td>\n",
       "      <td>0</td>\n",
       "      <td>0</td>\n",
       "      <td>0</td>\n",
       "      <td>...</td>\n",
       "      <td>0</td>\n",
       "      <td>0</td>\n",
       "      <td>0</td>\n",
       "      <td>0</td>\n",
       "      <td>0</td>\n",
       "      <td>0</td>\n",
       "      <td>0</td>\n",
       "      <td>0</td>\n",
       "      <td>0</td>\n",
       "      <td>0</td>\n",
       "    </tr>\n",
       "    <tr>\n",
       "      <th>1123</th>\n",
       "      <td>3</td>\n",
       "      <td>0</td>\n",
       "      <td>0</td>\n",
       "      <td>0</td>\n",
       "      <td>0</td>\n",
       "      <td>0</td>\n",
       "      <td>0</td>\n",
       "      <td>0</td>\n",
       "      <td>0</td>\n",
       "      <td>0</td>\n",
       "      <td>...</td>\n",
       "      <td>0</td>\n",
       "      <td>0</td>\n",
       "      <td>0</td>\n",
       "      <td>0</td>\n",
       "      <td>0</td>\n",
       "      <td>0</td>\n",
       "      <td>0</td>\n",
       "      <td>0</td>\n",
       "      <td>0</td>\n",
       "      <td>0</td>\n",
       "    </tr>\n",
       "  </tbody>\n",
       "</table>\n",
       "<p>728 rows × 708 columns</p>\n",
       "</div>"
      ],
      "text/plain": [
       "      Day  \\\n",
       "691    30   \n",
       "1115   22   \n",
       "898    30   \n",
       "138    12   \n",
       "907    30   \n",
       "...   ...   \n",
       "1327   16   \n",
       "321    15   \n",
       "1045   22   \n",
       "950    29   \n",
       "1123    3   \n",
       "\n",
       "      Name_2021 Graduate Summer Internship Program Technology and Opera...  \\\n",
       "691                                                   0                      \n",
       "1115                                                  0                      \n",
       "898                                                   0                      \n",
       "138                                                   0                      \n",
       "907                                                   0                      \n",
       "...                                                 ...                      \n",
       "1327                                                  0                      \n",
       "321                                                   0                      \n",
       "1045                                                  0                      \n",
       "950                                                   0                      \n",
       "1123                                                  0                      \n",
       "\n",
       "      Name_AMTS Software Engineer, Mulesoft  Name_Android Engineer  \\\n",
       "691                                       0                      0   \n",
       "1115                                      0                      0   \n",
       "898                                       0                      0   \n",
       "138                                       0                      0   \n",
       "907                                       0                      0   \n",
       "...                                     ...                    ...   \n",
       "1327                                      0                      0   \n",
       "321                                       0                      0   \n",
       "1045                                      0                      0   \n",
       "950                                       0                      0   \n",
       "1123                                      0                      0   \n",
       "\n",
       "      Name_Android Engineer (Consumer Apps) - San Francisco  \\\n",
       "691                                                   0       \n",
       "1115                                                  0       \n",
       "898                                                   0       \n",
       "138                                                   0       \n",
       "907                                                   0       \n",
       "...                                                 ...       \n",
       "1327                                                  0       \n",
       "321                                                   0       \n",
       "1045                                                  0       \n",
       "950                                                   0       \n",
       "1123                                                  0       \n",
       "\n",
       "      Name_Android Engineer - Quip  \\\n",
       "691                              0   \n",
       "1115                             0   \n",
       "898                              0   \n",
       "138                              0   \n",
       "907                              0   \n",
       "...                            ...   \n",
       "1327                             0   \n",
       "321                              0   \n",
       "1045                             0   \n",
       "950                              0   \n",
       "1123                             0   \n",
       "\n",
       "      Name_Android Software Engineer, Adobe Spark  Name_Android developer  \\\n",
       "691                                             0                       0   \n",
       "1115                                            0                       0   \n",
       "898                                             0                       0   \n",
       "138                                             0                       0   \n",
       "907                                             0                       0   \n",
       "...                                           ...                     ...   \n",
       "1327                                            0                       0   \n",
       "321                                             0                       0   \n",
       "1045                                            0                       0   \n",
       "950                                             0                       0   \n",
       "1123                                            0                       0   \n",
       "\n",
       "      Name_Associate Game Designer (New Project)  \\\n",
       "691                                            0   \n",
       "1115                                           0   \n",
       "898                                            0   \n",
       "138                                            0   \n",
       "907                                            0   \n",
       "...                                          ...   \n",
       "1327                                           0   \n",
       "321                                            0   \n",
       "1045                                           0   \n",
       "950                                            0   \n",
       "1123                                           0   \n",
       "\n",
       "      Name_Associate Gameplay Engineer  ...  City_San Leandro, CA 94577  \\\n",
       "691                                  0  ...                           0   \n",
       "1115                                 0  ...                           0   \n",
       "898                                  0  ...                           0   \n",
       "138                                  0  ...                           0   \n",
       "907                                  0  ...                           0   \n",
       "...                                ...  ...                         ...   \n",
       "1327                                 0  ...                           0   \n",
       "321                                  0  ...                           0   \n",
       "1045                                 0  ...                           0   \n",
       "950                                  0  ...                           0   \n",
       "1123                                 0  ...                           0   \n",
       "\n",
       "      City_San Mateo, CA  City_San Mateo, CA 94402 (Aragon area)  \\\n",
       "691                    0                                       0   \n",
       "1115                   0                                       0   \n",
       "898                    0                                       0   \n",
       "138                    0                                       0   \n",
       "907                    0                                       0   \n",
       "...                  ...                                     ...   \n",
       "1327                   0                                       0   \n",
       "321                    0                                       0   \n",
       "1045                   0                                       0   \n",
       "950                    0                                       0   \n",
       "1123                   0                                       0   \n",
       "\n",
       "      City_San Mateo, CA 94402 (Sunnybrae area)  \\\n",
       "691                                           0   \n",
       "1115                                          0   \n",
       "898                                           0   \n",
       "138                                           0   \n",
       "907                                           0   \n",
       "...                                         ...   \n",
       "1327                                          0   \n",
       "321                                           0   \n",
       "1045                                          0   \n",
       "950                                           0   \n",
       "1123                                          0   \n",
       "\n",
       "      City_San Mateo, CA 94403 (Sugerloaf area)  City_San Mateo, CA 94404  \\\n",
       "691                                           0                         0   \n",
       "1115                                          0                         0   \n",
       "898                                           0                         0   \n",
       "138                                           0                         0   \n",
       "907                                           0                         0   \n",
       "...                                         ...                       ...   \n",
       "1327                                          0                         0   \n",
       "321                                           0                         0   \n",
       "1045                                          0                         0   \n",
       "950                                           0                         0   \n",
       "1123                                          0                         0   \n",
       "\n",
       "      City_Sausalito, CA  City_South San Francisco, CA  \\\n",
       "691                    0                             0   \n",
       "1115                   0                             0   \n",
       "898                    0                             0   \n",
       "138                    0                             0   \n",
       "907                    0                             0   \n",
       "...                  ...                           ...   \n",
       "1327                   0                             0   \n",
       "321                    0                             0   \n",
       "1045                   0                             0   \n",
       "950                    0                             0   \n",
       "1123                   0                             0   \n",
       "\n",
       "      City_South San Francisco, CA 94080  City_Walnut Creek, CA  \n",
       "691                                    0                      0  \n",
       "1115                                   0                      0  \n",
       "898                                    0                      0  \n",
       "138                                    0                      0  \n",
       "907                                    0                      0  \n",
       "...                                  ...                    ...  \n",
       "1327                                   0                      0  \n",
       "321                                    0                      0  \n",
       "1045                                   0                      0  \n",
       "950                                    0                      0  \n",
       "1123                                   0                      0  \n",
       "\n",
       "[728 rows x 708 columns]"
      ]
     },
     "execution_count": 83,
     "metadata": {},
     "output_type": "execute_result"
    }
   ],
   "source": [
    "# Splitting the dataset into the Training and Validation set\n",
    "X_train, X_valid, y_train, y_valid = train_test_split(X, y, test_size = 0.2, random_state = 0)\n",
    "\n",
    "X_train"
   ]
  },
  {
   "cell_type": "markdown",
   "metadata": {},
   "source": [
    "\n",
    "**The model I'm using here is the Random Forest model for regression-**\n",
    "\n",
    "Random Forest model is one of the most accurate learning algorithms available. For many data sets, it produces a highly accurate regressor. It would also be efficient if we would like to test it on larger databases. This model also allows me to test which features are important in the regression. The disadvantages of this model, as you would see next, is that it can overfit for the dataset. Another problematic issue can be with data including categorical variables with different number of levels, random forests are biased in favor of those attributes with more levels."
   ]
  },
  {
   "cell_type": "markdown",
   "metadata": {},
   "source": [
    "#### Random Hyperparameter Grid- "
   ]
  },
  {
   "cell_type": "markdown",
   "metadata": {},
   "source": [
    "##### find the best hyperparameters for the Random Forest Regressor"
   ]
  },
  {
   "cell_type": "code",
   "execution_count": 84,
   "metadata": {},
   "outputs": [],
   "source": [
    "# Number of trees in random forest\n",
    "n_estimators = [int(x) for x in np.linspace(start = 5, stop = 100, num = 10)]\n",
    "# Number of features to consider at every split\n",
    "max_features = ['auto', 'sqrt']\n",
    "# Maximum number of levels in tree\n",
    "max_depth = [int(x) for x in np.linspace(4, 60, num = 2)]\n",
    "max_depth.append(None)\n",
    "# Minimum number of samples required to split a node\n",
    "min_samples_split = [2, 5, 10, 15, 20]\n",
    "# Minimum number of samples required at each leaf node\n",
    "min_samples_leaf = [1, 2, 4]\n",
    "# Method of selecting samples for training each tree\n",
    "bootstrap = [True, False]\n",
    "# Create the random grid\n",
    "random_grid = {'n_estimators': n_estimators,\n",
    "               'max_features': max_features,\n",
    "               'max_depth': max_depth,\n",
    "               'min_samples_split': min_samples_split,\n",
    "               'min_samples_leaf': min_samples_leaf,\n",
    "               'bootstrap': bootstrap}"
   ]
  },
  {
   "cell_type": "code",
   "execution_count": 85,
   "metadata": {},
   "outputs": [],
   "source": [
    "def evaluate(model, test_features, test_labels):\n",
    "    predictions = model.predict(test_features)\n",
    "    errors = abs(predictions - test_labels)\n",
    "    mape = 100 * np.mean(errors / test_labels)\n",
    "    accuracy = 100 - mape\n",
    "    print('Model Performance')\n",
    "    print('Average Error: {:0.4f} degrees.'.format(np.mean(errors)))\n",
    "    print('Accuracy = {:0.2f}%.'.format(accuracy))\n",
    "    \n",
    "    return accuracy"
   ]
  },
  {
   "cell_type": "markdown",
   "metadata": {},
   "source": [
    "This part would take a lot of time please be patient:"
   ]
  },
  {
   "cell_type": "code",
   "execution_count": null,
   "metadata": {},
   "outputs": [],
   "source": [
    "base_model = RandomForestRegressor(random_state = 0)\n",
    "\n",
    "rf_random = RandomizedSearchCV(estimator = base_model, param_distributions = random_grid, \n",
    "                               n_iter = 100, cv = 5, random_state = 0)\n",
    "rf_random.fit(X_train, y_train)\n",
    "\n",
    "print(rf_random.best_params_)"
   ]
  },
  {
   "cell_type": "code",
   "execution_count": 86,
   "metadata": {},
   "outputs": [
    {
     "name": "stdout",
     "output_type": "stream",
     "text": [
      "Base Model\n",
      "Model Performance\n",
      "Average Error: 0.1114 degrees.\n",
      "Accuracy = 96.80%.\n",
      "\n",
      "Best Estimator Performance\n",
      "Model Performance\n",
      "Average Error: 0.0868 degrees.\n",
      "Accuracy = 97.46%.\n",
      "Improvement of 0.68%.\n"
     ]
    }
   ],
   "source": [
    "print('Base Model')\n",
    "base_model.fit(X_train, y_train)\n",
    "base_accuracy = evaluate(base_model, X_valid, y_valid)\n",
    "\n",
    "print('\\nBest Estimator Performance')\n",
    "best_random = rf_random.best_estimator_\n",
    "random_accuracy = evaluate(best_random, X_valid, y_valid)\n",
    "\n",
    "print('Improvement of {:0.2f}%.'.format( 100 * (random_accuracy - base_accuracy) / base_accuracy))"
   ]
  },
  {
   "cell_type": "markdown",
   "metadata": {},
   "source": [
    "#### Instantiate a random forest regressor"
   ]
  },
  {
   "cell_type": "markdown",
   "metadata": {},
   "source": [
    "Hyperparameters were determined according to randomized search above"
   ]
  },
  {
   "cell_type": "code",
   "execution_count": 87,
   "metadata": {},
   "outputs": [
    {
     "data": {
      "text/plain": [
       "RandomForestRegressor(bootstrap=False, min_samples_split=15, n_estimators=78,\n",
       "                      random_state=0)"
      ]
     },
     "execution_count": 87,
     "metadata": {},
     "output_type": "execute_result"
    }
   ],
   "source": [
    "Model = RandomForestRegressor(n_estimators = 78, min_samples_split=15, min_samples_leaf=1, \n",
    "                               max_features='auto', max_depth=None, bootstrap=False, random_state = 0)\n",
    "Model.fit(X_train, y_train)"
   ]
  },
  {
   "cell_type": "code",
   "execution_count": 88,
   "metadata": {},
   "outputs": [],
   "source": [
    "y_pred = Model.predict(X_valid)"
   ]
  },
  {
   "cell_type": "code",
   "execution_count": 89,
   "metadata": {},
   "outputs": [
    {
     "data": {
      "text/html": [
       "<div>\n",
       "<style scoped>\n",
       "    .dataframe tbody tr th:only-of-type {\n",
       "        vertical-align: middle;\n",
       "    }\n",
       "\n",
       "    .dataframe tbody tr th {\n",
       "        vertical-align: top;\n",
       "    }\n",
       "\n",
       "    .dataframe thead th {\n",
       "        text-align: right;\n",
       "    }\n",
       "</style>\n",
       "<table border=\"1\" class=\"dataframe\">\n",
       "  <thead>\n",
       "    <tr style=\"text-align: right;\">\n",
       "      <th></th>\n",
       "      <th>y_valid</th>\n",
       "      <th>y_pred</th>\n",
       "      <th>y_baseline</th>\n",
       "    </tr>\n",
       "  </thead>\n",
       "  <tbody>\n",
       "    <tr>\n",
       "      <th>431</th>\n",
       "      <td>4.3</td>\n",
       "      <td>4.300000</td>\n",
       "      <td>3</td>\n",
       "    </tr>\n",
       "    <tr>\n",
       "      <th>1180</th>\n",
       "      <td>4.1</td>\n",
       "      <td>4.100000</td>\n",
       "      <td>3</td>\n",
       "    </tr>\n",
       "    <tr>\n",
       "      <th>504</th>\n",
       "      <td>4.3</td>\n",
       "      <td>3.745540</td>\n",
       "      <td>3</td>\n",
       "    </tr>\n",
       "    <tr>\n",
       "      <th>1025</th>\n",
       "      <td>3.9</td>\n",
       "      <td>3.900000</td>\n",
       "      <td>3</td>\n",
       "    </tr>\n",
       "    <tr>\n",
       "      <th>237</th>\n",
       "      <td>4.1</td>\n",
       "      <td>4.100000</td>\n",
       "      <td>3</td>\n",
       "    </tr>\n",
       "    <tr>\n",
       "      <th>...</th>\n",
       "      <td>...</td>\n",
       "      <td>...</td>\n",
       "      <td>...</td>\n",
       "    </tr>\n",
       "    <tr>\n",
       "      <th>1417</th>\n",
       "      <td>3.6</td>\n",
       "      <td>3.600000</td>\n",
       "      <td>3</td>\n",
       "    </tr>\n",
       "    <tr>\n",
       "      <th>685</th>\n",
       "      <td>4.1</td>\n",
       "      <td>4.100000</td>\n",
       "      <td>3</td>\n",
       "    </tr>\n",
       "    <tr>\n",
       "      <th>1213</th>\n",
       "      <td>4.8</td>\n",
       "      <td>4.800000</td>\n",
       "      <td>3</td>\n",
       "    </tr>\n",
       "    <tr>\n",
       "      <th>3</th>\n",
       "      <td>4.1</td>\n",
       "      <td>4.100000</td>\n",
       "      <td>3</td>\n",
       "    </tr>\n",
       "    <tr>\n",
       "      <th>714</th>\n",
       "      <td>3.9</td>\n",
       "      <td>3.887594</td>\n",
       "      <td>3</td>\n",
       "    </tr>\n",
       "  </tbody>\n",
       "</table>\n",
       "<p>182 rows × 3 columns</p>\n",
       "</div>"
      ],
      "text/plain": [
       "      y_valid    y_pred  y_baseline\n",
       "431       4.3  4.300000           3\n",
       "1180      4.1  4.100000           3\n",
       "504       4.3  3.745540           3\n",
       "1025      3.9  3.900000           3\n",
       "237       4.1  4.100000           3\n",
       "...       ...       ...         ...\n",
       "1417      3.6  3.600000           3\n",
       "685       4.1  4.100000           3\n",
       "1213      4.8  4.800000           3\n",
       "3         4.1  4.100000           3\n",
       "714       3.9  3.887594           3\n",
       "\n",
       "[182 rows x 3 columns]"
      ]
     },
     "execution_count": 89,
     "metadata": {},
     "output_type": "execute_result"
    }
   ],
   "source": [
    "df_valid_vs_pred = pd.DataFrame()\n",
    "df_valid_vs_pred['y_valid'] = y_valid\n",
    "df_valid_vs_pred['y_pred'] = y_pred\n",
    "df_valid_vs_pred['y_baseline'] = 3\n",
    "\n",
    "df_valid_vs_pred"
   ]
  },
  {
   "cell_type": "code",
   "execution_count": 90,
   "metadata": {},
   "outputs": [
    {
     "data": {
      "text/plain": [
       "<matplotlib.legend.Legend at 0x1e529448a60>"
      ]
     },
     "execution_count": 90,
     "metadata": {},
     "output_type": "execute_result"
    },
    {
     "data": {
      "image/png": "[encoded data removed]",
      "text/plain": [
       "<Figure size 720x360 with 1 Axes>"
      ]
     },
     "metadata": {
      "needs_background": "light"
     },
     "output_type": "display_data"
    }
   ],
   "source": [
    "plt.figure(figsize=(10,5))\n",
    "plt.scatter(np.arange(len(y_valid)), y_valid, color = 'red', label='validation')\n",
    "plt.plot(np.arange(len(y_pred)),y_pred, color = 'blue', alpha =0.5, label='prediction')\n",
    "plt.title('Random Forest Regression results')\n",
    "plt.xlabel('index')\n",
    "plt.ylabel('Rating')\n",
    "plt.legend()"
   ]
  },
  {
   "cell_type": "code",
   "execution_count": 91,
   "metadata": {},
   "outputs": [
    {
     "data": {
      "text/plain": [
       "Text(-4, 0.2, 'y=0.83X+0.79')"
      ]
     },
     "execution_count": 91,
     "metadata": {},
     "output_type": "execute_result"
    },
    {
     "data": {
      "image/png": "[encoded data removed]",
      "text/plain": [
       "<Figure size 432x432 with 3 Axes>"
      ]
     },
     "metadata": {
      "needs_background": "light"
     },
     "output_type": "display_data"
    }
   ],
   "source": [
    "g = sns.jointplot(x='y_valid', y='y_pred', data = df_valid_vs_pred, kind=\"reg\" )\n",
    "from sklearn import linear_model\n",
    "regr = linear_model.LinearRegression()\n",
    "X = df_valid_vs_pred.y_valid.values.reshape(-1,1)\n",
    "y = df_valid_vs_pred.y_pred.values.reshape(-1,1)\n",
    "regr.fit(X, y)\n",
    "b = round(regr.coef_[0][0],2)\n",
    "a = round(regr.intercept_[0],2)\n",
    "# g = sns.lmplot('x','y',df,fit_reg=True,aspect=1.5,ci=None, scatter_kws={\"s\": 100})\n",
    "ax = plt.gca()\n",
    "ax.text(-4, 0.2, f\"y={a}X+{b}\", transform=ax.transAxes, size='medium', color='black', weight='semibold')\n"
   ]
  },
  {
   "cell_type": "code",
   "execution_count": 92,
   "metadata": {},
   "outputs": [
    {
     "name": "stdout",
     "output_type": "stream",
     "text": [
      "Mean Absolute Error: 0.08681916456324999\n",
      "Mean Squared Error: 0.05349043911754769\n",
      "Root Mean Squared Error: 0.23128000155125322\n",
      "\n",
      "Mean Absolute Error: 1.0252747252747252\n",
      "Mean Squared Error: 1.2826373626373624\n",
      "Root Mean Squared Error: 1.1325358107527383\n"
     ]
    }
   ],
   "source": [
    "from sklearn import metrics\n",
    "\n",
    "print('Mean Absolute Error:', metrics.mean_absolute_error(y_valid, y_pred))\n",
    "print('Mean Squared Error:', metrics.mean_squared_error(y_valid, y_pred))\n",
    "print('Root Mean Squared Error:', np.sqrt(metrics.mean_squared_error(y_valid, y_pred)))\n",
    "\n",
    "print('\\nMean Absolute Error:', metrics.mean_absolute_error(y_valid, df_valid_vs_pred['y_baseline']))\n",
    "print('Mean Squared Error:', metrics.mean_squared_error(y_valid,  df_valid_vs_pred['y_baseline']))\n",
    "print('Root Mean Squared Error:', np.sqrt(metrics.mean_squared_error(y_valid,  df_valid_vs_pred['y_baseline'])))\n"
   ]
  },
  {
   "cell_type": "code",
   "execution_count": 106,
   "metadata": {},
   "outputs": [],
   "source": [
    "def visualize_features_importance(df):\n",
    "    \n",
    "    importances = Model.feature_importances_ \n",
    "    features_X_train = list(df.columns)   \n",
    "    df_import_Xtrain = pd.DataFrame(list(zip(features_X_train, importances)), \n",
    "                                    columns =['features', 'importances'])    \n",
    "    df_import_Xtrain['std'] = np.std([Model.feature_importances_ for tree in Model.estimators_], axis=0)   \n",
    "    df_import_Xtrain = df_import_Xtrain[df_import_Xtrain['importances']>0.01]   \n",
    "    df_import_Xtrain.sort_values(by='importances', inplace=True, ascending=False)    \n",
    "    # Plot feature importances of the forest\n",
    "    plt.figure()\n",
    "    plt.title(\"Features importances\")\n",
    "    plt.bar(df_import_Xtrain['features'], df_import_Xtrain['importances'],\n",
    "            color=\"r\", yerr=df_import_Xtrain['std'], align=\"center\")\n",
    "    plt.xticks(range(len(df_import_Xtrain)), df_import_Xtrain['features'], rotation = 'vertical')   "
   ]
  },
  {
   "cell_type": "markdown",
   "metadata": {},
   "source": [
    "Std is very small therefore it will not appear on graph"
   ]
  },
  {
   "cell_type": "code",
   "execution_count": 107,
   "metadata": {},
   "outputs": [
    {
     "data": {
      "image/png": "[encoded data removed]",
      "text/plain": [
       "<Figure size 432x288 with 1 Axes>"
      ]
     },
     "metadata": {
      "needs_background": "light"
     },
     "output_type": "display_data"
    }
   ],
   "source": [
    "visualize_features_importance(X_train)"
   ]
  },
  {
   "cell_type": "markdown",
   "metadata": {},
   "source": [
    "As we can see the most important feature affecting the label result is the company name (Ditto Technologies).  The model  gives a good prediction over the validation group (RMSE of 0.23). A lot of work can be done in order to improve the model, for example we can add much more data (The robot protection of the site prevented me from downloading more data), continue playing with the hyperparameters for a better result, we can revaluate the random search algorithm aand we can try more models and evaluate them."
   ]
  }
 ],
 "metadata": {
  "kernelspec": {
   "display_name": "Python 3 (ipykernel)",
   "language": "python",
   "name": "python3"
  },
  "language_info": {
   "codemirror_mode": {
    "name": "ipython",
    "version": 3
   },
   "file_extension": ".py",
   "mimetype": "text/x-python",
   "name": "python",
   "nbconvert_exporter": "python",
   "pygments_lexer": "ipython3",
   "version": "3.9.12"
  }
 },
 "nbformat": 4,
 "nbformat_minor": 4
}
